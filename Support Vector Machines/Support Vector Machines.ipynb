{
  "nbformat": 4,
  "nbformat_minor": 0,
  "metadata": {
    "colab": {
      "name": "B19EE046 Lab-9.ipynb",
      "provenance": [],
      "collapsed_sections": [],
      "toc_visible": true
    },
    "kernelspec": {
      "display_name": "Python 3",
      "name": "python3"
    },
    "language_info": {
      "name": "python"
    }
  },
  "cells": [
    {
      "cell_type": "code",
      "metadata": {
        "id": "Y4YDrWPhUd4I"
      },
      "source": [
        "from sklearn.datasets import fetch_openml\n",
        "import matplotlib.pyplot as plt\n",
        "import pandas as pd\n",
        "from sklearn.model_selection import train_test_split\n",
        "from sklearn.model_selection import GridSearchCV as GSCV\n",
        "from sklearn.svm import SVC\n",
        "from sklearn.linear_model import Perceptron\n",
        "from sklearn.neighbors import KNeighborsClassifier as KNC\n",
        "from sklearn.preprocessing import StandardScaler, MinMaxScaler\n",
        "from sklearn.multiclass import OneVsOneClassifier as OVO\n",
        "from sklearn.multiclass import OneVsRestClassifier as OVA\n",
        "from mlxtend.plotting import plot_decision_regions\n",
        "from sklearn.decomposition import PCA\n",
        "import warnings\n",
        "import matplotlib.cbook\n",
        "warnings.filterwarnings(\"ignore\",category=matplotlib.cbook.mplDeprecation)"
      ],
      "execution_count": 1,
      "outputs": []
    },
    {
      "cell_type": "code",
      "metadata": {
        "id": "dqinHgDbW63h"
      },
      "source": [
        "mnist = fetch_openml('mnist_784')\n",
        "df = pd.DataFrame(mnist.data,columns=[i for i in range(0,784)])\n",
        "df['Output'] = mnist.target.astype('int')\n",
        "df_req = df[df['Output'] <= 4]"
      ],
      "execution_count": null,
      "outputs": []
    },
    {
      "cell_type": "code",
      "metadata": {
        "id": "Jv9Hid90XLkK"
      },
      "source": [
        "x_train,x_non,y_train,y_non = train_test_split(df_req.iloc[:,:-1],df_req['Output'],test_size = 0.3)\n",
        "x_val,x_test,y_val,y_test = train_test_split(x_non,y_non,test_size = 0.3334)"
      ],
      "execution_count": null,
      "outputs": []
    },
    {
      "cell_type": "code",
      "metadata": {
        "id": "8FQkYK1OZluB"
      },
      "source": [
        "knc_param = {'n_neighbors' : [2,3,4,5,6], 'weights' : ('uniform','distance')}\n",
        "svc_param = {'kernel' : ('linear','poly','rbf'), 'C' : [0.8,1.0,1.2], 'tol' : [0.001,0.01,0.1,1.0]}\n",
        "per_param = {'penalty' : ('l1','l2'), 'tol' : [0.001,0.01,0.1,1.0], 'class_weight' : (None,'balanced')}"
      ],
      "execution_count": null,
      "outputs": []
    },
    {
      "cell_type": "code",
      "metadata": {
        "id": "1W6vJboyEkWn"
      },
      "source": [
        "k = GSCV(KNC(), knc_param)\n",
        "s = GSCV(SVC(), svc_param)\n",
        "p = GSCV(Perceptron(), per_param)"
      ],
      "execution_count": null,
      "outputs": []
    },
    {
      "cell_type": "code",
      "metadata": {
        "colab": {
          "base_uri": "https://localhost:8080/"
        },
        "id": "7sc5ZuhuE0bT",
        "outputId": "a8d638fc-9e1d-4417-9322-f473639095d5"
      },
      "source": [
        "k.fit(x_val,y_val)\n",
        "k.cv_results_"
      ],
      "execution_count": null,
      "outputs": [
        {
          "output_type": "execute_result",
          "data": {
            "text/plain": [
              "{'mean_fit_time': array([0.51865721, 0.51489024, 0.52018704, 0.52030993, 0.51812549,\n",
              "        0.51557856, 0.51672997, 0.51544809, 0.5176722 , 0.52310591]),\n",
              " 'mean_score_time': array([9.82202554, 9.75924973, 9.82183709, 9.79370642, 9.79930077,\n",
              "        9.74623756, 9.81883216, 9.7739378 , 9.82902145, 9.86888862]),\n",
              " 'mean_test_score': array([0.97970814, 0.9841866 , 0.98334666, 0.98418641, 0.98138744,\n",
              "        0.98460638, 0.98152721, 0.98180712, 0.97830905, 0.98166756]),\n",
              " 'param_n_neighbors': masked_array(data=[2, 2, 3, 3, 4, 4, 5, 5, 6, 6],\n",
              "              mask=[False, False, False, False, False, False, False, False,\n",
              "                    False, False],\n",
              "        fill_value='?',\n",
              "             dtype=object),\n",
              " 'param_weights': masked_array(data=['uniform', 'distance', 'uniform', 'distance',\n",
              "                    'uniform', 'distance', 'uniform', 'distance',\n",
              "                    'uniform', 'distance'],\n",
              "              mask=[False, False, False, False, False, False, False, False,\n",
              "                    False, False],\n",
              "        fill_value='?',\n",
              "             dtype=object),\n",
              " 'params': [{'n_neighbors': 2, 'weights': 'uniform'},\n",
              "  {'n_neighbors': 2, 'weights': 'distance'},\n",
              "  {'n_neighbors': 3, 'weights': 'uniform'},\n",
              "  {'n_neighbors': 3, 'weights': 'distance'},\n",
              "  {'n_neighbors': 4, 'weights': 'uniform'},\n",
              "  {'n_neighbors': 4, 'weights': 'distance'},\n",
              "  {'n_neighbors': 5, 'weights': 'uniform'},\n",
              "  {'n_neighbors': 5, 'weights': 'distance'},\n",
              "  {'n_neighbors': 6, 'weights': 'uniform'},\n",
              "  {'n_neighbors': 6, 'weights': 'distance'}],\n",
              " 'rank_test_score': array([ 9,  2,  4,  3,  8,  1,  7,  5, 10,  6], dtype=int32),\n",
              " 'split0_test_score': array([0.98531469, 0.98671329, 0.98811189, 0.98811189, 0.98671329,\n",
              "        0.98741259, 0.98811189, 0.98811189, 0.98181818, 0.98531469]),\n",
              " 'split1_test_score': array([0.97340798, 0.98040588, 0.9790063 , 0.9790063 , 0.97620714,\n",
              "        0.9790063 , 0.97620714, 0.97620714, 0.97270819, 0.97620714]),\n",
              " 'split2_test_score': array([0.98250525, 0.98530441, 0.98740378, 0.98810357, 0.98530441,\n",
              "        0.98880336, 0.98530441, 0.98460462, 0.98250525, 0.98460462]),\n",
              " 'split3_test_score': array([0.97620714, 0.98320504, 0.9790063 , 0.98040588, 0.97760672,\n",
              "        0.98250525, 0.97690693, 0.97830651, 0.97620714, 0.9790063 ]),\n",
              " 'split4_test_score': array([0.98110567, 0.98530441, 0.98320504, 0.98530441, 0.98110567,\n",
              "        0.98530441, 0.98110567, 0.98180546, 0.97830651, 0.98320504]),\n",
              " 'std_fit_time': array([0.00527413, 0.00474254, 0.00547443, 0.00681425, 0.00311908,\n",
              "        0.00289679, 0.00227244, 0.00252024, 0.00389293, 0.00685726]),\n",
              " 'std_score_time': array([0.03945784, 0.03600295, 0.02434655, 0.02302892, 0.0226656 ,\n",
              "        0.01951323, 0.03402868, 0.02124835, 0.0181485 , 0.0572156 ]),\n",
              " 'std_test_score': array([0.00431646, 0.00219729, 0.00392085, 0.00382438, 0.00412107,\n",
              "        0.00351432, 0.0046358 , 0.0042706 , 0.00362518, 0.00349829])}"
            ]
          },
          "metadata": {
            "tags": []
          },
          "execution_count": 6
        }
      ]
    },
    {
      "cell_type": "code",
      "metadata": {
        "colab": {
          "base_uri": "https://localhost:8080/"
        },
        "id": "V-ftCHvwFCC0",
        "outputId": "14fb2640-0418-4cba-c806-aeaf32fafeb5"
      },
      "source": [
        "s.fit(x_val,y_val)\n",
        "s.cv_results_"
      ],
      "execution_count": null,
      "outputs": [
        {
          "output_type": "execute_result",
          "data": {
            "text/plain": [
              "{'mean_fit_time': array([3.2629509 , 3.26171522, 3.16371503, 2.74351153, 6.37073417,\n",
              "        6.31734824, 5.9759244 , 4.53307204, 5.86601577, 5.80298314,\n",
              "        5.18995934, 3.10870743, 3.16956215, 3.16227083, 3.12313671,\n",
              "        2.72573843, 6.04115028, 6.01486616, 5.72981219, 4.13854775,\n",
              "        5.61378508, 5.53543   , 4.98650751, 2.85094662, 3.15972123,\n",
              "        3.16461496, 3.06558652, 2.69774389, 5.76231871, 5.71866226,\n",
              "        5.38383594, 3.91654191, 5.5765718 , 5.49646287, 4.94743629,\n",
              "        2.73435559]),\n",
              " 'mean_score_time': array([0.84926429, 0.85688291, 0.86607728, 0.87007952, 1.24573364,\n",
              "        1.2293221 , 1.19067841, 0.93464203, 1.54102426, 1.51980791,\n",
              "        1.38167448, 0.92581067, 0.84044437, 0.84586387, 0.86186233,\n",
              "        0.87133441, 1.17946706, 1.18021808, 1.13712173, 0.86916976,\n",
              "        1.47662921, 1.4631927 , 1.36310616, 0.86381955, 0.84237547,\n",
              "        0.84228206, 0.85875583, 0.86684155, 1.12756376, 1.13716908,\n",
              "        1.08006315, 0.82898054, 1.45996084, 1.44071021, 1.33875132,\n",
              "        0.83176813]),\n",
              " 'mean_test_score': array([0.96095768, 0.96109774, 0.96151761, 0.96109754, 0.97677079,\n",
              "        0.97677079, 0.97747038, 0.98166834, 0.98488718, 0.98488718,\n",
              "        0.98474722, 0.98460707, 0.96095768, 0.96109774, 0.96151761,\n",
              "        0.96109754, 0.97831013, 0.97817027, 0.97859014, 0.98166834,\n",
              "        0.98558687, 0.98558687, 0.98544691, 0.98418719, 0.96095768,\n",
              "        0.96109774, 0.96151761, 0.96109754, 0.9794297 , 0.97956965,\n",
              "        0.97956965, 0.98250818, 0.98572683, 0.98572683, 0.98586669,\n",
              "        0.98530725]),\n",
              " 'param_C': masked_array(data=[0.8, 0.8, 0.8, 0.8, 0.8, 0.8, 0.8, 0.8, 0.8, 0.8, 0.8,\n",
              "                    0.8, 1.0, 1.0, 1.0, 1.0, 1.0, 1.0, 1.0, 1.0, 1.0, 1.0,\n",
              "                    1.0, 1.0, 1.2, 1.2, 1.2, 1.2, 1.2, 1.2, 1.2, 1.2, 1.2,\n",
              "                    1.2, 1.2, 1.2],\n",
              "              mask=[False, False, False, False, False, False, False, False,\n",
              "                    False, False, False, False, False, False, False, False,\n",
              "                    False, False, False, False, False, False, False, False,\n",
              "                    False, False, False, False, False, False, False, False,\n",
              "                    False, False, False, False],\n",
              "        fill_value='?',\n",
              "             dtype=object),\n",
              " 'param_kernel': masked_array(data=['linear', 'linear', 'linear', 'linear', 'poly', 'poly',\n",
              "                    'poly', 'poly', 'rbf', 'rbf', 'rbf', 'rbf', 'linear',\n",
              "                    'linear', 'linear', 'linear', 'poly', 'poly', 'poly',\n",
              "                    'poly', 'rbf', 'rbf', 'rbf', 'rbf', 'linear', 'linear',\n",
              "                    'linear', 'linear', 'poly', 'poly', 'poly', 'poly',\n",
              "                    'rbf', 'rbf', 'rbf', 'rbf'],\n",
              "              mask=[False, False, False, False, False, False, False, False,\n",
              "                    False, False, False, False, False, False, False, False,\n",
              "                    False, False, False, False, False, False, False, False,\n",
              "                    False, False, False, False, False, False, False, False,\n",
              "                    False, False, False, False],\n",
              "        fill_value='?',\n",
              "             dtype=object),\n",
              " 'param_tol': masked_array(data=[0.001, 0.01, 0.1, 1.0, 0.001, 0.01, 0.1, 1.0, 0.001,\n",
              "                    0.01, 0.1, 1.0, 0.001, 0.01, 0.1, 1.0, 0.001, 0.01,\n",
              "                    0.1, 1.0, 0.001, 0.01, 0.1, 1.0, 0.001, 0.01, 0.1, 1.0,\n",
              "                    0.001, 0.01, 0.1, 1.0, 0.001, 0.01, 0.1, 1.0],\n",
              "              mask=[False, False, False, False, False, False, False, False,\n",
              "                    False, False, False, False, False, False, False, False,\n",
              "                    False, False, False, False, False, False, False, False,\n",
              "                    False, False, False, False, False, False, False, False,\n",
              "                    False, False, False, False],\n",
              "        fill_value='?',\n",
              "             dtype=object),\n",
              " 'params': [{'C': 0.8, 'kernel': 'linear', 'tol': 0.001},\n",
              "  {'C': 0.8, 'kernel': 'linear', 'tol': 0.01},\n",
              "  {'C': 0.8, 'kernel': 'linear', 'tol': 0.1},\n",
              "  {'C': 0.8, 'kernel': 'linear', 'tol': 1.0},\n",
              "  {'C': 0.8, 'kernel': 'poly', 'tol': 0.001},\n",
              "  {'C': 0.8, 'kernel': 'poly', 'tol': 0.01},\n",
              "  {'C': 0.8, 'kernel': 'poly', 'tol': 0.1},\n",
              "  {'C': 0.8, 'kernel': 'poly', 'tol': 1.0},\n",
              "  {'C': 0.8, 'kernel': 'rbf', 'tol': 0.001},\n",
              "  {'C': 0.8, 'kernel': 'rbf', 'tol': 0.01},\n",
              "  {'C': 0.8, 'kernel': 'rbf', 'tol': 0.1},\n",
              "  {'C': 0.8, 'kernel': 'rbf', 'tol': 1.0},\n",
              "  {'C': 1.0, 'kernel': 'linear', 'tol': 0.001},\n",
              "  {'C': 1.0, 'kernel': 'linear', 'tol': 0.01},\n",
              "  {'C': 1.0, 'kernel': 'linear', 'tol': 0.1},\n",
              "  {'C': 1.0, 'kernel': 'linear', 'tol': 1.0},\n",
              "  {'C': 1.0, 'kernel': 'poly', 'tol': 0.001},\n",
              "  {'C': 1.0, 'kernel': 'poly', 'tol': 0.01},\n",
              "  {'C': 1.0, 'kernel': 'poly', 'tol': 0.1},\n",
              "  {'C': 1.0, 'kernel': 'poly', 'tol': 1.0},\n",
              "  {'C': 1.0, 'kernel': 'rbf', 'tol': 0.001},\n",
              "  {'C': 1.0, 'kernel': 'rbf', 'tol': 0.01},\n",
              "  {'C': 1.0, 'kernel': 'rbf', 'tol': 0.1},\n",
              "  {'C': 1.0, 'kernel': 'rbf', 'tol': 1.0},\n",
              "  {'C': 1.2, 'kernel': 'linear', 'tol': 0.001},\n",
              "  {'C': 1.2, 'kernel': 'linear', 'tol': 0.01},\n",
              "  {'C': 1.2, 'kernel': 'linear', 'tol': 0.1},\n",
              "  {'C': 1.2, 'kernel': 'linear', 'tol': 1.0},\n",
              "  {'C': 1.2, 'kernel': 'poly', 'tol': 0.001},\n",
              "  {'C': 1.2, 'kernel': 'poly', 'tol': 0.01},\n",
              "  {'C': 1.2, 'kernel': 'poly', 'tol': 0.1},\n",
              "  {'C': 1.2, 'kernel': 'poly', 'tol': 1.0},\n",
              "  {'C': 1.2, 'kernel': 'rbf', 'tol': 0.001},\n",
              "  {'C': 1.2, 'kernel': 'rbf', 'tol': 0.01},\n",
              "  {'C': 1.2, 'kernel': 'rbf', 'tol': 0.1},\n",
              "  {'C': 1.2, 'kernel': 'rbf', 'tol': 1.0}],\n",
              " 'rank_test_score': array([34, 28, 25, 31, 23, 23, 22, 14,  8,  8, 10, 11, 34, 28, 25, 31, 20,\n",
              "        21, 19, 15,  4,  4,  6, 12, 34, 28, 25, 31, 18, 16, 16, 13,  2,  2,\n",
              "         1,  7], dtype=int32),\n",
              " 'split0_test_score': array([0.95734266, 0.95664336, 0.95664336, 0.95804196, 0.97272727,\n",
              "        0.97272727, 0.97412587, 0.97972028, 0.98111888, 0.98111888,\n",
              "        0.98111888, 0.98251748, 0.95734266, 0.95664336, 0.95664336,\n",
              "        0.95804196, 0.97412587, 0.97342657, 0.97342657, 0.97972028,\n",
              "        0.98181818, 0.98181818, 0.98181818, 0.98251748, 0.95734266,\n",
              "        0.95664336, 0.95664336, 0.95804196, 0.97482517, 0.97482517,\n",
              "        0.97482517, 0.97902098, 0.98181818, 0.98181818, 0.98251748,\n",
              "        0.97972028]),\n",
              " 'split1_test_score': array([0.95451365, 0.95521344, 0.95521344, 0.95311407, 0.97340798,\n",
              "        0.97340798, 0.97340798, 0.97690693, 0.97830651, 0.97830651,\n",
              "        0.9790063 , 0.97830651, 0.95451365, 0.95521344, 0.95521344,\n",
              "        0.95311407, 0.97480756, 0.97480756, 0.97550735, 0.97620714,\n",
              "        0.97970609, 0.97970609, 0.97970609, 0.97970609, 0.95451365,\n",
              "        0.95521344, 0.95521344, 0.95311407, 0.97550735, 0.97550735,\n",
              "        0.97480756, 0.97550735, 0.98110567, 0.98110567, 0.98180546,\n",
              "        0.98040588]),\n",
              " 'split2_test_score': array([0.96571029, 0.96641008, 0.96710987, 0.96571029, 0.98110567,\n",
              "        0.98110567, 0.98180546, 0.98950315, 0.98950315, 0.98950315,\n",
              "        0.98880336, 0.98880336, 0.96571029, 0.96641008, 0.96710987,\n",
              "        0.96571029, 0.98180546, 0.98180546, 0.98180546, 0.98530441,\n",
              "        0.98950315, 0.98950315, 0.98950315, 0.98740378, 0.96571029,\n",
              "        0.96641008, 0.96710987, 0.96571029, 0.98390483, 0.98390483,\n",
              "        0.98390483, 0.99020294, 0.98950315, 0.98950315, 0.98950315,\n",
              "        0.98950315]),\n",
              " 'split3_test_score': array([0.96291113, 0.96291113, 0.96291113, 0.96431071, 0.97550735,\n",
              "        0.97550735, 0.97620714, 0.97480756, 0.98390483, 0.98390483,\n",
              "        0.98320504, 0.98180546, 0.96291113, 0.96291113, 0.96291113,\n",
              "        0.96431071, 0.97690693, 0.97690693, 0.97690693, 0.9790063 ,\n",
              "        0.98390483, 0.98390483, 0.98390483, 0.98250525, 0.96291113,\n",
              "        0.96291113, 0.96291113, 0.96431071, 0.97690693, 0.97760672,\n",
              "        0.97830651, 0.97970609, 0.98390483, 0.98390483, 0.98320504,\n",
              "        0.98390483]),\n",
              " 'split4_test_score': array([0.96431071, 0.96431071, 0.96571029, 0.96431071, 0.98110567,\n",
              "        0.98110567, 0.98180546, 0.98740378, 0.99160252, 0.99160252,\n",
              "        0.99160252, 0.99160252, 0.96431071, 0.96431071, 0.96571029,\n",
              "        0.96431071, 0.98390483, 0.98390483, 0.98530441, 0.98810357,\n",
              "        0.9930021 , 0.9930021 , 0.99230231, 0.98880336, 0.96431071,\n",
              "        0.96431071, 0.96571029, 0.96431071, 0.9860042 , 0.9860042 ,\n",
              "        0.9860042 , 0.98810357, 0.99230231, 0.99230231, 0.99230231,\n",
              "        0.9930021 ]),\n",
              " 'std_fit_time': array([0.11115345, 0.14027669, 0.1190066 , 0.07132449, 0.059816  ,\n",
              "        0.06182207, 0.05257947, 0.05017534, 0.08052144, 0.079998  ,\n",
              "        0.0802381 , 0.06827283, 0.08973996, 0.0967596 , 0.10390678,\n",
              "        0.10154723, 0.07826356, 0.0823796 , 0.07042315, 0.05318069,\n",
              "        0.08286699, 0.06646533, 0.07016037, 0.05577646, 0.0963523 ,\n",
              "        0.07214012, 0.10158095, 0.09927133, 0.05433814, 0.0399173 ,\n",
              "        0.04164578, 0.07909442, 0.08027781, 0.07547511, 0.06479357,\n",
              "        0.0506133 ]),\n",
              " 'std_score_time': array([0.02060649, 0.02288628, 0.02322351, 0.02558911, 0.02447056,\n",
              "        0.02083986, 0.01574388, 0.01591521, 0.02013165, 0.00779302,\n",
              "        0.01494433, 0.01021294, 0.0219921 , 0.02168095, 0.02111438,\n",
              "        0.02357901, 0.0137246 , 0.0171603 , 0.0267056 , 0.0095472 ,\n",
              "        0.01662868, 0.01467052, 0.01454409, 0.01077981, 0.02335137,\n",
              "        0.0183486 , 0.01929105, 0.02561594, 0.0102087 , 0.02265045,\n",
              "        0.00870451, 0.01663859, 0.00849759, 0.01077122, 0.01852472,\n",
              "        0.00803394]),\n",
              " 'std_test_score': array([0.00429511, 0.0043886 , 0.0047811 , 0.00479581, 0.00365615,\n",
              "        0.00365615, 0.00365706, 0.00579337, 0.00499747, 0.00499747,\n",
              "        0.00473178, 0.00486739, 0.00429511, 0.0043886 , 0.0047811 ,\n",
              "        0.00479581, 0.00387977, 0.00403748, 0.00434555, 0.00436668,\n",
              "        0.0049384 , 0.0049384 , 0.00473186, 0.00338682, 0.00429511,\n",
              "        0.0043886 , 0.0047811 , 0.00479581, 0.00460872, 0.0045401 ,\n",
              "        0.00462559, 0.00564875, 0.00441475, 0.00441475, 0.00422933,\n",
              "        0.00517727])}"
            ]
          },
          "metadata": {
            "tags": []
          },
          "execution_count": 7
        }
      ]
    },
    {
      "cell_type": "code",
      "metadata": {
        "colab": {
          "base_uri": "https://localhost:8080/"
        },
        "id": "0T1wE_W0FCJo",
        "outputId": "ff2afeb9-5eff-4d9a-80dc-03e9142ce667"
      },
      "source": [
        "p.fit(x_val,y_val)\n",
        "p.cv_results_"
      ],
      "execution_count": null,
      "outputs": [
        {
          "output_type": "execute_result",
          "data": {
            "text/plain": [
              "{'mean_fit_time': array([2.4127182 , 2.4520153 , 2.45642219, 2.42720461, 0.41629419,\n",
              "        0.42081161, 0.42192407, 0.42401228, 2.25936313, 2.28508081,\n",
              "        2.2806644 , 2.27413564, 0.39603395, 0.40024424, 0.39724083,\n",
              "        0.39551535]),\n",
              " 'mean_score_time': array([0.00736713, 0.00607939, 0.00583062, 0.00559592, 0.00558753,\n",
              "        0.00527916, 0.0055675 , 0.00612211, 0.00601406, 0.00644827,\n",
              "        0.00689054, 0.00613742, 0.00551615, 0.00655098, 0.00584989,\n",
              "        0.00588813]),\n",
              " 'mean_test_score': array([0.95493988, 0.95493988, 0.95493988, 0.95493988, 0.94262475,\n",
              "        0.94262475, 0.94262475, 0.94262475, 0.95368036, 0.95368036,\n",
              "        0.95368036, 0.95368036, 0.94542548, 0.94542548, 0.94542548,\n",
              "        0.94542548]),\n",
              " 'param_class_weight': masked_array(data=[None, None, None, None, None, None, None, None,\n",
              "                    'balanced', 'balanced', 'balanced', 'balanced',\n",
              "                    'balanced', 'balanced', 'balanced', 'balanced'],\n",
              "              mask=[False, False, False, False, False, False, False, False,\n",
              "                    False, False, False, False, False, False, False, False],\n",
              "        fill_value='?',\n",
              "             dtype=object),\n",
              " 'param_penalty': masked_array(data=['l1', 'l1', 'l1', 'l1', 'l2', 'l2', 'l2', 'l2', 'l1',\n",
              "                    'l1', 'l1', 'l1', 'l2', 'l2', 'l2', 'l2'],\n",
              "              mask=[False, False, False, False, False, False, False, False,\n",
              "                    False, False, False, False, False, False, False, False],\n",
              "        fill_value='?',\n",
              "             dtype=object),\n",
              " 'param_tol': masked_array(data=[0.001, 0.01, 0.1, 1.0, 0.001, 0.01, 0.1, 1.0, 0.001,\n",
              "                    0.01, 0.1, 1.0, 0.001, 0.01, 0.1, 1.0],\n",
              "              mask=[False, False, False, False, False, False, False, False,\n",
              "                    False, False, False, False, False, False, False, False],\n",
              "        fill_value='?',\n",
              "             dtype=object),\n",
              " 'params': [{'class_weight': None, 'penalty': 'l1', 'tol': 0.001},\n",
              "  {'class_weight': None, 'penalty': 'l1', 'tol': 0.01},\n",
              "  {'class_weight': None, 'penalty': 'l1', 'tol': 0.1},\n",
              "  {'class_weight': None, 'penalty': 'l1', 'tol': 1.0},\n",
              "  {'class_weight': None, 'penalty': 'l2', 'tol': 0.001},\n",
              "  {'class_weight': None, 'penalty': 'l2', 'tol': 0.01},\n",
              "  {'class_weight': None, 'penalty': 'l2', 'tol': 0.1},\n",
              "  {'class_weight': None, 'penalty': 'l2', 'tol': 1.0},\n",
              "  {'class_weight': 'balanced', 'penalty': 'l1', 'tol': 0.001},\n",
              "  {'class_weight': 'balanced', 'penalty': 'l1', 'tol': 0.01},\n",
              "  {'class_weight': 'balanced', 'penalty': 'l1', 'tol': 0.1},\n",
              "  {'class_weight': 'balanced', 'penalty': 'l1', 'tol': 1.0},\n",
              "  {'class_weight': 'balanced', 'penalty': 'l2', 'tol': 0.001},\n",
              "  {'class_weight': 'balanced', 'penalty': 'l2', 'tol': 0.01},\n",
              "  {'class_weight': 'balanced', 'penalty': 'l2', 'tol': 0.1},\n",
              "  {'class_weight': 'balanced', 'penalty': 'l2', 'tol': 1.0}],\n",
              " 'rank_test_score': array([ 1,  1,  1,  1, 13, 13, 13, 13,  5,  5,  5,  5,  9,  9,  9,  9],\n",
              "       dtype=int32),\n",
              " 'split0_test_score': array([0.95454545, 0.95454545, 0.95454545, 0.95454545, 0.94615385,\n",
              "        0.94615385, 0.94615385, 0.94615385, 0.95384615, 0.95384615,\n",
              "        0.95384615, 0.95384615, 0.93496503, 0.93496503, 0.93496503,\n",
              "        0.93496503]),\n",
              " 'split1_test_score': array([0.95171449, 0.95171449, 0.95171449, 0.95171449, 0.93421973,\n",
              "        0.93421973, 0.93421973, 0.93421973, 0.94611617, 0.94611617,\n",
              "        0.94611617, 0.94611617, 0.943317  , 0.943317  , 0.943317  ,\n",
              "        0.943317  ]),\n",
              " 'split2_test_score': array([0.96641008, 0.96641008, 0.96641008, 0.96641008, 0.92372288,\n",
              "        0.92372288, 0.92372288, 0.92372288, 0.94751575, 0.94751575,\n",
              "        0.94751575, 0.94751575, 0.96151155, 0.96151155, 0.96151155,\n",
              "        0.96151155]),\n",
              " 'split3_test_score': array([0.94751575, 0.94751575, 0.94751575, 0.94751575, 0.94751575,\n",
              "        0.94751575, 0.94751575, 0.94751575, 0.9580126 , 0.9580126 ,\n",
              "        0.9580126 , 0.9580126 , 0.94611617, 0.94611617, 0.94611617,\n",
              "        0.94611617]),\n",
              " 'split4_test_score': array([0.95451365, 0.95451365, 0.95451365, 0.95451365, 0.96151155,\n",
              "        0.96151155, 0.96151155, 0.96151155, 0.96291113, 0.96291113,\n",
              "        0.96291113, 0.96291113, 0.94121763, 0.94121763, 0.94121763,\n",
              "        0.94121763]),\n",
              " 'std_fit_time': array([0.28410549, 0.28879877, 0.27143488, 0.28281166, 0.03408347,\n",
              "        0.03566602, 0.03683464, 0.03579148, 0.22454313, 0.21872518,\n",
              "        0.23825587, 0.23311016, 0.04178994, 0.04561453, 0.04870737,\n",
              "        0.04524318]),\n",
              " 'std_score_time': array([0.00345523, 0.00059405, 0.00083799, 0.00027575, 0.00041264,\n",
              "        0.00013534, 0.00049897, 0.0007318 , 0.00117389, 0.00124001,\n",
              "        0.00071816, 0.00099857, 0.00054711, 0.00063176, 0.00100972,\n",
              "        0.00073399]),\n",
              " 'std_test_score': array([0.00628369, 0.00628369, 0.00628369, 0.00628369, 0.01281415,\n",
              "        0.01281415, 0.01281415, 0.01281415, 0.00631225, 0.00631225,\n",
              "        0.00631225, 0.00631225, 0.00884094, 0.00884094, 0.00884094,\n",
              "        0.00884094])}"
            ]
          },
          "metadata": {
            "tags": []
          },
          "execution_count": 8
        }
      ]
    },
    {
      "cell_type": "code",
      "metadata": {
        "id": "Mcw2zylmnXxa"
      },
      "source": [
        "df_s = pd.DataFrame((StandardScaler().fit(pd.DataFrame(mnist.data,columns=[i for i in range(0,784)]))).transform(pd.DataFrame(mnist.data,columns=[i for i in range(0,784)])))\n",
        "df_m = pd.DataFrame((MinMaxScaler().fit(pd.DataFrame(mnist.data,columns=[i for i in range(0,784)]))).transform(pd.DataFrame(mnist.data,columns=[i for i in range(0,784)])))\n",
        "df_s['Output'] = mnist.target.astype('int')\n",
        "df_m['Output'] = mnist.target.astype('int')\n",
        "df_seq = df[df['Output'] <= 4]\n",
        "df_meq = df[df['Output'] <= 4]"
      ],
      "execution_count": null,
      "outputs": []
    },
    {
      "cell_type": "code",
      "metadata": {
        "id": "gpEkgK3ad5Yp"
      },
      "source": [
        "sx_train,sx_non,sy_train,sy_non = train_test_split(df_seq.iloc[:,:-1],df_seq['Output'],test_size = 0.3)\n",
        "sx_val,sx_test,sy_val,sy_test = train_test_split(sx_non,sy_non,test_size = 0.3334)\n",
        "\n",
        "mx_train,mx_non,my_train,my_non = train_test_split(df_meq.iloc[:,:-1],df_meq['Output'],test_size = 0.3)\n",
        "mx_val,mx_test,my_val,my_test = train_test_split(mx_non,my_non,test_size = 0.3334)"
      ],
      "execution_count": null,
      "outputs": []
    },
    {
      "cell_type": "code",
      "metadata": {
        "id": "uBZHjXFbeRpC"
      },
      "source": [
        "ks = GSCV(KNC(), knc_param)\n",
        "km = GSCV(KNC(), knc_param)\n",
        "sm = GSCV(SVC(), svc_param)\n",
        "ss = GSCV(SVC(), svc_param)\n",
        "ps = GSCV(Perceptron(), per_param)\n",
        "pm = GSCV(Perceptron(), per_param)"
      ],
      "execution_count": null,
      "outputs": []
    },
    {
      "cell_type": "code",
      "metadata": {
        "colab": {
          "base_uri": "https://localhost:8080/"
        },
        "id": "mvNR9vOOemCz",
        "outputId": "5ee328c5-f512-4609-b711-08a110391c29"
      },
      "source": [
        "ks.fit(sx_val,sy_val)\n",
        "ks.cv_results_"
      ],
      "execution_count": null,
      "outputs": [
        {
          "output_type": "execute_result",
          "data": {
            "text/plain": [
              "{'mean_fit_time': array([0.43019209, 0.42856832, 0.42652407, 0.42425208, 0.42732677,\n",
              "        0.42935324, 0.42445416, 0.42609134, 0.42742271, 0.42477298]),\n",
              " 'mean_score_time': array([9.59049602, 9.61742554, 9.59464436, 9.5726294 , 9.56257129,\n",
              "        9.55802984, 9.60213609, 9.521766  , 9.62543592, 9.52690501]),\n",
              " 'mean_test_score': array([0.97621047, 0.98390688, 0.9801286 , 0.98096816, 0.97677   ,\n",
              "        0.98166795, 0.97830925, 0.97942891, 0.9757902 , 0.97970873]),\n",
              " 'param_n_neighbors': masked_array(data=[2, 2, 3, 3, 4, 4, 5, 5, 6, 6],\n",
              "              mask=[False, False, False, False, False, False, False, False,\n",
              "                    False, False],\n",
              "        fill_value='?',\n",
              "             dtype=object),\n",
              " 'param_weights': masked_array(data=['uniform', 'distance', 'uniform', 'distance',\n",
              "                    'uniform', 'distance', 'uniform', 'distance',\n",
              "                    'uniform', 'distance'],\n",
              "              mask=[False, False, False, False, False, False, False, False,\n",
              "                    False, False],\n",
              "        fill_value='?',\n",
              "             dtype=object),\n",
              " 'params': [{'n_neighbors': 2, 'weights': 'uniform'},\n",
              "  {'n_neighbors': 2, 'weights': 'distance'},\n",
              "  {'n_neighbors': 3, 'weights': 'uniform'},\n",
              "  {'n_neighbors': 3, 'weights': 'distance'},\n",
              "  {'n_neighbors': 4, 'weights': 'uniform'},\n",
              "  {'n_neighbors': 4, 'weights': 'distance'},\n",
              "  {'n_neighbors': 5, 'weights': 'uniform'},\n",
              "  {'n_neighbors': 5, 'weights': 'distance'},\n",
              "  {'n_neighbors': 6, 'weights': 'uniform'},\n",
              "  {'n_neighbors': 6, 'weights': 'distance'}],\n",
              " 'rank_test_score': array([ 9,  1,  4,  3,  8,  2,  7,  6, 10,  5], dtype=int32),\n",
              " 'split0_test_score': array([0.97622378, 0.98531469, 0.98111888, 0.98251748, 0.97832168,\n",
              "        0.98251748, 0.98041958, 0.98041958, 0.97902098, 0.98111888]),\n",
              " 'split1_test_score': array([0.97760672, 0.98180546, 0.97550735, 0.97690693, 0.97620714,\n",
              "        0.97970609, 0.97480756, 0.97760672, 0.97550735, 0.97760672]),\n",
              " 'split2_test_score': array([0.97340798, 0.97970609, 0.97620714, 0.97620714, 0.9720084 ,\n",
              "        0.97690693, 0.97340798, 0.97410777, 0.97130861, 0.97480756]),\n",
              " 'split3_test_score': array([0.98040588, 0.98810357, 0.9860042 , 0.98740378, 0.98180546,\n",
              "        0.98670399, 0.98460462, 0.9860042 , 0.97970609, 0.98530441]),\n",
              " 'split4_test_score': array([0.97340798, 0.98460462, 0.98180546, 0.98180546, 0.97550735,\n",
              "        0.98250525, 0.97830651, 0.9790063 , 0.97340798, 0.97970609]),\n",
              " 'std_fit_time': array([0.00903717, 0.00605593, 0.00188431, 0.002671  , 0.00601194,\n",
              "        0.00218637, 0.00078041, 0.00220546, 0.00190429, 0.00231045]),\n",
              " 'std_score_time': array([0.03480109, 0.06431461, 0.04527975, 0.05469255, 0.04134319,\n",
              "        0.05072125, 0.0542969 , 0.04521249, 0.02708517, 0.03574977]),\n",
              " 'std_test_score': array([0.00265552, 0.00290323, 0.00387425, 0.00409096, 0.00323566,\n",
              "        0.00326499, 0.00400923, 0.00389947, 0.00321284, 0.00351397])}"
            ]
          },
          "metadata": {
            "tags": []
          },
          "execution_count": 16
        }
      ]
    },
    {
      "cell_type": "code",
      "metadata": {
        "colab": {
          "base_uri": "https://localhost:8080/"
        },
        "id": "wHJ6fWAbqWK_",
        "outputId": "233bdb63-74cd-4fc7-bb21-4602ec9d1d42"
      },
      "source": [
        "km.fit(mx_val,my_val)\n",
        "km.cv_results_"
      ],
      "execution_count": null,
      "outputs": [
        {
          "output_type": "execute_result",
          "data": {
            "text/plain": [
              "{'mean_fit_time': array([0.45381851, 0.45359254, 0.45597024, 0.45224404, 0.46207466,\n",
              "        0.45800238, 0.45535588, 0.45917873, 0.45508041, 0.46098118]),\n",
              " 'mean_score_time': array([9.7474596 , 9.78310633, 9.78864088, 9.70555401, 9.88072071,\n",
              "        9.76612167, 9.78463016, 9.79059076, 9.79104314, 9.87170277]),\n",
              " 'mean_test_score': array([0.9791489 , 0.98586581, 0.98292767, 0.98306753, 0.98068853,\n",
              "        0.98446681, 0.98152809, 0.98264765, 0.97956867, 0.98222778]),\n",
              " 'param_n_neighbors': masked_array(data=[2, 2, 3, 3, 4, 4, 5, 5, 6, 6],\n",
              "              mask=[False, False, False, False, False, False, False, False,\n",
              "                    False, False],\n",
              "        fill_value='?',\n",
              "             dtype=object),\n",
              " 'param_weights': masked_array(data=['uniform', 'distance', 'uniform', 'distance',\n",
              "                    'uniform', 'distance', 'uniform', 'distance',\n",
              "                    'uniform', 'distance'],\n",
              "              mask=[False, False, False, False, False, False, False, False,\n",
              "                    False, False],\n",
              "        fill_value='?',\n",
              "             dtype=object),\n",
              " 'params': [{'n_neighbors': 2, 'weights': 'uniform'},\n",
              "  {'n_neighbors': 2, 'weights': 'distance'},\n",
              "  {'n_neighbors': 3, 'weights': 'uniform'},\n",
              "  {'n_neighbors': 3, 'weights': 'distance'},\n",
              "  {'n_neighbors': 4, 'weights': 'uniform'},\n",
              "  {'n_neighbors': 4, 'weights': 'distance'},\n",
              "  {'n_neighbors': 5, 'weights': 'uniform'},\n",
              "  {'n_neighbors': 5, 'weights': 'distance'},\n",
              "  {'n_neighbors': 6, 'weights': 'uniform'},\n",
              "  {'n_neighbors': 6, 'weights': 'distance'}],\n",
              " 'rank_test_score': array([10,  1,  4,  3,  8,  2,  7,  5,  9,  6], dtype=int32),\n",
              " 'split0_test_score': array([0.98111888, 0.98881119, 0.98181818, 0.98251748, 0.98041958,\n",
              "        0.98461538, 0.98181818, 0.98251748, 0.98181818, 0.98251748]),\n",
              " 'split1_test_score': array([0.97550735, 0.98740378, 0.98180546, 0.98250525, 0.97690693,\n",
              "        0.98180546, 0.97970609, 0.98180546, 0.97480756, 0.98110567]),\n",
              " 'split2_test_score': array([0.9790063 , 0.98320504, 0.98110567, 0.98110567, 0.9790063 ,\n",
              "        0.98390483, 0.98180546, 0.98180546, 0.97620714, 0.98110567]),\n",
              " 'split3_test_score': array([0.97620714, 0.98250525, 0.98390483, 0.98390483, 0.98320504,\n",
              "        0.9860042 , 0.98250525, 0.98320504, 0.98320504, 0.98390483]),\n",
              " 'split4_test_score': array([0.98390483, 0.98740378, 0.9860042 , 0.98530441, 0.98390483,\n",
              "        0.9860042 , 0.98180546, 0.98390483, 0.98180546, 0.98250525]),\n",
              " 'std_fit_time': array([0.00662054, 0.00571215, 0.00412125, 0.00309088, 0.01374414,\n",
              "        0.00424285, 0.00681854, 0.00746153, 0.0065728 , 0.00453953]),\n",
              " 'std_score_time': array([0.05155784, 0.04535057, 0.07905444, 0.03430904, 0.07240922,\n",
              "        0.03190066, 0.02855673, 0.02498246, 0.05503044, 0.07829575]),\n",
              " 'std_test_score': array([0.00311239, 0.00252107, 0.00180166, 0.00142635, 0.00260308,\n",
              "        0.00155871, 0.00095001, 0.00081568, 0.00338393, 0.00104802])}"
            ]
          },
          "metadata": {
            "tags": []
          },
          "execution_count": 20
        }
      ]
    },
    {
      "cell_type": "code",
      "metadata": {
        "colab": {
          "base_uri": "https://localhost:8080/"
        },
        "id": "07E8hz59qWCk",
        "outputId": "6ff91301-2672-49fc-85e7-b793d7e754a8"
      },
      "source": [
        "ss.fit(sx_val,sy_val)\n",
        "ss.cv_results_"
      ],
      "execution_count": null,
      "outputs": [
        {
          "output_type": "execute_result",
          "data": {
            "text/plain": [
              "{'mean_fit_time': array([3.70791187, 3.68779411, 3.53264246, 3.16421571, 6.97735391,\n",
              "        6.85623178, 6.48784103, 4.93721061, 6.31952329, 6.29809556,\n",
              "        5.79196591, 3.45772438, 3.66705947, 3.62601657, 3.52970939,\n",
              "        3.10879598, 6.47359457, 6.41858912, 6.12469282, 4.57548003,\n",
              "        6.11084924, 5.97945628, 5.41482038, 3.15687299, 3.6258491 ,\n",
              "        3.60357409, 3.50935102, 3.09814739, 6.17287817, 6.14208655,\n",
              "        5.85459318, 4.26142969, 5.95623636, 5.86548934, 5.25818305,\n",
              "        2.96253624]),\n",
              " 'mean_score_time': array([0.96459441, 0.95886765, 0.97024221, 0.99799309, 1.35855403,\n",
              "        1.33290854, 1.25879126, 0.98117027, 1.63992786, 1.64050531,\n",
              "        1.50884495, 0.97957916, 0.95245619, 0.9573432 , 0.9633009 ,\n",
              "        0.98196154, 1.2426939 , 1.24030151, 1.19467936, 0.92829485,\n",
              "        1.57806163, 1.5638454 , 1.42266526, 0.91503234, 0.94200363,\n",
              "        0.94573617, 0.95999165, 0.98213425, 1.19392829, 1.2023634 ,\n",
              "        1.13796334, 0.87332101, 1.54935117, 1.52425508, 1.40755959,\n",
              "        0.87372332]),\n",
              " 'mean_test_score': array([0.95773767, 0.95773767, 0.95759771, 0.95857722, 0.97369161,\n",
              "        0.97369161, 0.97397153, 0.97537072, 0.98110821, 0.98110821,\n",
              "        0.98166785, 0.98138774, 0.95773767, 0.95773767, 0.95759771,\n",
              "        0.95857722, 0.97579079, 0.97593075, 0.97607061, 0.97704992,\n",
              "        0.98208782, 0.98208782, 0.98194786, 0.98180791, 0.95773767,\n",
              "        0.95773767, 0.95759771, 0.95857722, 0.97649068, 0.97649068,\n",
              "        0.97677049, 0.97718968, 0.98334705, 0.98334705, 0.98320719,\n",
              "        0.98320709]),\n",
              " 'param_C': masked_array(data=[0.8, 0.8, 0.8, 0.8, 0.8, 0.8, 0.8, 0.8, 0.8, 0.8, 0.8,\n",
              "                    0.8, 1.0, 1.0, 1.0, 1.0, 1.0, 1.0, 1.0, 1.0, 1.0, 1.0,\n",
              "                    1.0, 1.0, 1.2, 1.2, 1.2, 1.2, 1.2, 1.2, 1.2, 1.2, 1.2,\n",
              "                    1.2, 1.2, 1.2],\n",
              "              mask=[False, False, False, False, False, False, False, False,\n",
              "                    False, False, False, False, False, False, False, False,\n",
              "                    False, False, False, False, False, False, False, False,\n",
              "                    False, False, False, False, False, False, False, False,\n",
              "                    False, False, False, False],\n",
              "        fill_value='?',\n",
              "             dtype=object),\n",
              " 'param_kernel': masked_array(data=['linear', 'linear', 'linear', 'linear', 'poly', 'poly',\n",
              "                    'poly', 'poly', 'rbf', 'rbf', 'rbf', 'rbf', 'linear',\n",
              "                    'linear', 'linear', 'linear', 'poly', 'poly', 'poly',\n",
              "                    'poly', 'rbf', 'rbf', 'rbf', 'rbf', 'linear', 'linear',\n",
              "                    'linear', 'linear', 'poly', 'poly', 'poly', 'poly',\n",
              "                    'rbf', 'rbf', 'rbf', 'rbf'],\n",
              "              mask=[False, False, False, False, False, False, False, False,\n",
              "                    False, False, False, False, False, False, False, False,\n",
              "                    False, False, False, False, False, False, False, False,\n",
              "                    False, False, False, False, False, False, False, False,\n",
              "                    False, False, False, False],\n",
              "        fill_value='?',\n",
              "             dtype=object),\n",
              " 'param_tol': masked_array(data=[0.001, 0.01, 0.1, 1.0, 0.001, 0.01, 0.1, 1.0, 0.001,\n",
              "                    0.01, 0.1, 1.0, 0.001, 0.01, 0.1, 1.0, 0.001, 0.01,\n",
              "                    0.1, 1.0, 0.001, 0.01, 0.1, 1.0, 0.001, 0.01, 0.1, 1.0,\n",
              "                    0.001, 0.01, 0.1, 1.0, 0.001, 0.01, 0.1, 1.0],\n",
              "              mask=[False, False, False, False, False, False, False, False,\n",
              "                    False, False, False, False, False, False, False, False,\n",
              "                    False, False, False, False, False, False, False, False,\n",
              "                    False, False, False, False, False, False, False, False,\n",
              "                    False, False, False, False],\n",
              "        fill_value='?',\n",
              "             dtype=object),\n",
              " 'params': [{'C': 0.8, 'kernel': 'linear', 'tol': 0.001},\n",
              "  {'C': 0.8, 'kernel': 'linear', 'tol': 0.01},\n",
              "  {'C': 0.8, 'kernel': 'linear', 'tol': 0.1},\n",
              "  {'C': 0.8, 'kernel': 'linear', 'tol': 1.0},\n",
              "  {'C': 0.8, 'kernel': 'poly', 'tol': 0.001},\n",
              "  {'C': 0.8, 'kernel': 'poly', 'tol': 0.01},\n",
              "  {'C': 0.8, 'kernel': 'poly', 'tol': 0.1},\n",
              "  {'C': 0.8, 'kernel': 'poly', 'tol': 1.0},\n",
              "  {'C': 0.8, 'kernel': 'rbf', 'tol': 0.001},\n",
              "  {'C': 0.8, 'kernel': 'rbf', 'tol': 0.01},\n",
              "  {'C': 0.8, 'kernel': 'rbf', 'tol': 0.1},\n",
              "  {'C': 0.8, 'kernel': 'rbf', 'tol': 1.0},\n",
              "  {'C': 1.0, 'kernel': 'linear', 'tol': 0.001},\n",
              "  {'C': 1.0, 'kernel': 'linear', 'tol': 0.01},\n",
              "  {'C': 1.0, 'kernel': 'linear', 'tol': 0.1},\n",
              "  {'C': 1.0, 'kernel': 'linear', 'tol': 1.0},\n",
              "  {'C': 1.0, 'kernel': 'poly', 'tol': 0.001},\n",
              "  {'C': 1.0, 'kernel': 'poly', 'tol': 0.01},\n",
              "  {'C': 1.0, 'kernel': 'poly', 'tol': 0.1},\n",
              "  {'C': 1.0, 'kernel': 'poly', 'tol': 1.0},\n",
              "  {'C': 1.0, 'kernel': 'rbf', 'tol': 0.001},\n",
              "  {'C': 1.0, 'kernel': 'rbf', 'tol': 0.01},\n",
              "  {'C': 1.0, 'kernel': 'rbf', 'tol': 0.1},\n",
              "  {'C': 1.0, 'kernel': 'rbf', 'tol': 1.0},\n",
              "  {'C': 1.2, 'kernel': 'linear', 'tol': 0.001},\n",
              "  {'C': 1.2, 'kernel': 'linear', 'tol': 0.01},\n",
              "  {'C': 1.2, 'kernel': 'linear', 'tol': 0.1},\n",
              "  {'C': 1.2, 'kernel': 'linear', 'tol': 1.0},\n",
              "  {'C': 1.2, 'kernel': 'poly', 'tol': 0.001},\n",
              "  {'C': 1.2, 'kernel': 'poly', 'tol': 0.01},\n",
              "  {'C': 1.2, 'kernel': 'poly', 'tol': 0.1},\n",
              "  {'C': 1.2, 'kernel': 'poly', 'tol': 1.0},\n",
              "  {'C': 1.2, 'kernel': 'rbf', 'tol': 0.001},\n",
              "  {'C': 1.2, 'kernel': 'rbf', 'tol': 0.01},\n",
              "  {'C': 1.2, 'kernel': 'rbf', 'tol': 0.1},\n",
              "  {'C': 1.2, 'kernel': 'rbf', 'tol': 1.0}],\n",
              " 'rank_test_score': array([28, 28, 34, 25, 23, 23, 22, 21, 11, 11,  9, 10, 28, 28, 34, 25, 20,\n",
              "        19, 18, 14,  5,  5,  7,  8, 28, 28, 34, 25, 16, 16, 15, 13,  1,  1,\n",
              "         3,  4], dtype=int32),\n",
              " 'split0_test_score': array([0.96433566, 0.96433566, 0.96433566, 0.96573427, 0.97342657,\n",
              "        0.97342657, 0.97342657, 0.97622378, 0.98181818, 0.98181818,\n",
              "        0.98321678, 0.98461538, 0.96433566, 0.96433566, 0.96433566,\n",
              "        0.96573427, 0.97482517, 0.97482517, 0.97552448, 0.97832168,\n",
              "        0.98251748, 0.98251748, 0.98251748, 0.98251748, 0.96433566,\n",
              "        0.96433566, 0.96433566, 0.96573427, 0.97412587, 0.97412587,\n",
              "        0.97482517, 0.97972028, 0.98531469, 0.98531469, 0.98461538,\n",
              "        0.98531469]),\n",
              " 'split1_test_score': array([0.95871239, 0.95871239, 0.95871239, 0.96011197, 0.97060882,\n",
              "        0.97060882, 0.97060882, 0.97270819, 0.98180546, 0.98180546,\n",
              "        0.98180546, 0.98250525, 0.95871239, 0.95871239, 0.95871239,\n",
              "        0.96011197, 0.9720084 , 0.9720084 , 0.97270819, 0.97480756,\n",
              "        0.98250525, 0.98250525, 0.98250525, 0.98320504, 0.95871239,\n",
              "        0.95871239, 0.95871239, 0.96011197, 0.97340798, 0.97340798,\n",
              "        0.97340798, 0.97480756, 0.98320504, 0.98320504, 0.98390483,\n",
              "        0.98460462]),\n",
              " 'split2_test_score': array([0.9510147 , 0.9510147 , 0.9510147 , 0.95031491, 0.97410777,\n",
              "        0.97410777, 0.97550735, 0.97550735, 0.97690693, 0.97690693,\n",
              "        0.97690693, 0.97690693, 0.9510147 , 0.9510147 , 0.9510147 ,\n",
              "        0.95031491, 0.97690693, 0.97760672, 0.97620714, 0.97830651,\n",
              "        0.97830651, 0.97830651, 0.97760672, 0.9790063 , 0.9510147 ,\n",
              "        0.9510147 , 0.9510147 , 0.95031491, 0.97830651, 0.97830651,\n",
              "        0.97760672, 0.97760672, 0.98040588, 0.98040588, 0.98040588,\n",
              "        0.97970609]),\n",
              " 'split3_test_score': array([0.9580126 , 0.9580126 , 0.95871239, 0.95941218, 0.9790063 ,\n",
              "        0.9790063 , 0.9790063 , 0.97830651, 0.98460462, 0.98460462,\n",
              "        0.98530441, 0.98110567, 0.9580126 , 0.9580126 , 0.95871239,\n",
              "        0.95941218, 0.98180546, 0.98180546, 0.98250525, 0.98110567,\n",
              "        0.98530441, 0.98530441, 0.98530441, 0.98320504, 0.9580126 ,\n",
              "        0.9580126 , 0.95871239, 0.95941218, 0.98250525, 0.98250525,\n",
              "        0.98250525, 0.98040588, 0.98530441, 0.98530441, 0.98530441,\n",
              "        0.9860042 ]),\n",
              " 'split4_test_score': array([0.95661302, 0.95661302, 0.95521344, 0.95731281, 0.97130861,\n",
              "        0.97130861, 0.97130861, 0.97410777, 0.98040588, 0.98040588,\n",
              "        0.98110567, 0.98180546, 0.95661302, 0.95661302, 0.95521344,\n",
              "        0.95731281, 0.97340798, 0.97340798, 0.97340798, 0.97270819,\n",
              "        0.98180546, 0.98180546, 0.98180546, 0.98110567, 0.95661302,\n",
              "        0.95661302, 0.95521344, 0.95731281, 0.97410777, 0.97410777,\n",
              "        0.97550735, 0.97340798, 0.98250525, 0.98250525, 0.98180546,\n",
              "        0.98040588]),\n",
              " 'std_fit_time': array([0.05367897, 0.05998039, 0.06411917, 0.05561085, 0.06894342,\n",
              "        0.06923712, 0.06360761, 0.04465324, 0.07583103, 0.06703247,\n",
              "        0.04230726, 0.00298857, 0.06731657, 0.05528377, 0.06013569,\n",
              "        0.04757605, 0.08366098, 0.05353537, 0.05723408, 0.09256491,\n",
              "        0.03170655, 0.08132391, 0.03546651, 0.01247309, 0.06265017,\n",
              "        0.06591159, 0.05186682, 0.04050246, 0.07052642, 0.05930075,\n",
              "        0.06505517, 0.04984518, 0.04107239, 0.06286342, 0.03931372,\n",
              "        0.02226174]),\n",
              " 'std_score_time': array([0.02433555, 0.01202403, 0.02065812, 0.02362696, 0.01953922,\n",
              "        0.0160525 , 0.01104196, 0.01754178, 0.02092583, 0.02001827,\n",
              "        0.00730202, 0.02445764, 0.02440705, 0.02627859, 0.01820929,\n",
              "        0.02815309, 0.01605109, 0.01492165, 0.0103567 , 0.02425453,\n",
              "        0.01136851, 0.01983495, 0.00878778, 0.01694792, 0.0200257 ,\n",
              "        0.01781972, 0.01699057, 0.02102714, 0.01558134, 0.02167214,\n",
              "        0.02018877, 0.01175043, 0.02691758, 0.02101062, 0.0090668 ,\n",
              "        0.00967859]),\n",
              " 'std_test_score': array([0.00426667, 0.00426667, 0.00440241, 0.00498278, 0.00295539,\n",
              "        0.00295539, 0.00304643, 0.00189997, 0.00250436, 0.00250436,\n",
              "        0.00277939, 0.00252975, 0.00426667, 0.00426667, 0.00440241,\n",
              "        0.00498278, 0.00341581, 0.00347254, 0.00346748, 0.0029504 ,\n",
              "        0.00223979, 0.00223979, 0.00248062, 0.00159685, 0.00426667,\n",
              "        0.00426667, 0.00440241, 0.00498278, 0.00347119, 0.00347119,\n",
              "        0.0031709 , 0.00271653, 0.00184836, 0.00184836, 0.00182648,\n",
              "        0.00262003])}"
            ]
          },
          "metadata": {
            "tags": []
          },
          "execution_count": 21
        }
      ]
    },
    {
      "cell_type": "code",
      "metadata": {
        "colab": {
          "base_uri": "https://localhost:8080/"
        },
        "id": "WgHOO2ZtqV5A",
        "outputId": "854792e0-0edf-4530-b04d-63235513927e"
      },
      "source": [
        "sm.fit(mx_val,my_val)\n",
        "sm.cv_results_"
      ],
      "execution_count": null,
      "outputs": [
        {
          "output_type": "execute_result",
          "data": {
            "text/plain": [
              "{'mean_fit_time': array([3.20387712, 3.1863564 , 3.11818938, 2.6957036 , 6.74691305,\n",
              "        6.72875681, 6.21174202, 4.64320941, 6.19409375, 6.09981985,\n",
              "        5.48181667, 3.24248915, 3.21744757, 3.20251417, 3.10794687,\n",
              "        2.68127189, 6.20330215, 6.16207294, 5.8252573 , 4.21625609,\n",
              "        5.78798661, 5.72989674, 5.13740854, 2.92005816, 3.12443352,\n",
              "        3.0812017 , 3.0249208 , 2.58380909, 5.7875772 , 5.76403646,\n",
              "        5.48289514, 3.89596262, 5.67154675, 5.59329333, 5.03621364,\n",
              "        2.73209996]),\n",
              " 'mean_score_time': array([0.84517517, 0.84968748, 0.85862327, 0.84857516, 1.30424571,\n",
              "        1.29557519, 1.21391497, 0.93041806, 1.61428752, 1.61234093,\n",
              "        1.4448091 , 0.93283863, 0.85121222, 0.86063695, 0.860499  ,\n",
              "        0.84890337, 1.20463939, 1.19554586, 1.15586338, 0.87490053,\n",
              "        1.54407978, 1.52397184, 1.39211411, 0.88449287, 0.84634166,\n",
              "        0.85421309, 0.86317968, 0.84683123, 1.16159739, 1.1639544 ,\n",
              "        1.10472522, 0.82970648, 1.51926594, 1.50622144, 1.37343802,\n",
              "        0.83166122]),\n",
              " 'mean_test_score': array([0.96515457, 0.96543448, 0.96543438, 0.96599431, 0.97663014,\n",
              "        0.97663014, 0.97690996, 0.97886908, 0.98376663, 0.98376663,\n",
              "        0.98404645, 0.98348662, 0.96515457, 0.96543448, 0.96543438,\n",
              "        0.96599431, 0.97760965, 0.97774961, 0.97816949, 0.98068824,\n",
              "        0.98404655, 0.98404655, 0.98404645, 0.983207  , 0.96515457,\n",
              "        0.96543448, 0.96543438, 0.96599431, 0.97858907, 0.97858897,\n",
              "        0.97900884, 0.98054828, 0.98502616, 0.98516611, 0.98544603,\n",
              "        0.98404665]),\n",
              " 'param_C': masked_array(data=[0.8, 0.8, 0.8, 0.8, 0.8, 0.8, 0.8, 0.8, 0.8, 0.8, 0.8,\n",
              "                    0.8, 1.0, 1.0, 1.0, 1.0, 1.0, 1.0, 1.0, 1.0, 1.0, 1.0,\n",
              "                    1.0, 1.0, 1.2, 1.2, 1.2, 1.2, 1.2, 1.2, 1.2, 1.2, 1.2,\n",
              "                    1.2, 1.2, 1.2],\n",
              "              mask=[False, False, False, False, False, False, False, False,\n",
              "                    False, False, False, False, False, False, False, False,\n",
              "                    False, False, False, False, False, False, False, False,\n",
              "                    False, False, False, False, False, False, False, False,\n",
              "                    False, False, False, False],\n",
              "        fill_value='?',\n",
              "             dtype=object),\n",
              " 'param_kernel': masked_array(data=['linear', 'linear', 'linear', 'linear', 'poly', 'poly',\n",
              "                    'poly', 'poly', 'rbf', 'rbf', 'rbf', 'rbf', 'linear',\n",
              "                    'linear', 'linear', 'linear', 'poly', 'poly', 'poly',\n",
              "                    'poly', 'rbf', 'rbf', 'rbf', 'rbf', 'linear', 'linear',\n",
              "                    'linear', 'linear', 'poly', 'poly', 'poly', 'poly',\n",
              "                    'rbf', 'rbf', 'rbf', 'rbf'],\n",
              "              mask=[False, False, False, False, False, False, False, False,\n",
              "                    False, False, False, False, False, False, False, False,\n",
              "                    False, False, False, False, False, False, False, False,\n",
              "                    False, False, False, False, False, False, False, False,\n",
              "                    False, False, False, False],\n",
              "        fill_value='?',\n",
              "             dtype=object),\n",
              " 'param_tol': masked_array(data=[0.001, 0.01, 0.1, 1.0, 0.001, 0.01, 0.1, 1.0, 0.001,\n",
              "                    0.01, 0.1, 1.0, 0.001, 0.01, 0.1, 1.0, 0.001, 0.01,\n",
              "                    0.1, 1.0, 0.001, 0.01, 0.1, 1.0, 0.001, 0.01, 0.1, 1.0,\n",
              "                    0.001, 0.01, 0.1, 1.0, 0.001, 0.01, 0.1, 1.0],\n",
              "              mask=[False, False, False, False, False, False, False, False,\n",
              "                    False, False, False, False, False, False, False, False,\n",
              "                    False, False, False, False, False, False, False, False,\n",
              "                    False, False, False, False, False, False, False, False,\n",
              "                    False, False, False, False],\n",
              "        fill_value='?',\n",
              "             dtype=object),\n",
              " 'params': [{'C': 0.8, 'kernel': 'linear', 'tol': 0.001},\n",
              "  {'C': 0.8, 'kernel': 'linear', 'tol': 0.01},\n",
              "  {'C': 0.8, 'kernel': 'linear', 'tol': 0.1},\n",
              "  {'C': 0.8, 'kernel': 'linear', 'tol': 1.0},\n",
              "  {'C': 0.8, 'kernel': 'poly', 'tol': 0.001},\n",
              "  {'C': 0.8, 'kernel': 'poly', 'tol': 0.01},\n",
              "  {'C': 0.8, 'kernel': 'poly', 'tol': 0.1},\n",
              "  {'C': 0.8, 'kernel': 'poly', 'tol': 1.0},\n",
              "  {'C': 0.8, 'kernel': 'rbf', 'tol': 0.001},\n",
              "  {'C': 0.8, 'kernel': 'rbf', 'tol': 0.01},\n",
              "  {'C': 0.8, 'kernel': 'rbf', 'tol': 0.1},\n",
              "  {'C': 0.8, 'kernel': 'rbf', 'tol': 1.0},\n",
              "  {'C': 1.0, 'kernel': 'linear', 'tol': 0.001},\n",
              "  {'C': 1.0, 'kernel': 'linear', 'tol': 0.01},\n",
              "  {'C': 1.0, 'kernel': 'linear', 'tol': 0.1},\n",
              "  {'C': 1.0, 'kernel': 'linear', 'tol': 1.0},\n",
              "  {'C': 1.0, 'kernel': 'poly', 'tol': 0.001},\n",
              "  {'C': 1.0, 'kernel': 'poly', 'tol': 0.01},\n",
              "  {'C': 1.0, 'kernel': 'poly', 'tol': 0.1},\n",
              "  {'C': 1.0, 'kernel': 'poly', 'tol': 1.0},\n",
              "  {'C': 1.0, 'kernel': 'rbf', 'tol': 0.001},\n",
              "  {'C': 1.0, 'kernel': 'rbf', 'tol': 0.01},\n",
              "  {'C': 1.0, 'kernel': 'rbf', 'tol': 0.1},\n",
              "  {'C': 1.0, 'kernel': 'rbf', 'tol': 1.0},\n",
              "  {'C': 1.2, 'kernel': 'linear', 'tol': 0.001},\n",
              "  {'C': 1.2, 'kernel': 'linear', 'tol': 0.01},\n",
              "  {'C': 1.2, 'kernel': 'linear', 'tol': 0.1},\n",
              "  {'C': 1.2, 'kernel': 'linear', 'tol': 1.0},\n",
              "  {'C': 1.2, 'kernel': 'poly', 'tol': 0.001},\n",
              "  {'C': 1.2, 'kernel': 'poly', 'tol': 0.01},\n",
              "  {'C': 1.2, 'kernel': 'poly', 'tol': 0.1},\n",
              "  {'C': 1.2, 'kernel': 'poly', 'tol': 1.0},\n",
              "  {'C': 1.2, 'kernel': 'rbf', 'tol': 0.001},\n",
              "  {'C': 1.2, 'kernel': 'rbf', 'tol': 0.01},\n",
              "  {'C': 1.2, 'kernel': 'rbf', 'tol': 0.1},\n",
              "  {'C': 1.2, 'kernel': 'rbf', 'tol': 1.0}],\n",
              " 'rank_test_score': array([34, 28, 31, 25, 23, 23, 22, 16,  9,  9,  8, 11, 34, 28, 31, 25, 21,\n",
              "        20, 19, 13,  5,  5,  7, 12, 34, 28, 31, 25, 17, 18, 15, 14,  3,  2,\n",
              "         1,  4], dtype=int32),\n",
              " 'split0_test_score': array([0.97062937, 0.97062937, 0.97132867, 0.97062937, 0.97762238,\n",
              "        0.97762238, 0.97832168, 0.98041958, 0.98741259, 0.98741259,\n",
              "        0.98811189, 0.98811189, 0.97062937, 0.97062937, 0.97132867,\n",
              "        0.97062937, 0.97902098, 0.97902098, 0.97902098, 0.98251748,\n",
              "        0.98741259, 0.98741259, 0.98811189, 0.98601399, 0.97062937,\n",
              "        0.97062937, 0.97132867, 0.97062937, 0.98111888, 0.98181818,\n",
              "        0.98181818, 0.98251748, 0.98811189, 0.98811189, 0.98811189,\n",
              "        0.98671329]),\n",
              " 'split1_test_score': array([0.96081176, 0.96081176, 0.96081176, 0.96151155, 0.97340798,\n",
              "        0.97340798, 0.97340798, 0.97690693, 0.97690693, 0.97690693,\n",
              "        0.97690693, 0.97690693, 0.96081176, 0.96081176, 0.96081176,\n",
              "        0.96151155, 0.97410777, 0.97480756, 0.97550735, 0.9790063 ,\n",
              "        0.97690693, 0.97690693, 0.97690693, 0.97620714, 0.96081176,\n",
              "        0.96081176, 0.96081176, 0.96151155, 0.97480756, 0.97410777,\n",
              "        0.97480756, 0.97830651, 0.9790063 , 0.9790063 , 0.97970609,\n",
              "        0.97970609]),\n",
              " 'split2_test_score': array([0.96221134, 0.96291113, 0.96291113, 0.96361092, 0.97550735,\n",
              "        0.97550735, 0.97550735, 0.97620714, 0.9860042 , 0.9860042 ,\n",
              "        0.98670399, 0.98390483, 0.96221134, 0.96291113, 0.96291113,\n",
              "        0.96361092, 0.97620714, 0.97620714, 0.97690693, 0.97830651,\n",
              "        0.98530441, 0.98530441, 0.98530441, 0.98390483, 0.96221134,\n",
              "        0.96291113, 0.96291113, 0.96361092, 0.97760672, 0.97760672,\n",
              "        0.97760672, 0.97970609, 0.98670399, 0.98670399, 0.98740378,\n",
              "        0.98460462]),\n",
              " 'split3_test_score': array([0.96571029, 0.96641008, 0.96571029, 0.96361092, 0.97970609,\n",
              "        0.97970609, 0.98040588, 0.98180546, 0.98530441, 0.98530441,\n",
              "        0.98530441, 0.98320504, 0.96571029, 0.96641008, 0.96571029,\n",
              "        0.96361092, 0.98180546, 0.98180546, 0.98250525, 0.98250525,\n",
              "        0.98530441, 0.98530441, 0.98530441, 0.9860042 , 0.96571029,\n",
              "        0.96641008, 0.96571029, 0.96361092, 0.98180546, 0.98180546,\n",
              "        0.98250525, 0.98250525, 0.98530441, 0.98530441, 0.98530441,\n",
              "        0.98320504]),\n",
              " 'split4_test_score': array([0.96641008, 0.96641008, 0.96641008, 0.97060882, 0.97690693,\n",
              "        0.97690693, 0.97690693, 0.9790063 , 0.98320504, 0.98320504,\n",
              "        0.98320504, 0.98530441, 0.96641008, 0.96641008, 0.96641008,\n",
              "        0.97060882, 0.97690693, 0.97690693, 0.97690693, 0.98110567,\n",
              "        0.98530441, 0.98530441, 0.98460462, 0.98390483, 0.96641008,\n",
              "        0.96641008, 0.96641008, 0.97060882, 0.97760672, 0.97760672,\n",
              "        0.97830651, 0.97970609, 0.9860042 , 0.98670399, 0.98670399,\n",
              "        0.9860042 ]),\n",
              " 'std_fit_time': array([0.04292258, 0.05530184, 0.05396186, 0.06095438, 0.09300824,\n",
              "        0.07560152, 0.0379754 , 0.05661347, 0.13552495, 0.1110258 ,\n",
              "        0.10012296, 0.04595491, 0.05801747, 0.05901802, 0.06151183,\n",
              "        0.08091071, 0.05380525, 0.05611647, 0.07767071, 0.15810252,\n",
              "        0.08328532, 0.08343323, 0.09289887, 0.0467095 , 0.04197296,\n",
              "        0.04186043, 0.06254634, 0.04920406, 0.04082232, 0.08585752,\n",
              "        0.04967005, 0.07252071, 0.08972622, 0.11545237, 0.10255098,\n",
              "        0.02213173]),\n",
              " 'std_score_time': array([0.0122099 , 0.01402908, 0.02213032, 0.02485436, 0.04283525,\n",
              "        0.03500988, 0.02051869, 0.0038576 , 0.03364597, 0.06045802,\n",
              "        0.03279388, 0.01348554, 0.019085  , 0.02708832, 0.01355164,\n",
              "        0.02115833, 0.01797388, 0.01668888, 0.02810315, 0.02541692,\n",
              "        0.03362927, 0.03596389, 0.02852545, 0.02906116, 0.01482448,\n",
              "        0.01848029, 0.01671284, 0.02163656, 0.01857293, 0.01597438,\n",
              "        0.01733105, 0.01516041, 0.02279064, 0.02265251, 0.0306565 ,\n",
              "        0.01059718]),\n",
              " 'std_test_score': array([0.00344619, 0.00336533, 0.00356388, 0.00385315, 0.0021055 ,\n",
              "        0.0021055 , 0.00238519, 0.00209672, 0.00368878, 0.00368878,\n",
              "        0.00392055, 0.00369443, 0.00344619, 0.00336533, 0.00356388,\n",
              "        0.00385315, 0.00261995, 0.00244177, 0.00244127, 0.00175063,\n",
              "        0.00366199, 0.00366199, 0.00376768, 0.00362424, 0.00344619,\n",
              "        0.00336533, 0.00356388, 0.00385315, 0.00256807, 0.00292522,\n",
              "        0.00283645, 0.00168236, 0.00314991, 0.00320531, 0.00301626,\n",
              "        0.00248206])}"
            ]
          },
          "metadata": {
            "tags": []
          },
          "execution_count": 22
        }
      ]
    },
    {
      "cell_type": "code",
      "metadata": {
        "colab": {
          "base_uri": "https://localhost:8080/"
        },
        "id": "Q2hwFOiIqVt4",
        "outputId": "d2d010fe-0711-406f-d704-b07b1dbd7046"
      },
      "source": [
        "ps.fit(sx_val,sy_val)\n",
        "ps.cv_results_"
      ],
      "execution_count": null,
      "outputs": [
        {
          "output_type": "execute_result",
          "data": {
            "text/plain": [
              "{'mean_fit_time': array([2.17643194, 2.17348037, 2.15406342, 2.15396218, 0.42056575,\n",
              "        0.42297039, 0.4184484 , 0.41855497, 2.42085538, 2.41833391,\n",
              "        2.42286549, 2.41202807, 0.41997108, 0.41386218, 0.41611056,\n",
              "        0.40717225]),\n",
              " 'mean_score_time': array([0.00767717, 0.00637841, 0.0078248 , 0.00675426, 0.00742855,\n",
              "        0.00710735, 0.00664105, 0.00658503, 0.00714259, 0.00651622,\n",
              "        0.00634255, 0.00688915, 0.00636621, 0.00662384, 0.00661421,\n",
              "        0.00617499]),\n",
              " 'mean_test_score': array([0.95004164, 0.95004164, 0.95004164, 0.95004164, 0.93982569,\n",
              "        0.93982569, 0.93982569, 0.93982569, 0.94514351, 0.94514351,\n",
              "        0.94514351, 0.94514351, 0.93115005, 0.93115005, 0.93115005,\n",
              "        0.93115005]),\n",
              " 'param_class_weight': masked_array(data=[None, None, None, None, None, None, None, None,\n",
              "                    'balanced', 'balanced', 'balanced', 'balanced',\n",
              "                    'balanced', 'balanced', 'balanced', 'balanced'],\n",
              "              mask=[False, False, False, False, False, False, False, False,\n",
              "                    False, False, False, False, False, False, False, False],\n",
              "        fill_value='?',\n",
              "             dtype=object),\n",
              " 'param_penalty': masked_array(data=['l1', 'l1', 'l1', 'l1', 'l2', 'l2', 'l2', 'l2', 'l1',\n",
              "                    'l1', 'l1', 'l1', 'l2', 'l2', 'l2', 'l2'],\n",
              "              mask=[False, False, False, False, False, False, False, False,\n",
              "                    False, False, False, False, False, False, False, False],\n",
              "        fill_value='?',\n",
              "             dtype=object),\n",
              " 'param_tol': masked_array(data=[0.001, 0.01, 0.1, 1.0, 0.001, 0.01, 0.1, 1.0, 0.001,\n",
              "                    0.01, 0.1, 1.0, 0.001, 0.01, 0.1, 1.0],\n",
              "              mask=[False, False, False, False, False, False, False, False,\n",
              "                    False, False, False, False, False, False, False, False],\n",
              "        fill_value='?',\n",
              "             dtype=object),\n",
              " 'params': [{'class_weight': None, 'penalty': 'l1', 'tol': 0.001},\n",
              "  {'class_weight': None, 'penalty': 'l1', 'tol': 0.01},\n",
              "  {'class_weight': None, 'penalty': 'l1', 'tol': 0.1},\n",
              "  {'class_weight': None, 'penalty': 'l1', 'tol': 1.0},\n",
              "  {'class_weight': None, 'penalty': 'l2', 'tol': 0.001},\n",
              "  {'class_weight': None, 'penalty': 'l2', 'tol': 0.01},\n",
              "  {'class_weight': None, 'penalty': 'l2', 'tol': 0.1},\n",
              "  {'class_weight': None, 'penalty': 'l2', 'tol': 1.0},\n",
              "  {'class_weight': 'balanced', 'penalty': 'l1', 'tol': 0.001},\n",
              "  {'class_weight': 'balanced', 'penalty': 'l1', 'tol': 0.01},\n",
              "  {'class_weight': 'balanced', 'penalty': 'l1', 'tol': 0.1},\n",
              "  {'class_weight': 'balanced', 'penalty': 'l1', 'tol': 1.0},\n",
              "  {'class_weight': 'balanced', 'penalty': 'l2', 'tol': 0.001},\n",
              "  {'class_weight': 'balanced', 'penalty': 'l2', 'tol': 0.01},\n",
              "  {'class_weight': 'balanced', 'penalty': 'l2', 'tol': 0.1},\n",
              "  {'class_weight': 'balanced', 'penalty': 'l2', 'tol': 1.0}],\n",
              " 'rank_test_score': array([ 1,  1,  1,  1,  9,  9,  9,  9,  5,  5,  5,  5, 13, 13, 13, 13],\n",
              "       dtype=int32),\n",
              " 'split0_test_score': array([0.95244755, 0.95244755, 0.95244755, 0.95244755, 0.94545455,\n",
              "        0.94545455, 0.94545455, 0.94545455, 0.94965035, 0.94965035,\n",
              "        0.94965035, 0.94965035, 0.93286713, 0.93286713, 0.93286713,\n",
              "        0.93286713]),\n",
              " 'split1_test_score': array([0.94961512, 0.94961512, 0.94961512, 0.94961512, 0.93072078,\n",
              "        0.93072078, 0.93072078, 0.93072078, 0.93142057, 0.93142057,\n",
              "        0.93142057, 0.93142057, 0.90202939, 0.90202939, 0.90202939,\n",
              "        0.90202939]),\n",
              " 'split2_test_score': array([0.94121763, 0.94121763, 0.94121763, 0.94121763, 0.93701889,\n",
              "        0.93701889, 0.93701889, 0.93701889, 0.94121763, 0.94121763,\n",
              "        0.94121763, 0.94121763, 0.95311407, 0.95311407, 0.95311407,\n",
              "        0.95311407]),\n",
              " 'split3_test_score': array([0.9580126 , 0.9580126 , 0.9580126 , 0.9580126 , 0.92512246,\n",
              "        0.92512246, 0.92512246, 0.92512246, 0.95661302, 0.95661302,\n",
              "        0.95661302, 0.95661302, 0.95241428, 0.95241428, 0.95241428,\n",
              "        0.95241428]),\n",
              " 'split4_test_score': array([0.94891533, 0.94891533, 0.94891533, 0.94891533, 0.96081176,\n",
              "        0.96081176, 0.96081176, 0.96081176, 0.94681596, 0.94681596,\n",
              "        0.94681596, 0.94681596, 0.9153254 , 0.9153254 , 0.9153254 ,\n",
              "        0.9153254 ]),\n",
              " 'std_fit_time': array([0.39645204, 0.38903072, 0.38614745, 0.37319995, 0.02956566,\n",
              "        0.02837993, 0.03233395, 0.02881104, 0.19413515, 0.19594407,\n",
              "        0.18403334, 0.18467984, 0.04494142, 0.04948748, 0.04839236,\n",
              "        0.04625566]),\n",
              " 'std_score_time': array([0.0007383 , 0.00044022, 0.00072078, 0.0008576 , 0.00110329,\n",
              "        0.00192259, 0.00058399, 0.00079886, 0.00106092, 0.00088506,\n",
              "        0.00041221, 0.00156891, 0.00036663, 0.00092159, 0.00108022,\n",
              "        0.00046876]),\n",
              " 'std_test_score': array([0.0054523 , 0.0054523 , 0.0054523 , 0.0054523 , 0.01248248,\n",
              "        0.01248248, 0.01248248, 0.01248248, 0.00846628, 0.00846628,\n",
              "        0.00846628, 0.00846628, 0.02017903, 0.02017903, 0.02017903,\n",
              "        0.02017903])}"
            ]
          },
          "metadata": {
            "tags": []
          },
          "execution_count": 23
        }
      ]
    },
    {
      "cell_type": "code",
      "metadata": {
        "id": "TziLi9XTenF2",
        "colab": {
          "base_uri": "https://localhost:8080/"
        },
        "outputId": "b5f59bcf-d712-4ad9-eeba-bba5b4ff181a"
      },
      "source": [
        "pm.fit(mx_val,my_val)\n",
        "pm.cv_results_"
      ],
      "execution_count": null,
      "outputs": [
        {
          "output_type": "execute_result",
          "data": {
            "text/plain": [
              "{'mean_fit_time': array([2.27810559, 2.2614428 , 2.30231342, 2.27532201, 0.41354403,\n",
              "        0.41980639, 0.41479878, 0.4153585 , 2.4586524 , 2.45759416,\n",
              "        2.46186299, 2.45421748, 0.40951281, 0.41101956, 0.4132545 ,\n",
              "        0.41346784]),\n",
              " 'mean_score_time': array([0.00688248, 0.00643096, 0.00625119, 0.00627837, 0.00647936,\n",
              "        0.0074708 , 0.00677915, 0.00582757, 0.00603995, 0.0069643 ,\n",
              "        0.00711374, 0.00690608, 0.00643754, 0.00647593, 0.00706325,\n",
              "        0.0069355 ]),\n",
              " 'mean_test_score': array([0.95801817, 0.95801817, 0.95801817, 0.95801817, 0.93786637,\n",
              "        0.93786637, 0.93786637, 0.93786637, 0.95647913, 0.95647913,\n",
              "        0.95647913, 0.95647913, 0.93828644, 0.93828644, 0.93828644,\n",
              "        0.93828644]),\n",
              " 'param_class_weight': masked_array(data=[None, None, None, None, None, None, None, None,\n",
              "                    'balanced', 'balanced', 'balanced', 'balanced',\n",
              "                    'balanced', 'balanced', 'balanced', 'balanced'],\n",
              "              mask=[False, False, False, False, False, False, False, False,\n",
              "                    False, False, False, False, False, False, False, False],\n",
              "        fill_value='?',\n",
              "             dtype=object),\n",
              " 'param_penalty': masked_array(data=['l1', 'l1', 'l1', 'l1', 'l2', 'l2', 'l2', 'l2', 'l1',\n",
              "                    'l1', 'l1', 'l1', 'l2', 'l2', 'l2', 'l2'],\n",
              "              mask=[False, False, False, False, False, False, False, False,\n",
              "                    False, False, False, False, False, False, False, False],\n",
              "        fill_value='?',\n",
              "             dtype=object),\n",
              " 'param_tol': masked_array(data=[0.001, 0.01, 0.1, 1.0, 0.001, 0.01, 0.1, 1.0, 0.001,\n",
              "                    0.01, 0.1, 1.0, 0.001, 0.01, 0.1, 1.0],\n",
              "              mask=[False, False, False, False, False, False, False, False,\n",
              "                    False, False, False, False, False, False, False, False],\n",
              "        fill_value='?',\n",
              "             dtype=object),\n",
              " 'params': [{'class_weight': None, 'penalty': 'l1', 'tol': 0.001},\n",
              "  {'class_weight': None, 'penalty': 'l1', 'tol': 0.01},\n",
              "  {'class_weight': None, 'penalty': 'l1', 'tol': 0.1},\n",
              "  {'class_weight': None, 'penalty': 'l1', 'tol': 1.0},\n",
              "  {'class_weight': None, 'penalty': 'l2', 'tol': 0.001},\n",
              "  {'class_weight': None, 'penalty': 'l2', 'tol': 0.01},\n",
              "  {'class_weight': None, 'penalty': 'l2', 'tol': 0.1},\n",
              "  {'class_weight': None, 'penalty': 'l2', 'tol': 1.0},\n",
              "  {'class_weight': 'balanced', 'penalty': 'l1', 'tol': 0.001},\n",
              "  {'class_weight': 'balanced', 'penalty': 'l1', 'tol': 0.01},\n",
              "  {'class_weight': 'balanced', 'penalty': 'l1', 'tol': 0.1},\n",
              "  {'class_weight': 'balanced', 'penalty': 'l1', 'tol': 1.0},\n",
              "  {'class_weight': 'balanced', 'penalty': 'l2', 'tol': 0.001},\n",
              "  {'class_weight': 'balanced', 'penalty': 'l2', 'tol': 0.01},\n",
              "  {'class_weight': 'balanced', 'penalty': 'l2', 'tol': 0.1},\n",
              "  {'class_weight': 'balanced', 'penalty': 'l2', 'tol': 1.0}],\n",
              " 'rank_test_score': array([ 1,  1,  1,  1, 13, 13, 13, 13,  5,  5,  5,  5,  9,  9,  9,  9],\n",
              "       dtype=int32),\n",
              " 'split0_test_score': array([0.96013986, 0.96013986, 0.96013986, 0.96013986, 0.94475524,\n",
              "        0.94475524, 0.94475524, 0.94475524, 0.95664336, 0.95664336,\n",
              "        0.95664336, 0.95664336, 0.94335664, 0.94335664, 0.94335664,\n",
              "        0.94335664]),\n",
              " 'split1_test_score': array([0.95451365, 0.95451365, 0.95451365, 0.95451365, 0.93351994,\n",
              "        0.93351994, 0.93351994, 0.93351994, 0.94961512, 0.94961512,\n",
              "        0.94961512, 0.94961512, 0.91952414, 0.91952414, 0.91952414,\n",
              "        0.91952414]),\n",
              " 'split2_test_score': array([0.95871239, 0.95871239, 0.95871239, 0.95871239, 0.93421973,\n",
              "        0.93421973, 0.93421973, 0.93421973, 0.96221134, 0.96221134,\n",
              "        0.96221134, 0.96221134, 0.95171449, 0.95171449, 0.95171449,\n",
              "        0.95171449]),\n",
              " 'split3_test_score': array([0.95591323, 0.95591323, 0.95591323, 0.95591323, 0.93002099,\n",
              "        0.93002099, 0.93002099, 0.93002099, 0.9580126 , 0.9580126 ,\n",
              "        0.9580126 , 0.9580126 , 0.91672498, 0.91672498, 0.91672498,\n",
              "        0.91672498]),\n",
              " 'split4_test_score': array([0.96081176, 0.96081176, 0.96081176, 0.96081176, 0.94681596,\n",
              "        0.94681596, 0.94681596, 0.94681596, 0.95591323, 0.95591323,\n",
              "        0.95591323, 0.95591323, 0.96011197, 0.96011197, 0.96011197,\n",
              "        0.96011197]),\n",
              " 'std_fit_time': array([0.28626937, 0.2915944 , 0.26790789, 0.29569753, 0.04159517,\n",
              "        0.04060664, 0.04209837, 0.03791745, 0.24137686, 0.25772286,\n",
              "        0.25749542, 0.25132291, 0.04027804, 0.03669457, 0.04192456,\n",
              "        0.03357764]),\n",
              " 'std_score_time': array([0.00086042, 0.00100439, 0.00049354, 0.00049626, 0.00123002,\n",
              "        0.0017249 , 0.0009228 , 0.00016302, 0.00019751, 0.00119573,\n",
              "        0.00085196, 0.00112704, 0.00094567, 0.00052719, 0.00210815,\n",
              "        0.00197915]),\n",
              " 'std_test_score': array([0.002429  , 0.002429  , 0.002429  , 0.002429  , 0.00665268,\n",
              "        0.00665268, 0.00665268, 0.00665268, 0.00406624, 0.00406624,\n",
              "        0.00406624, 0.00406624, 0.01731643, 0.01731643, 0.01731643,\n",
              "        0.01731643])}"
            ]
          },
          "metadata": {
            "tags": []
          },
          "execution_count": 24
        }
      ]
    },
    {
      "cell_type": "code",
      "metadata": {
        "id": "MoFxr7YtecIM"
      },
      "source": [
        "kno = k.best_estimator_\n",
        "kns = ks.best_estimator_\n",
        "knm = km.best_estimator_\n",
        "\n",
        "svo = s.best_estimator_\n",
        "svs = ss.best_estimator_\n",
        "smv = sm.best_estimator_\n",
        "\n",
        "peo = p.best_estimator_\n",
        "pes = ps.best_estimator_\n",
        "pem = pm.best_estimator_"
      ],
      "execution_count": null,
      "outputs": []
    },
    {
      "cell_type": "code",
      "metadata": {
        "id": "nusf7aqu2T6P"
      },
      "source": [
        "ovo = []\n",
        "ova = []\n",
        "for j in [kno,kns,knm,svo,svs,smv,peo,pes,pem] :\n",
        "  ovo.append(OVO(j))\n",
        "  ova.append(OVA(j))"
      ],
      "execution_count": null,
      "outputs": []
    },
    {
      "cell_type": "code",
      "metadata": {
        "id": "KuZiLjY03WLD"
      },
      "source": [
        "ko_test = (ovo[0].fit(x_train,y_train)).score(x_test,y_test)\n",
        "ks_test = (ovo[1].fit(sx_train,sy_train)).score(sx_test,sy_test)\n",
        "km_test = (ovo[2].fit(mx_train,my_train)).score(mx_test,my_test)\n",
        "\n",
        "so_test = (ovo[3].fit(x_train,y_train)).score(x_test,y_test)\n",
        "ss_test = (ovo[4].fit(sx_train,sy_train)).score(sx_test,sy_test)\n",
        "sm_test = (ovo[5].fit(mx_train,my_train)).score(mx_test,my_test)\n",
        "\n",
        "po_test = (ovo[6].fit(x_train,y_train)).score(x_test,y_test)\n",
        "ps_test = (ovo[7].fit(sx_train,sy_train)).score(sx_test,sy_test)\n",
        "pm_test = (ovo[8].fit(mx_train,my_train)).score(mx_test,my_test)"
      ],
      "execution_count": null,
      "outputs": []
    },
    {
      "cell_type": "code",
      "metadata": {
        "id": "u5Ot0juR5F7W"
      },
      "source": [
        "ko_testa = (ova[0].fit(x_train,y_train)).score(x_test,y_test)\n",
        "ks_testa = (ova[1].fit(sx_train,sy_train)).score(sx_test,sy_test)\n",
        "km_testa = (ova[2].fit(mx_train,my_train)).score(mx_test,my_test)\n",
        "\n",
        "so_testa = (ova[3].fit(x_train,y_train)).score(x_test,y_test)\n",
        "ss_testa = (ova[4].fit(sx_train,sy_train)).score(sx_test,sy_test)\n",
        "sm_testa = (ova[5].fit(mx_train,my_train)).score(mx_test,my_test)\n",
        "\n",
        "po_testa = (ova[6].fit(x_train,y_train)).score(x_test,y_test)\n",
        "ps_testa = (ova[7].fit(sx_train,sy_train)).score(sx_test,sy_test)\n",
        "pm_testa = (ova[8].fit(mx_train,my_train)).score(mx_test,my_test)"
      ],
      "execution_count": null,
      "outputs": []
    },
    {
      "cell_type": "code",
      "metadata": {
        "colab": {
          "base_uri": "https://localhost:8080/"
        },
        "id": "EVSmX22J5RIN",
        "outputId": "f3b4a715-498d-4a8b-b3bc-120a666c7d57"
      },
      "source": [
        "print(\"Accuracy of Nearest Neighbor Classifier with OVO Configuration and Original Dataset = \" + str(ko_test*100)+\" %\")\n",
        "print(\"Accuracy of Nearest Neighbor Classifier with OVO Configuration and Standardized Dataset = \" + str(ks_test*100)+\" %\")\n",
        "print(\"Accuracy of Nearest Neighbor Classifier with OVO Configuration and MinMaximised Dataset = \" + str(km_test*100)+\" %\")"
      ],
      "execution_count": null,
      "outputs": [
        {
          "output_type": "stream",
          "text": [
            "Accuracy of Nearest Neighbor Classifier with OVO Configuration and Original Dataset = 99.07692307692308 %\n",
            "Accuracy of Nearest Neighbor Classifier with OVO Configuration and Standardized Dataset = 99.3006993006993 %\n",
            "Accuracy of Nearest Neighbor Classifier with OVO Configuration and MinMaximised Dataset = 99.04895104895105 %\n"
          ],
          "name": "stdout"
        }
      ]
    },
    {
      "cell_type": "code",
      "metadata": {
        "colab": {
          "base_uri": "https://localhost:8080/"
        },
        "id": "sq89wHcUNBVI",
        "outputId": "bb71cf7f-7e41-4802-dccd-2a62e7cc0a52"
      },
      "source": [
        "print(\"Accuracy of Nearest Neighbor Classifier with OVA Configuration and Original Dataset = \" + str(ko_testa*100)+\" %\")\n",
        "print(\"Accuracy of Nearest Neighbor Classifier with OVA Configuration and Standardized Dataset = \" + str(ks_testa*100)+\" %\")\n",
        "print(\"Accuracy of Nearest Neighbor Classifier with OVA Configuration and MinMaximised Dataset = \" + str(km_testa*100)+\" %\")"
      ],
      "execution_count": null,
      "outputs": [
        {
          "output_type": "stream",
          "text": [
            "Accuracy of Nearest Neighbor Classifier with OVA Configuration and Original Dataset = 99.04895104895105 %\n",
            "Accuracy of Nearest Neighbor Classifier with OVA Configuration and Standardized Dataset = 99.3006993006993 %\n",
            "Accuracy of Nearest Neighbor Classifier with OVA Configuration and MinMaximised Dataset = 99.04895104895105 %\n"
          ],
          "name": "stdout"
        }
      ]
    },
    {
      "cell_type": "code",
      "metadata": {
        "colab": {
          "base_uri": "https://localhost:8080/"
        },
        "id": "JGbv3tnFNFRP",
        "outputId": "abf2a41a-22ad-4f17-befd-5cf69eda6287"
      },
      "source": [
        "print(\"Accuracy of Support Vector Classifier with OVO Configuration and Original Dataset = \" + str(so_test*100)+\" %\")\n",
        "print(\"Accuracy of Support Vector Classifier with OVO Configuration and Standardized Dataset = \" + str(ss_test*100)+\" %\")\n",
        "print(\"Accuracy of Support Vector Classifier with OVO Configuration and MinMaximised Dataset = \" + str(sm_test*100)+\" %\")"
      ],
      "execution_count": null,
      "outputs": [
        {
          "output_type": "stream",
          "text": [
            "Accuracy of Support Vector Classifier with OVO Configuration and Original Dataset = 99.32867132867132 %\n",
            "Accuracy of Support Vector Classifier with OVO Configuration and Standardized Dataset = 99.18881118881119 %\n",
            "Accuracy of Support Vector Classifier with OVO Configuration and MinMaximised Dataset = 98.99300699300699 %\n"
          ],
          "name": "stdout"
        }
      ]
    },
    {
      "cell_type": "code",
      "metadata": {
        "colab": {
          "base_uri": "https://localhost:8080/"
        },
        "id": "YeyHl0LTNHTN",
        "outputId": "7eb2b04d-ffe0-4459-dbcf-c01a932634a3"
      },
      "source": [
        "print(\"Accuracy of Support Vector Classifier with OVA Configuration and Original Dataset = \" + str(so_testa*100)+\" %\")\n",
        "print(\"Accuracy of Support Vector Classifier with OVA Configuration and Standardized Dataset = \" + str(ss_testa*100)+\" %\")\n",
        "print(\"Accuracy of Support Vector Classifier with OVA Configuration and MinMaximised Dataset = \" + str(sm_testa*100)+\" %\")"
      ],
      "execution_count": null,
      "outputs": [
        {
          "output_type": "stream",
          "text": [
            "Accuracy of Support Vector Classifier with OVA Configuration and Original Dataset = 99.24475524475524 %\n",
            "Accuracy of Support Vector Classifier with OVA Configuration and Standardized Dataset = 99.18881118881119 %\n",
            "Accuracy of Support Vector Classifier with OVA Configuration and MinMaximised Dataset = 99.04895104895105 %\n"
          ],
          "name": "stdout"
        }
      ]
    },
    {
      "cell_type": "code",
      "metadata": {
        "colab": {
          "base_uri": "https://localhost:8080/"
        },
        "id": "HDG4OO6vNI-9",
        "outputId": "6c9dbf67-dfe4-4303-9bb6-784e7b9f4c02"
      },
      "source": [
        "print(\"Accuracy of Perceptron Classifier with OVO Configuration and Original Dataset = \" + str(po_test*100)+\" %\")\n",
        "print(\"Accuracy of Perceptron Classifier with OVO Configuration and Standardized Dataset = \" + str(ps_test*100)+\" %\")\n",
        "print(\"Accuracy of Perceptron Classifier with OVO Configuration and MinMaximised Dataset = \" + str(pm_test*100)+\" %\")"
      ],
      "execution_count": null,
      "outputs": [
        {
          "output_type": "stream",
          "text": [
            "Accuracy of Perceptron Classifier with OVO Configuration and Original Dataset = 96.05594405594405 %\n",
            "Accuracy of Perceptron Classifier with OVO Configuration and Standardized Dataset = 96.81118881118881 %\n",
            "Accuracy of Perceptron Classifier with OVO Configuration and MinMaximised Dataset = 96.41958041958041 %\n"
          ],
          "name": "stdout"
        }
      ]
    },
    {
      "cell_type": "code",
      "metadata": {
        "colab": {
          "base_uri": "https://localhost:8080/"
        },
        "id": "vfCfAgneNJJ1",
        "outputId": "3bf81881-6c6e-4b41-c9a9-7fe7a7611c98"
      },
      "source": [
        "print(\"Accuracy of Perceptron Classifier with OVA Configuration and Original Dataset = \" + str(po_testa*100)+\" %\")\n",
        "print(\"Accuracy of Perceptron Classifier with OVA Configuration and Standardized Dataset = \" + str(ps_testa*100)+\" %\")\n",
        "print(\"Accuracy of Perceptron Classifier with OVA Configuration and MinMaximised Dataset = \" + str(pm_testa*100)+\" %\")"
      ],
      "execution_count": null,
      "outputs": [
        {
          "output_type": "stream",
          "text": [
            "Accuracy of Perceptron Classifier with OVA Configuration and Original Dataset = 94.20979020979021 %\n",
            "Accuracy of Perceptron Classifier with OVA Configuration and Standardized Dataset = 95.13286713286713 %\n",
            "Accuracy of Perceptron Classifier with OVA Configuration and MinMaximised Dataset = 95.8881118881119 %\n"
          ],
          "name": "stdout"
        }
      ]
    },
    {
      "cell_type": "markdown",
      "metadata": {
        "id": "QyhPoy523SvR"
      },
      "source": [
        "# **Support Vector Machine with \"Diabetes Dataset\"**"
      ]
    },
    {
      "cell_type": "code",
      "metadata": {
        "colab": {
          "base_uri": "https://localhost:8080/",
          "height": 204
        },
        "id": "lZnN33Lu3Tsb",
        "outputId": "12b6e817-9f18-41c2-a895-4894adc2b1b7"
      },
      "source": [
        "df = pd.read_csv('/content/diabetes.csv')\n",
        "df.head()"
      ],
      "execution_count": 2,
      "outputs": [
        {
          "output_type": "execute_result",
          "data": {
            "text/html": [
              "<div>\n",
              "<style scoped>\n",
              "    .dataframe tbody tr th:only-of-type {\n",
              "        vertical-align: middle;\n",
              "    }\n",
              "\n",
              "    .dataframe tbody tr th {\n",
              "        vertical-align: top;\n",
              "    }\n",
              "\n",
              "    .dataframe thead th {\n",
              "        text-align: right;\n",
              "    }\n",
              "</style>\n",
              "<table border=\"1\" class=\"dataframe\">\n",
              "  <thead>\n",
              "    <tr style=\"text-align: right;\">\n",
              "      <th></th>\n",
              "      <th>Pregnancies</th>\n",
              "      <th>Glucose</th>\n",
              "      <th>BloodPressure</th>\n",
              "      <th>SkinThickness</th>\n",
              "      <th>Insulin</th>\n",
              "      <th>BMI</th>\n",
              "      <th>DiabetesPedigreeFunction</th>\n",
              "      <th>Age</th>\n",
              "      <th>Outcome</th>\n",
              "    </tr>\n",
              "  </thead>\n",
              "  <tbody>\n",
              "    <tr>\n",
              "      <th>0</th>\n",
              "      <td>6</td>\n",
              "      <td>148</td>\n",
              "      <td>72</td>\n",
              "      <td>35</td>\n",
              "      <td>0</td>\n",
              "      <td>33.6</td>\n",
              "      <td>0.627</td>\n",
              "      <td>50</td>\n",
              "      <td>1</td>\n",
              "    </tr>\n",
              "    <tr>\n",
              "      <th>1</th>\n",
              "      <td>1</td>\n",
              "      <td>85</td>\n",
              "      <td>66</td>\n",
              "      <td>29</td>\n",
              "      <td>0</td>\n",
              "      <td>26.6</td>\n",
              "      <td>0.351</td>\n",
              "      <td>31</td>\n",
              "      <td>0</td>\n",
              "    </tr>\n",
              "    <tr>\n",
              "      <th>2</th>\n",
              "      <td>8</td>\n",
              "      <td>183</td>\n",
              "      <td>64</td>\n",
              "      <td>0</td>\n",
              "      <td>0</td>\n",
              "      <td>23.3</td>\n",
              "      <td>0.672</td>\n",
              "      <td>32</td>\n",
              "      <td>1</td>\n",
              "    </tr>\n",
              "    <tr>\n",
              "      <th>3</th>\n",
              "      <td>1</td>\n",
              "      <td>89</td>\n",
              "      <td>66</td>\n",
              "      <td>23</td>\n",
              "      <td>94</td>\n",
              "      <td>28.1</td>\n",
              "      <td>0.167</td>\n",
              "      <td>21</td>\n",
              "      <td>0</td>\n",
              "    </tr>\n",
              "    <tr>\n",
              "      <th>4</th>\n",
              "      <td>0</td>\n",
              "      <td>137</td>\n",
              "      <td>40</td>\n",
              "      <td>35</td>\n",
              "      <td>168</td>\n",
              "      <td>43.1</td>\n",
              "      <td>2.288</td>\n",
              "      <td>33</td>\n",
              "      <td>1</td>\n",
              "    </tr>\n",
              "  </tbody>\n",
              "</table>\n",
              "</div>"
            ],
            "text/plain": [
              "   Pregnancies  Glucose  BloodPressure  ...  DiabetesPedigreeFunction  Age  Outcome\n",
              "0            6      148             72  ...                     0.627   50        1\n",
              "1            1       85             66  ...                     0.351   31        0\n",
              "2            8      183             64  ...                     0.672   32        1\n",
              "3            1       89             66  ...                     0.167   21        0\n",
              "4            0      137             40  ...                     2.288   33        1\n",
              "\n",
              "[5 rows x 9 columns]"
            ]
          },
          "metadata": {
            "tags": []
          },
          "execution_count": 2
        }
      ]
    },
    {
      "cell_type": "code",
      "metadata": {
        "id": "yBdTCOz119V7"
      },
      "source": [
        "df_s = pd.DataFrame((StandardScaler().fit(df.iloc[:,:-1])).transform(df.iloc[:,:-1]),columns = df.iloc[:,:-1].columns)\n",
        "df_m = pd.DataFrame((MinMaxScaler().fit(df.iloc[:,:-1])).transform(df.iloc[:,:-1]),columns = df.iloc[:,:-1].columns)\n",
        "\n",
        "df_s['Outcome'] = df['Outcome']\n",
        "df_m['Outcome'] = df['Outcome']"
      ],
      "execution_count": 3,
      "outputs": []
    },
    {
      "cell_type": "code",
      "metadata": {
        "id": "X5o8uvVlUhwP"
      },
      "source": [
        "tr_x,te_x,tr_y,te_y = train_test_split(df.iloc[:,:-1],df.iloc[:,-1],test_size = 0.3)\n",
        "val_x,test_x,val_y,test_y = train_test_split(te_x,te_y,test_size = 0.3334)\n",
        "\n",
        "tr_xs,te_xs,tr_ys,te_ys = train_test_split(df_s.iloc[:,:-1],df_s.iloc[:,-1],test_size = 0.3)\n",
        "val_xs,test_xs,val_ys,test_ys = train_test_split(te_xs,te_ys,test_size = 0.3334)\n",
        "\n",
        "tr_xm,te_xm,tr_ym,te_ym = train_test_split(df_m.iloc[:,:-1],df_m.iloc[:,-1],test_size = 0.3)\n",
        "val_xm,test_xm,val_ym,test_ym = train_test_split(te_xm,te_ym,test_size = 0.3334)"
      ],
      "execution_count": 4,
      "outputs": []
    },
    {
      "cell_type": "code",
      "metadata": {
        "colab": {
          "base_uri": "https://localhost:8080/"
        },
        "id": "gaHB8le6Vjx2",
        "outputId": "f563933e-4aa7-4b41-8823-4567ec44abfd"
      },
      "source": [
        "params = {'C' : [0.001,0.01,0.1,1,10,100,1000], 'tol' : [0.01,0.1,1,10,100]}\n",
        "poly_params = {'C' : [0.001,0.01,0.1,1,10,100,1000], 'degree' : [2,3,4,5,6]}\n",
        "Gs1 = GSCV(SVC(kernel='linear'),params)\n",
        "Gs2 = GSCV(SVC(kernel='poly'),poly_params)\n",
        "Gs3 = GSCV(SVC(kernel='rbf'),params)\n",
        "Gs1.fit(val_x,val_y)\n",
        "Gs2.fit(val_x,val_y)\n",
        "Gs3.fit(val_x,val_y)\n",
        "\n",
        "Gs1s = GSCV(SVC(kernel='linear'),params)\n",
        "Gs2s = GSCV(SVC(kernel='poly'),poly_params)\n",
        "Gs3s = GSCV(SVC(kernel='rbf'),params)\n",
        "Gs1s.fit(val_xs,val_ys)\n",
        "Gs2s.fit(val_xs,val_ys)\n",
        "Gs3s.fit(val_xs,val_ys)\n",
        "\n",
        "Gs1m = GSCV(SVC(kernel='linear'),params)\n",
        "Gs2m = GSCV(SVC(kernel='poly'),poly_params)\n",
        "Gs3m = GSCV(SVC(kernel='rbf'),params)\n",
        "Gs1m.fit(val_xm,val_ym)\n",
        "Gs2m.fit(val_xm,val_ym)\n",
        "Gs3m.fit(val_xm,val_ym)"
      ],
      "execution_count": 5,
      "outputs": [
        {
          "output_type": "execute_result",
          "data": {
            "text/plain": [
              "GridSearchCV(cv=None, error_score=nan,\n",
              "             estimator=SVC(C=1.0, break_ties=False, cache_size=200,\n",
              "                           class_weight=None, coef0=0.0,\n",
              "                           decision_function_shape='ovr', degree=3,\n",
              "                           gamma='scale', kernel='rbf', max_iter=-1,\n",
              "                           probability=False, random_state=None, shrinking=True,\n",
              "                           tol=0.001, verbose=False),\n",
              "             iid='deprecated', n_jobs=None,\n",
              "             param_grid={'C': [0.001, 0.01, 0.1, 1, 10, 100, 1000],\n",
              "                         'tol': [0.01, 0.1, 1, 10, 100]},\n",
              "             pre_dispatch='2*n_jobs', refit=True, return_train_score=False,\n",
              "             scoring=None, verbose=0)"
            ]
          },
          "metadata": {
            "tags": []
          },
          "execution_count": 5
        }
      ]
    },
    {
      "cell_type": "code",
      "metadata": {
        "colab": {
          "base_uri": "https://localhost:8080/"
        },
        "id": "-W5OpLAQf8_R",
        "outputId": "28278034-bd70-4fe0-87e3-fd1f9e3a5653"
      },
      "source": [
        "Gs1.cv_results_"
      ],
      "execution_count": 6,
      "outputs": [
        {
          "output_type": "execute_result",
          "data": {
            "text/plain": [
              "{'mean_fit_time': array([2.36077309e-03, 2.02989578e-03, 1.82662010e-03, 1.49412155e-03,\n",
              "        1.54347420e-03, 4.16717529e-03, 3.21960449e-03, 2.22578049e-03,\n",
              "        1.47423744e-03, 1.49617195e-03, 2.17072487e-02, 1.25823021e-02,\n",
              "        5.20420074e-03, 1.56450272e-03, 1.49898529e-03, 3.94437456e-01,\n",
              "        1.32055283e-01, 3.41049194e-02, 1.55129433e-03, 1.52134895e-03,\n",
              "        3.07252731e+00, 1.24966569e+00, 2.69884205e-01, 1.68418884e-03,\n",
              "        1.65858269e-03, 1.18467826e+01, 5.83325219e+00, 2.74531670e+00,\n",
              "        1.53121948e-03, 2.03270912e-03, 2.77507084e+01, 1.55792075e+01,\n",
              "        8.91373959e+00, 1.50580406e-03, 1.44882202e-03]),\n",
              " 'mean_score_time': array([0.00105929, 0.00097532, 0.00092573, 0.0008924 , 0.00087385,\n",
              "        0.00095015, 0.00092192, 0.00090394, 0.00088902, 0.00086904,\n",
              "        0.0011622 , 0.00097508, 0.0009232 , 0.00092778, 0.00088062,\n",
              "        0.00147781, 0.00146084, 0.00127606, 0.00099349, 0.00089731,\n",
              "        0.00130262, 0.00131645, 0.00136657, 0.00092797, 0.00094576,\n",
              "        0.00143929, 0.0013186 , 0.00131044, 0.00088272, 0.00117345,\n",
              "        0.0016583 , 0.00156164, 0.00137649, 0.00087404, 0.00085206]),\n",
              " 'mean_test_score': array([0.7855914 , 0.7855914 , 0.7855914 , 0.35290323, 0.35290323,\n",
              "        0.77892473, 0.77892473, 0.79870968, 0.35290323, 0.35290323,\n",
              "        0.81139785, 0.81139785, 0.79870968, 0.35290323, 0.35290323,\n",
              "        0.82451613, 0.82451613, 0.81827957, 0.35290323, 0.35290323,\n",
              "        0.82451613, 0.82451613, 0.82473118, 0.35290323, 0.35290323,\n",
              "        0.80494624, 0.80494624, 0.80494624, 0.35290323, 0.35290323,\n",
              "        0.7916129 , 0.78494624, 0.77849462, 0.35290323, 0.35290323]),\n",
              " 'param_C': masked_array(data=[0.001, 0.001, 0.001, 0.001, 0.001, 0.01, 0.01, 0.01,\n",
              "                    0.01, 0.01, 0.1, 0.1, 0.1, 0.1, 0.1, 1, 1, 1, 1, 1, 10,\n",
              "                    10, 10, 10, 10, 100, 100, 100, 100, 100, 1000, 1000,\n",
              "                    1000, 1000, 1000],\n",
              "              mask=[False, False, False, False, False, False, False, False,\n",
              "                    False, False, False, False, False, False, False, False,\n",
              "                    False, False, False, False, False, False, False, False,\n",
              "                    False, False, False, False, False, False, False, False,\n",
              "                    False, False, False],\n",
              "        fill_value='?',\n",
              "             dtype=object),\n",
              " 'param_tol': masked_array(data=[0.01, 0.1, 1, 10, 100, 0.01, 0.1, 1, 10, 100, 0.01,\n",
              "                    0.1, 1, 10, 100, 0.01, 0.1, 1, 10, 100, 0.01, 0.1, 1,\n",
              "                    10, 100, 0.01, 0.1, 1, 10, 100, 0.01, 0.1, 1, 10, 100],\n",
              "              mask=[False, False, False, False, False, False, False, False,\n",
              "                    False, False, False, False, False, False, False, False,\n",
              "                    False, False, False, False, False, False, False, False,\n",
              "                    False, False, False, False, False, False, False, False,\n",
              "                    False, False, False],\n",
              "        fill_value='?',\n",
              "             dtype=object),\n",
              " 'params': [{'C': 0.001, 'tol': 0.01},\n",
              "  {'C': 0.001, 'tol': 0.1},\n",
              "  {'C': 0.001, 'tol': 1},\n",
              "  {'C': 0.001, 'tol': 10},\n",
              "  {'C': 0.001, 'tol': 100},\n",
              "  {'C': 0.01, 'tol': 0.01},\n",
              "  {'C': 0.01, 'tol': 0.1},\n",
              "  {'C': 0.01, 'tol': 1},\n",
              "  {'C': 0.01, 'tol': 10},\n",
              "  {'C': 0.01, 'tol': 100},\n",
              "  {'C': 0.1, 'tol': 0.01},\n",
              "  {'C': 0.1, 'tol': 0.1},\n",
              "  {'C': 0.1, 'tol': 1},\n",
              "  {'C': 0.1, 'tol': 10},\n",
              "  {'C': 0.1, 'tol': 100},\n",
              "  {'C': 1, 'tol': 0.01},\n",
              "  {'C': 1, 'tol': 0.1},\n",
              "  {'C': 1, 'tol': 1},\n",
              "  {'C': 1, 'tol': 10},\n",
              "  {'C': 1, 'tol': 100},\n",
              "  {'C': 10, 'tol': 0.01},\n",
              "  {'C': 10, 'tol': 0.1},\n",
              "  {'C': 10, 'tol': 1},\n",
              "  {'C': 10, 'tol': 10},\n",
              "  {'C': 10, 'tol': 100},\n",
              "  {'C': 100, 'tol': 0.01},\n",
              "  {'C': 100, 'tol': 0.1},\n",
              "  {'C': 100, 'tol': 1},\n",
              "  {'C': 100, 'tol': 10},\n",
              "  {'C': 100, 'tol': 100},\n",
              "  {'C': 1000, 'tol': 0.01},\n",
              "  {'C': 1000, 'tol': 0.1},\n",
              "  {'C': 1000, 'tol': 1},\n",
              "  {'C': 1000, 'tol': 10},\n",
              "  {'C': 1000, 'tol': 100}],\n",
              " 'rank_test_score': array([15, 15, 15, 22, 22, 19, 19, 12, 22, 22,  7,  7, 12, 22, 22,  2,  2,\n",
              "         6, 22, 22,  2,  2,  1, 22, 22,  9,  9,  9, 22, 22, 14, 18, 21, 22,\n",
              "        22], dtype=int32),\n",
              " 'split0_test_score': array([0.77419355, 0.77419355, 0.80645161, 0.35483871, 0.35483871,\n",
              "        0.77419355, 0.77419355, 0.77419355, 0.35483871, 0.35483871,\n",
              "        0.77419355, 0.77419355, 0.77419355, 0.35483871, 0.35483871,\n",
              "        0.77419355, 0.77419355, 0.77419355, 0.35483871, 0.35483871,\n",
              "        0.80645161, 0.80645161, 0.80645161, 0.35483871, 0.35483871,\n",
              "        0.80645161, 0.80645161, 0.77419355, 0.35483871, 0.35483871,\n",
              "        0.80645161, 0.80645161, 0.80645161, 0.35483871, 0.35483871]),\n",
              " 'split1_test_score': array([0.64516129, 0.64516129, 0.64516129, 0.35483871, 0.35483871,\n",
              "        0.67741935, 0.67741935, 0.67741935, 0.35483871, 0.35483871,\n",
              "        0.70967742, 0.70967742, 0.70967742, 0.35483871, 0.35483871,\n",
              "        0.74193548, 0.74193548, 0.74193548, 0.35483871, 0.35483871,\n",
              "        0.70967742, 0.70967742, 0.74193548, 0.35483871, 0.35483871,\n",
              "        0.70967742, 0.67741935, 0.74193548, 0.35483871, 0.35483871,\n",
              "        0.70967742, 0.70967742, 0.70967742, 0.35483871, 0.35483871]),\n",
              " 'split2_test_score': array([0.74193548, 0.74193548, 0.70967742, 0.35483871, 0.35483871,\n",
              "        0.70967742, 0.70967742, 0.74193548, 0.35483871, 0.35483871,\n",
              "        0.80645161, 0.80645161, 0.70967742, 0.35483871, 0.35483871,\n",
              "        0.80645161, 0.80645161, 0.74193548, 0.35483871, 0.35483871,\n",
              "        0.80645161, 0.80645161, 0.74193548, 0.35483871, 0.35483871,\n",
              "        0.74193548, 0.77419355, 0.74193548, 0.35483871, 0.35483871,\n",
              "        0.74193548, 0.74193548, 0.70967742, 0.35483871, 0.35483871]),\n",
              " 'split3_test_score': array([0.83333333, 0.83333333, 0.83333333, 0.36666667, 0.36666667,\n",
              "        0.8       , 0.8       , 0.86666667, 0.36666667, 0.36666667,\n",
              "        0.83333333, 0.83333333, 0.86666667, 0.36666667, 0.36666667,\n",
              "        0.86666667, 0.86666667, 0.86666667, 0.36666667, 0.36666667,\n",
              "        0.86666667, 0.86666667, 0.86666667, 0.36666667, 0.36666667,\n",
              "        0.83333333, 0.83333333, 0.86666667, 0.36666667, 0.36666667,\n",
              "        0.83333333, 0.83333333, 0.83333333, 0.36666667, 0.36666667]),\n",
              " 'split4_test_score': array([0.93333333, 0.93333333, 0.93333333, 0.33333333, 0.33333333,\n",
              "        0.93333333, 0.93333333, 0.93333333, 0.33333333, 0.33333333,\n",
              "        0.93333333, 0.93333333, 0.93333333, 0.33333333, 0.33333333,\n",
              "        0.93333333, 0.93333333, 0.96666667, 0.33333333, 0.33333333,\n",
              "        0.93333333, 0.93333333, 0.96666667, 0.33333333, 0.33333333,\n",
              "        0.93333333, 0.93333333, 0.9       , 0.33333333, 0.33333333,\n",
              "        0.86666667, 0.83333333, 0.83333333, 0.33333333, 0.33333333]),\n",
              " 'std_fit_time': array([2.11197061e-04, 3.66520006e-05, 5.11274398e-05, 1.98958269e-05,\n",
              "        4.45885835e-05, 6.84141265e-04, 4.46634049e-04, 6.79713933e-05,\n",
              "        2.10736131e-05, 3.13918963e-05, 7.04237598e-03, 3.54484460e-03,\n",
              "        4.07283418e-04, 2.28600229e-04, 3.92565874e-05, 2.58747721e-01,\n",
              "        2.53716541e-02, 5.46436121e-03, 7.75961607e-05, 3.31472142e-05,\n",
              "        1.32720730e+00, 3.09120028e-01, 3.81118230e-02, 1.19311289e-04,\n",
              "        1.86145379e-04, 5.33027434e+00, 2.64530923e+00, 5.31846404e-01,\n",
              "        1.36231517e-04, 4.40261230e-04, 9.19671806e+00, 3.70953403e+00,\n",
              "        2.64695573e+00, 9.34112188e-05, 3.11091573e-05]),\n",
              " 'std_score_time': array([2.18290770e-04, 8.32606562e-05, 1.84631446e-05, 3.89862131e-05,\n",
              "        1.50829857e-05, 6.20145011e-06, 2.02115967e-05, 1.35295769e-05,\n",
              "        4.90893143e-05, 1.69307411e-05, 1.37990577e-04, 3.13831309e-05,\n",
              "        2.08996154e-05, 1.40749261e-04, 1.43808901e-05, 3.09531803e-04,\n",
              "        3.30560749e-04, 2.96374145e-05, 1.13383614e-04, 1.56331337e-05,\n",
              "        3.45526352e-05, 4.48243668e-05, 3.48138153e-05, 1.98889688e-05,\n",
              "        5.56898850e-05, 1.13413731e-04, 4.28245432e-05, 3.05073691e-05,\n",
              "        4.84325734e-05, 2.08287110e-04, 3.40092770e-04, 2.23508383e-04,\n",
              "        3.95839755e-05, 2.60027133e-05, 2.75970509e-05]),\n",
              " 'std_test_score': array([0.09577404, 0.09577404, 0.10002566, 0.01080418, 0.01080418,\n",
              "        0.08877736, 0.08877736, 0.09085964, 0.01080418, 0.01080418,\n",
              "        0.07362757, 0.07362757, 0.08853949, 0.01080418, 0.01080418,\n",
              "        0.06825848, 0.06825848, 0.08713261, 0.01080418, 0.01080418,\n",
              "        0.07410592, 0.07410592, 0.08479229, 0.01080418, 0.01080418,\n",
              "        0.0778946 , 0.08306645, 0.06592582, 0.01080418, 0.01080418,\n",
              "        0.05792257, 0.05031982, 0.05703994, 0.01080418, 0.01080418])}"
            ]
          },
          "metadata": {
            "tags": []
          },
          "execution_count": 6
        }
      ]
    },
    {
      "cell_type": "code",
      "metadata": {
        "colab": {
          "base_uri": "https://localhost:8080/"
        },
        "id": "WxHyXCs4iewh",
        "outputId": "cd8ce7c3-1557-4ecf-c24f-1d7b04b85e84"
      },
      "source": [
        "Gs2.cv_results_"
      ],
      "execution_count": 7,
      "outputs": [
        {
          "output_type": "execute_result",
          "data": {
            "text/plain": [
              "{'mean_fit_time': array([0.0018507 , 0.00177298, 0.00177097, 0.0018971 , 0.0018734 ,\n",
              "        0.00175834, 0.00179176, 0.00190506, 0.00204597, 0.00199308,\n",
              "        0.00173011, 0.00192671, 0.00228224, 0.00239363, 0.00244646,\n",
              "        0.00187974, 0.00238247, 0.0030056 , 0.00388403, 0.00585985,\n",
              "        0.00276279, 0.005161  , 0.00667233, 0.02052369, 0.019278  ,\n",
              "        0.01224976, 0.01343961, 0.02870817, 0.10040493, 0.06479487,\n",
              "        0.04515581, 0.09224443, 0.16623406, 0.1513062 , 0.1963717 ]),\n",
              " 'mean_score_time': array([0.0009376 , 0.0009037 , 0.00091076, 0.00098324, 0.00091352,\n",
              "        0.00090537, 0.00091844, 0.00090723, 0.00089722, 0.00089908,\n",
              "        0.0008986 , 0.00092201, 0.00090227, 0.0009078 , 0.000949  ,\n",
              "        0.00088973, 0.00094299, 0.00090246, 0.00093598, 0.0009263 ,\n",
              "        0.00092716, 0.00094199, 0.00094528, 0.00113072, 0.00119982,\n",
              "        0.00098958, 0.00100284, 0.00117068, 0.00120568, 0.00125489,\n",
              "        0.00130148, 0.00126629, 0.00130839, 0.00143409, 0.00127192]),\n",
              " 'mean_test_score': array([0.64709677, 0.64064516, 0.64064516, 0.68688172, 0.69956989,\n",
              "        0.64064516, 0.64064516, 0.69978495, 0.71290323, 0.72645161,\n",
              "        0.69978495, 0.75870968, 0.76537634, 0.75870968, 0.75870968,\n",
              "        0.77849462, 0.77225806, 0.77870968, 0.7916129 , 0.77870968,\n",
              "        0.75935484, 0.76580645, 0.77870968, 0.77870968, 0.7655914 ,\n",
              "        0.81806452, 0.79806452, 0.73956989, 0.73311828, 0.76580645,\n",
              "        0.79806452, 0.73978495, 0.74602151, 0.75204301, 0.75204301]),\n",
              " 'param_C': masked_array(data=[0.001, 0.001, 0.001, 0.001, 0.001, 0.01, 0.01, 0.01,\n",
              "                    0.01, 0.01, 0.1, 0.1, 0.1, 0.1, 0.1, 1, 1, 1, 1, 1, 10,\n",
              "                    10, 10, 10, 10, 100, 100, 100, 100, 100, 1000, 1000,\n",
              "                    1000, 1000, 1000],\n",
              "              mask=[False, False, False, False, False, False, False, False,\n",
              "                    False, False, False, False, False, False, False, False,\n",
              "                    False, False, False, False, False, False, False, False,\n",
              "                    False, False, False, False, False, False, False, False,\n",
              "                    False, False, False],\n",
              "        fill_value='?',\n",
              "             dtype=object),\n",
              " 'param_degree': masked_array(data=[2, 3, 4, 5, 6, 2, 3, 4, 5, 6, 2, 3, 4, 5, 6, 2, 3, 4,\n",
              "                    5, 6, 2, 3, 4, 5, 6, 2, 3, 4, 5, 6, 2, 3, 4, 5, 6],\n",
              "              mask=[False, False, False, False, False, False, False, False,\n",
              "                    False, False, False, False, False, False, False, False,\n",
              "                    False, False, False, False, False, False, False, False,\n",
              "                    False, False, False, False, False, False, False, False,\n",
              "                    False, False, False],\n",
              "        fill_value='?',\n",
              "             dtype=object),\n",
              " 'params': [{'C': 0.001, 'degree': 2},\n",
              "  {'C': 0.001, 'degree': 3},\n",
              "  {'C': 0.001, 'degree': 4},\n",
              "  {'C': 0.001, 'degree': 5},\n",
              "  {'C': 0.001, 'degree': 6},\n",
              "  {'C': 0.01, 'degree': 2},\n",
              "  {'C': 0.01, 'degree': 3},\n",
              "  {'C': 0.01, 'degree': 4},\n",
              "  {'C': 0.01, 'degree': 5},\n",
              "  {'C': 0.01, 'degree': 6},\n",
              "  {'C': 0.1, 'degree': 2},\n",
              "  {'C': 0.1, 'degree': 3},\n",
              "  {'C': 0.1, 'degree': 4},\n",
              "  {'C': 0.1, 'degree': 5},\n",
              "  {'C': 0.1, 'degree': 6},\n",
              "  {'C': 1, 'degree': 2},\n",
              "  {'C': 1, 'degree': 3},\n",
              "  {'C': 1, 'degree': 4},\n",
              "  {'C': 1, 'degree': 5},\n",
              "  {'C': 1, 'degree': 6},\n",
              "  {'C': 10, 'degree': 2},\n",
              "  {'C': 10, 'degree': 3},\n",
              "  {'C': 10, 'degree': 4},\n",
              "  {'C': 10, 'degree': 5},\n",
              "  {'C': 10, 'degree': 6},\n",
              "  {'C': 100, 'degree': 2},\n",
              "  {'C': 100, 'degree': 3},\n",
              "  {'C': 100, 'degree': 4},\n",
              "  {'C': 100, 'degree': 5},\n",
              "  {'C': 100, 'degree': 6},\n",
              "  {'C': 1000, 'degree': 2},\n",
              "  {'C': 1000, 'degree': 3},\n",
              "  {'C': 1000, 'degree': 4},\n",
              "  {'C': 1000, 'degree': 5},\n",
              "  {'C': 1000, 'degree': 6}],\n",
              " 'rank_test_score': array([31, 32, 32, 30, 29, 32, 32, 27, 26, 25, 27, 17, 14, 16, 17,  9, 10,\n",
              "         5,  4,  6, 15, 11,  6,  6, 13,  1,  2, 23, 24, 12,  2, 22, 21, 19,\n",
              "        19], dtype=int32),\n",
              " 'split0_test_score': array([0.64516129, 0.64516129, 0.64516129, 0.67741935, 0.70967742,\n",
              "        0.64516129, 0.64516129, 0.70967742, 0.70967742, 0.67741935,\n",
              "        0.70967742, 0.74193548, 0.70967742, 0.74193548, 0.70967742,\n",
              "        0.77419355, 0.74193548, 0.77419355, 0.80645161, 0.70967742,\n",
              "        0.74193548, 0.74193548, 0.74193548, 0.70967742, 0.70967742,\n",
              "        0.77419355, 0.74193548, 0.64516129, 0.64516129, 0.67741935,\n",
              "        0.77419355, 0.64516129, 0.67741935, 0.74193548, 0.77419355]),\n",
              " 'split1_test_score': array([0.64516129, 0.64516129, 0.64516129, 0.67741935, 0.70967742,\n",
              "        0.64516129, 0.64516129, 0.70967742, 0.67741935, 0.67741935,\n",
              "        0.67741935, 0.74193548, 0.77419355, 0.74193548, 0.77419355,\n",
              "        0.70967742, 0.70967742, 0.70967742, 0.70967742, 0.70967742,\n",
              "        0.64516129, 0.67741935, 0.67741935, 0.74193548, 0.74193548,\n",
              "        0.74193548, 0.74193548, 0.70967742, 0.74193548, 0.74193548,\n",
              "        0.70967742, 0.67741935, 0.70967742, 0.74193548, 0.74193548]),\n",
              " 'split2_test_score': array([0.64516129, 0.61290323, 0.61290323, 0.61290323, 0.64516129,\n",
              "        0.61290323, 0.61290323, 0.61290323, 0.67741935, 0.67741935,\n",
              "        0.64516129, 0.70967742, 0.70967742, 0.70967742, 0.70967742,\n",
              "        0.74193548, 0.70967742, 0.70967742, 0.74193548, 0.77419355,\n",
              "        0.70967742, 0.70967742, 0.77419355, 0.74193548, 0.70967742,\n",
              "        0.77419355, 0.80645161, 0.70967742, 0.64516129, 0.70967742,\n",
              "        0.80645161, 0.70967742, 0.70967742, 0.70967742, 0.67741935]),\n",
              " 'split3_test_score': array([0.63333333, 0.63333333, 0.63333333, 0.76666667, 0.76666667,\n",
              "        0.63333333, 0.63333333, 0.76666667, 0.8       , 0.8       ,\n",
              "        0.73333333, 0.8       , 0.83333333, 0.83333333, 0.8       ,\n",
              "        0.8       , 0.83333333, 0.83333333, 0.8       , 0.8       ,\n",
              "        0.83333333, 0.83333333, 0.8       , 0.8       , 0.8       ,\n",
              "        0.86666667, 0.83333333, 0.76666667, 0.76666667, 0.8       ,\n",
              "        0.83333333, 0.8       , 0.76666667, 0.7       , 0.73333333]),\n",
              " 'split4_test_score': array([0.66666667, 0.66666667, 0.66666667, 0.7       , 0.66666667,\n",
              "        0.66666667, 0.66666667, 0.7       , 0.7       , 0.8       ,\n",
              "        0.73333333, 0.8       , 0.8       , 0.76666667, 0.8       ,\n",
              "        0.86666667, 0.86666667, 0.86666667, 0.9       , 0.9       ,\n",
              "        0.86666667, 0.86666667, 0.9       , 0.9       , 0.86666667,\n",
              "        0.93333333, 0.86666667, 0.86666667, 0.86666667, 0.9       ,\n",
              "        0.86666667, 0.86666667, 0.86666667, 0.86666667, 0.83333333]),\n",
              " 'std_fit_time': array([1.60502679e-04, 5.46306403e-06, 1.99930718e-05, 1.03149698e-04,\n",
              "        1.98732925e-04, 3.38651751e-05, 1.37773216e-04, 6.88377818e-05,\n",
              "        2.02258989e-04, 2.11918397e-04, 2.68364868e-05, 1.91950702e-04,\n",
              "        2.00629743e-04, 3.94083009e-04, 4.03556091e-04, 8.58377613e-05,\n",
              "        3.52276030e-04, 3.94703772e-04, 1.24241842e-03, 1.10089923e-03,\n",
              "        6.18756361e-04, 3.22640387e-03, 2.27798135e-03, 1.14889159e-02,\n",
              "        9.50956297e-03, 5.17369148e-03, 4.30390870e-03, 1.20612152e-02,\n",
              "        7.34556363e-02, 3.50934901e-02, 2.22684260e-02, 3.41413733e-02,\n",
              "        7.83044692e-02, 7.90029383e-02, 1.14345379e-01]),\n",
              " 'std_score_time': array([3.01508928e-05, 1.59648613e-05, 1.50056040e-05, 9.09694829e-05,\n",
              "        2.21529738e-05, 5.41288941e-06, 1.10204072e-05, 8.21129647e-06,\n",
              "        8.06743087e-06, 8.10342628e-06, 3.06673399e-05, 3.72898853e-05,\n",
              "        2.29187602e-05, 1.82227923e-05, 5.21923483e-05, 1.20701039e-05,\n",
              "        6.24793889e-05, 1.59255045e-05, 2.64003338e-05, 2.15530396e-05,\n",
              "        4.00396729e-05, 7.03758985e-05, 3.54281986e-05, 1.13080964e-04,\n",
              "        2.26300585e-04, 6.52200288e-05, 2.19932061e-05, 1.36970874e-04,\n",
              "        1.23060483e-04, 4.28770742e-05, 6.65226973e-05, 2.38582555e-05,\n",
              "        5.07963414e-05, 2.49573717e-04, 3.07999157e-05]),\n",
              " 'std_test_score': array([0.01080418, 0.01755555, 0.01755555, 0.04937533, 0.04183114,\n",
              "        0.01755555, 0.01755555, 0.0494315 , 0.04534525, 0.06005201,\n",
              "        0.03415498, 0.03571188, 0.04919234, 0.04147026, 0.04112872,\n",
              "        0.05353068, 0.06541453, 0.06367335, 0.06514532, 0.07030778,\n",
              "        0.08099394, 0.0724779 , 0.07320804, 0.06728262, 0.06035314,\n",
              "        0.07112527, 0.04964156, 0.07428045, 0.08307981, 0.0783705 ,\n",
              "        0.05367046, 0.08182223, 0.06682742, 0.05974316, 0.05122434])}"
            ]
          },
          "metadata": {
            "tags": []
          },
          "execution_count": 7
        }
      ]
    },
    {
      "cell_type": "code",
      "metadata": {
        "colab": {
          "base_uri": "https://localhost:8080/"
        },
        "id": "kzo0-N07lXKM",
        "outputId": "a6e04522-ef1b-4ba3-d919-33ab7cefaa4d"
      },
      "source": [
        "Gs3.cv_results_"
      ],
      "execution_count": 8,
      "outputs": [
        {
          "output_type": "execute_result",
          "data": {
            "text/plain": [
              "{'mean_fit_time': array([0.00193338, 0.00188785, 0.00197654, 0.00146284, 0.00144691,\n",
              "        0.00190644, 0.00189772, 0.00192804, 0.00143709, 0.00145097,\n",
              "        0.0019012 , 0.00189257, 0.00192022, 0.00156498, 0.00144958,\n",
              "        0.00193291, 0.00186434, 0.00184002, 0.00144382, 0.00145502,\n",
              "        0.00200977, 0.00188799, 0.00185332, 0.00146122, 0.00147486,\n",
              "        0.00254259, 0.00229712, 0.00202212, 0.00151067, 0.00141125,\n",
              "        0.00365677, 0.00422535, 0.00287857, 0.00145516, 0.00181413]),\n",
              " 'mean_score_time': array([0.00095105, 0.00094132, 0.0009315 , 0.00086684, 0.00084085,\n",
              "        0.00097518, 0.0009685 , 0.00096231, 0.00085826, 0.00091939,\n",
              "        0.00095592, 0.00094156, 0.00094943, 0.00086198, 0.00086379,\n",
              "        0.0009593 , 0.00092697, 0.00093641, 0.0008491 , 0.00084329,\n",
              "        0.00095301, 0.00095563, 0.00096312, 0.00086284, 0.00091825,\n",
              "        0.00097389, 0.00098677, 0.00100756, 0.00084662, 0.0008513 ,\n",
              "        0.00092115, 0.00126214, 0.00094004, 0.00085945, 0.00106249]),\n",
              " 'mean_test_score': array([0.64709677, 0.64709677, 0.64709677, 0.35290323, 0.35290323,\n",
              "        0.64709677, 0.64709677, 0.64709677, 0.35290323, 0.35290323,\n",
              "        0.64709677, 0.64709677, 0.64709677, 0.35290323, 0.35290323,\n",
              "        0.78537634, 0.77892473, 0.75935484, 0.35290323, 0.35290323,\n",
              "        0.77225806, 0.77225806, 0.75913978, 0.35290323, 0.35290323,\n",
              "        0.77892473, 0.77892473, 0.79139785, 0.35290323, 0.35290323,\n",
              "        0.75225806, 0.76537634, 0.75268817, 0.35290323, 0.35290323]),\n",
              " 'param_C': masked_array(data=[0.001, 0.001, 0.001, 0.001, 0.001, 0.01, 0.01, 0.01,\n",
              "                    0.01, 0.01, 0.1, 0.1, 0.1, 0.1, 0.1, 1, 1, 1, 1, 1, 10,\n",
              "                    10, 10, 10, 10, 100, 100, 100, 100, 100, 1000, 1000,\n",
              "                    1000, 1000, 1000],\n",
              "              mask=[False, False, False, False, False, False, False, False,\n",
              "                    False, False, False, False, False, False, False, False,\n",
              "                    False, False, False, False, False, False, False, False,\n",
              "                    False, False, False, False, False, False, False, False,\n",
              "                    False, False, False],\n",
              "        fill_value='?',\n",
              "             dtype=object),\n",
              " 'param_tol': masked_array(data=[0.01, 0.1, 1, 10, 100, 0.01, 0.1, 1, 10, 100, 0.01,\n",
              "                    0.1, 1, 10, 100, 0.01, 0.1, 1, 10, 100, 0.01, 0.1, 1,\n",
              "                    10, 100, 0.01, 0.1, 1, 10, 100, 0.01, 0.1, 1, 10, 100],\n",
              "              mask=[False, False, False, False, False, False, False, False,\n",
              "                    False, False, False, False, False, False, False, False,\n",
              "                    False, False, False, False, False, False, False, False,\n",
              "                    False, False, False, False, False, False, False, False,\n",
              "                    False, False, False],\n",
              "        fill_value='?',\n",
              "             dtype=object),\n",
              " 'params': [{'C': 0.001, 'tol': 0.01},\n",
              "  {'C': 0.001, 'tol': 0.1},\n",
              "  {'C': 0.001, 'tol': 1},\n",
              "  {'C': 0.001, 'tol': 10},\n",
              "  {'C': 0.001, 'tol': 100},\n",
              "  {'C': 0.01, 'tol': 0.01},\n",
              "  {'C': 0.01, 'tol': 0.1},\n",
              "  {'C': 0.01, 'tol': 1},\n",
              "  {'C': 0.01, 'tol': 10},\n",
              "  {'C': 0.01, 'tol': 100},\n",
              "  {'C': 0.1, 'tol': 0.01},\n",
              "  {'C': 0.1, 'tol': 0.1},\n",
              "  {'C': 0.1, 'tol': 1},\n",
              "  {'C': 0.1, 'tol': 10},\n",
              "  {'C': 0.1, 'tol': 100},\n",
              "  {'C': 1, 'tol': 0.01},\n",
              "  {'C': 1, 'tol': 0.1},\n",
              "  {'C': 1, 'tol': 1},\n",
              "  {'C': 1, 'tol': 10},\n",
              "  {'C': 1, 'tol': 100},\n",
              "  {'C': 10, 'tol': 0.01},\n",
              "  {'C': 10, 'tol': 0.1},\n",
              "  {'C': 10, 'tol': 1},\n",
              "  {'C': 10, 'tol': 10},\n",
              "  {'C': 10, 'tol': 100},\n",
              "  {'C': 100, 'tol': 0.01},\n",
              "  {'C': 100, 'tol': 0.1},\n",
              "  {'C': 100, 'tol': 1},\n",
              "  {'C': 100, 'tol': 10},\n",
              "  {'C': 100, 'tol': 100},\n",
              "  {'C': 1000, 'tol': 0.01},\n",
              "  {'C': 1000, 'tol': 0.1},\n",
              "  {'C': 1000, 'tol': 1},\n",
              "  {'C': 1000, 'tol': 10},\n",
              "  {'C': 1000, 'tol': 100}],\n",
              " 'rank_test_score': array([13, 13, 13, 22, 22, 13, 13, 13, 22, 22, 13, 13, 13, 22, 22,  2,  3,\n",
              "         9, 22, 22,  6,  6, 10, 22, 22,  3,  3,  1, 22, 22, 12,  8, 11, 22,\n",
              "        22], dtype=int32),\n",
              " 'split0_test_score': array([0.64516129, 0.64516129, 0.64516129, 0.35483871, 0.35483871,\n",
              "        0.64516129, 0.64516129, 0.64516129, 0.35483871, 0.35483871,\n",
              "        0.64516129, 0.64516129, 0.64516129, 0.35483871, 0.35483871,\n",
              "        0.74193548, 0.70967742, 0.70967742, 0.35483871, 0.35483871,\n",
              "        0.77419355, 0.77419355, 0.77419355, 0.35483871, 0.35483871,\n",
              "        0.74193548, 0.74193548, 0.74193548, 0.35483871, 0.35483871,\n",
              "        0.74193548, 0.74193548, 0.74193548, 0.35483871, 0.35483871]),\n",
              " 'split1_test_score': array([0.64516129, 0.64516129, 0.64516129, 0.35483871, 0.35483871,\n",
              "        0.64516129, 0.64516129, 0.64516129, 0.35483871, 0.35483871,\n",
              "        0.64516129, 0.64516129, 0.64516129, 0.35483871, 0.35483871,\n",
              "        0.70967742, 0.70967742, 0.64516129, 0.35483871, 0.35483871,\n",
              "        0.67741935, 0.67741935, 0.64516129, 0.35483871, 0.35483871,\n",
              "        0.64516129, 0.64516129, 0.74193548, 0.35483871, 0.35483871,\n",
              "        0.64516129, 0.67741935, 0.61290323, 0.35483871, 0.35483871]),\n",
              " 'split2_test_score': array([0.64516129, 0.64516129, 0.64516129, 0.35483871, 0.35483871,\n",
              "        0.64516129, 0.64516129, 0.64516129, 0.35483871, 0.35483871,\n",
              "        0.64516129, 0.64516129, 0.64516129, 0.35483871, 0.35483871,\n",
              "        0.74193548, 0.74193548, 0.74193548, 0.35483871, 0.35483871,\n",
              "        0.70967742, 0.70967742, 0.70967742, 0.35483871, 0.35483871,\n",
              "        0.77419355, 0.77419355, 0.80645161, 0.35483871, 0.35483871,\n",
              "        0.77419355, 0.77419355, 0.74193548, 0.35483871, 0.35483871]),\n",
              " 'split3_test_score': array([0.63333333, 0.63333333, 0.63333333, 0.36666667, 0.36666667,\n",
              "        0.63333333, 0.63333333, 0.63333333, 0.36666667, 0.36666667,\n",
              "        0.63333333, 0.63333333, 0.63333333, 0.36666667, 0.36666667,\n",
              "        0.83333333, 0.83333333, 0.83333333, 0.36666667, 0.36666667,\n",
              "        0.83333333, 0.83333333, 0.83333333, 0.36666667, 0.36666667,\n",
              "        0.86666667, 0.86666667, 0.8       , 0.36666667, 0.36666667,\n",
              "        0.8       , 0.83333333, 0.83333333, 0.36666667, 0.36666667]),\n",
              " 'split4_test_score': array([0.66666667, 0.66666667, 0.66666667, 0.33333333, 0.33333333,\n",
              "        0.66666667, 0.66666667, 0.66666667, 0.33333333, 0.33333333,\n",
              "        0.66666667, 0.66666667, 0.66666667, 0.33333333, 0.33333333,\n",
              "        0.9       , 0.9       , 0.86666667, 0.33333333, 0.33333333,\n",
              "        0.86666667, 0.86666667, 0.83333333, 0.33333333, 0.33333333,\n",
              "        0.86666667, 0.86666667, 0.86666667, 0.33333333, 0.33333333,\n",
              "        0.8       , 0.8       , 0.83333333, 0.33333333, 0.33333333]),\n",
              " 'std_fit_time': array([7.43386530e-05, 1.51055810e-05, 1.34841455e-04, 6.15649402e-05,\n",
              "        2.84262144e-05, 4.34878103e-05, 6.10214829e-05, 7.11738202e-05,\n",
              "        2.29935407e-05, 7.05037884e-05, 4.93839413e-05, 3.94523319e-05,\n",
              "        2.63717247e-05, 1.53526237e-04, 9.95094145e-06, 9.84694016e-05,\n",
              "        2.99450698e-05, 2.65117172e-05, 2.08216830e-05, 9.94682769e-06,\n",
              "        6.70673794e-05, 3.69772997e-05, 3.32210775e-05, 1.70194130e-05,\n",
              "        1.13863282e-05, 8.99783758e-05, 5.81933599e-05, 1.72022598e-05,\n",
              "        1.42548584e-04, 3.39856130e-05, 3.56598345e-04, 1.57407399e-03,\n",
              "        3.42959656e-04, 2.04237766e-05, 4.14639398e-04]),\n",
              " 'std_score_time': array([4.80605967e-05, 1.77549981e-05, 1.54041283e-05, 3.31199021e-05,\n",
              "        2.36644823e-05, 4.88829956e-05, 3.82785911e-05, 3.14648940e-05,\n",
              "        2.14721843e-05, 9.93085248e-05, 1.29683928e-05, 1.92546585e-05,\n",
              "        1.08896495e-05, 1.04813103e-05, 2.66436362e-05, 3.29554852e-05,\n",
              "        1.51938307e-05, 1.42386801e-05, 3.76032586e-05, 1.40217694e-05,\n",
              "        5.41329686e-05, 4.30923098e-05, 5.63837710e-05, 1.10323673e-05,\n",
              "        1.02555424e-04, 2.72805035e-05, 4.02751015e-06, 1.27535623e-04,\n",
              "        3.31091221e-05, 2.28740728e-05, 2.70474713e-05, 4.39130609e-04,\n",
              "        1.43870550e-05, 3.22471683e-05, 2.25413014e-04]),\n",
              " 'std_test_score': array([0.01080418, 0.01080418, 0.01080418, 0.01080418, 0.01080418,\n",
              "        0.01080418, 0.01080418, 0.01080418, 0.01080418, 0.01080418,\n",
              "        0.01080418, 0.01080418, 0.01080418, 0.01080418, 0.01080418,\n",
              "        0.07063002, 0.07560172, 0.08099394, 0.01080418, 0.01080418,\n",
              "        0.07149495, 0.07149495, 0.07303917, 0.01080418, 0.01080418,\n",
              "        0.0832833 , 0.0832833 , 0.0466027 , 0.01080418, 0.01080418,\n",
              "        0.05764725, 0.05325523, 0.0809671 , 0.01080418, 0.01080418])}"
            ]
          },
          "metadata": {
            "tags": []
          },
          "execution_count": 8
        }
      ]
    },
    {
      "cell_type": "code",
      "metadata": {
        "colab": {
          "base_uri": "https://localhost:8080/"
        },
        "id": "A0te8yVA7TTN",
        "outputId": "0dc01d28-d894-4323-df68-2a1f945dc2fc"
      },
      "source": [
        "Gs1s.cv_results_"
      ],
      "execution_count": 9,
      "outputs": [
        {
          "output_type": "execute_result",
          "data": {
            "text/plain": [
              "{'mean_fit_time': array([0.00154085, 0.00150332, 0.00153852, 0.00143332, 0.00127649,\n",
              "        0.00147538, 0.00148387, 0.00145988, 0.00130444, 0.00127954,\n",
              "        0.00151725, 0.00153012, 0.00174575, 0.00127745, 0.00129189,\n",
              "        0.00174675, 0.00171824, 0.0018743 , 0.00149093, 0.00134397,\n",
              "        0.00363746, 0.00305338, 0.00265446, 0.00127602, 0.00127606,\n",
              "        0.02020164, 0.01382194, 0.0107594 , 0.00132275, 0.0013062 ,\n",
              "        0.19487939, 0.11491537, 0.08268895, 0.00133629, 0.00129271]),\n",
              " 'mean_score_time': array([0.00083327, 0.00087838, 0.00084672, 0.00082207, 0.000775  ,\n",
              "        0.00081863, 0.00082278, 0.00084071, 0.00075641, 0.00077553,\n",
              "        0.00080752, 0.0008244 , 0.0008812 , 0.00077291, 0.00077701,\n",
              "        0.00082374, 0.00082426, 0.00085402, 0.00083618, 0.00088964,\n",
              "        0.00089226, 0.00082421, 0.00087514, 0.00079474, 0.00078344,\n",
              "        0.00096922, 0.00103364, 0.00095134, 0.00078235, 0.00077372,\n",
              "        0.00122085, 0.00121789, 0.00123687, 0.00079346, 0.00077538]),\n",
              " 'mean_test_score': array([0.66666667, 0.66666667, 0.66666667, 0.33333333, 0.33333333,\n",
              "        0.66666667, 0.66666667, 0.64731183, 0.33333333, 0.33333333,\n",
              "        0.71333333, 0.71333333, 0.70688172, 0.33333333, 0.33333333,\n",
              "        0.70709677, 0.71354839, 0.74602151, 0.33333333, 0.33333333,\n",
              "        0.69397849, 0.70043011, 0.71978495, 0.33333333, 0.33333333,\n",
              "        0.69397849, 0.69397849, 0.73290323, 0.33333333, 0.33333333,\n",
              "        0.69397849, 0.70064516, 0.70709677, 0.33333333, 0.33333333]),\n",
              " 'param_C': masked_array(data=[0.001, 0.001, 0.001, 0.001, 0.001, 0.01, 0.01, 0.01,\n",
              "                    0.01, 0.01, 0.1, 0.1, 0.1, 0.1, 0.1, 1, 1, 1, 1, 1, 10,\n",
              "                    10, 10, 10, 10, 100, 100, 100, 100, 100, 1000, 1000,\n",
              "                    1000, 1000, 1000],\n",
              "              mask=[False, False, False, False, False, False, False, False,\n",
              "                    False, False, False, False, False, False, False, False,\n",
              "                    False, False, False, False, False, False, False, False,\n",
              "                    False, False, False, False, False, False, False, False,\n",
              "                    False, False, False],\n",
              "        fill_value='?',\n",
              "             dtype=object),\n",
              " 'param_tol': masked_array(data=[0.01, 0.1, 1, 10, 100, 0.01, 0.1, 1, 10, 100, 0.01,\n",
              "                    0.1, 1, 10, 100, 0.01, 0.1, 1, 10, 100, 0.01, 0.1, 1,\n",
              "                    10, 100, 0.01, 0.1, 1, 10, 100, 0.01, 0.1, 1, 10, 100],\n",
              "              mask=[False, False, False, False, False, False, False, False,\n",
              "                    False, False, False, False, False, False, False, False,\n",
              "                    False, False, False, False, False, False, False, False,\n",
              "                    False, False, False, False, False, False, False, False,\n",
              "                    False, False, False],\n",
              "        fill_value='?',\n",
              "             dtype=object),\n",
              " 'params': [{'C': 0.001, 'tol': 0.01},\n",
              "  {'C': 0.001, 'tol': 0.1},\n",
              "  {'C': 0.001, 'tol': 1},\n",
              "  {'C': 0.001, 'tol': 10},\n",
              "  {'C': 0.001, 'tol': 100},\n",
              "  {'C': 0.01, 'tol': 0.01},\n",
              "  {'C': 0.01, 'tol': 0.1},\n",
              "  {'C': 0.01, 'tol': 1},\n",
              "  {'C': 0.01, 'tol': 10},\n",
              "  {'C': 0.01, 'tol': 100},\n",
              "  {'C': 0.1, 'tol': 0.01},\n",
              "  {'C': 0.1, 'tol': 0.1},\n",
              "  {'C': 0.1, 'tol': 1},\n",
              "  {'C': 0.1, 'tol': 10},\n",
              "  {'C': 0.1, 'tol': 100},\n",
              "  {'C': 1, 'tol': 0.01},\n",
              "  {'C': 1, 'tol': 0.1},\n",
              "  {'C': 1, 'tol': 1},\n",
              "  {'C': 1, 'tol': 10},\n",
              "  {'C': 1, 'tol': 100},\n",
              "  {'C': 10, 'tol': 0.01},\n",
              "  {'C': 10, 'tol': 0.1},\n",
              "  {'C': 10, 'tol': 1},\n",
              "  {'C': 10, 'tol': 10},\n",
              "  {'C': 10, 'tol': 100},\n",
              "  {'C': 100, 'tol': 0.01},\n",
              "  {'C': 100, 'tol': 0.1},\n",
              "  {'C': 100, 'tol': 1},\n",
              "  {'C': 100, 'tol': 10},\n",
              "  {'C': 100, 'tol': 100},\n",
              "  {'C': 1000, 'tol': 0.01},\n",
              "  {'C': 1000, 'tol': 0.1},\n",
              "  {'C': 1000, 'tol': 1},\n",
              "  {'C': 1000, 'tol': 10},\n",
              "  {'C': 1000, 'tol': 100}],\n",
              " 'rank_test_score': array([16, 16, 16, 22, 22, 16, 16, 21, 22, 22,  5,  5,  9, 22, 22,  7,  4,\n",
              "         1, 22, 22, 12, 11,  3, 22, 22, 12, 12,  2, 22, 22, 12, 10,  7, 22,\n",
              "        22], dtype=int32),\n",
              " 'split0_test_score': array([0.67741935, 0.67741935, 0.67741935, 0.32258065, 0.32258065,\n",
              "        0.67741935, 0.67741935, 0.67741935, 0.32258065, 0.32258065,\n",
              "        0.70967742, 0.70967742, 0.67741935, 0.32258065, 0.32258065,\n",
              "        0.64516129, 0.64516129, 0.64516129, 0.32258065, 0.32258065,\n",
              "        0.58064516, 0.58064516, 0.67741935, 0.32258065, 0.32258065,\n",
              "        0.58064516, 0.58064516, 0.64516129, 0.32258065, 0.32258065,\n",
              "        0.58064516, 0.58064516, 0.58064516, 0.32258065, 0.32258065]),\n",
              " 'split1_test_score': array([0.67741935, 0.67741935, 0.67741935, 0.32258065, 0.32258065,\n",
              "        0.67741935, 0.67741935, 0.58064516, 0.32258065, 0.32258065,\n",
              "        0.64516129, 0.64516129, 0.64516129, 0.32258065, 0.32258065,\n",
              "        0.64516129, 0.67741935, 0.77419355, 0.32258065, 0.32258065,\n",
              "        0.67741935, 0.70967742, 0.70967742, 0.32258065, 0.32258065,\n",
              "        0.67741935, 0.67741935, 0.77419355, 0.32258065, 0.32258065,\n",
              "        0.67741935, 0.67741935, 0.70967742, 0.32258065, 0.32258065]),\n",
              " 'split2_test_score': array([0.64516129, 0.64516129, 0.64516129, 0.35483871, 0.35483871,\n",
              "        0.64516129, 0.64516129, 0.64516129, 0.35483871, 0.35483871,\n",
              "        0.64516129, 0.64516129, 0.64516129, 0.35483871, 0.35483871,\n",
              "        0.64516129, 0.64516129, 0.67741935, 0.35483871, 0.35483871,\n",
              "        0.64516129, 0.64516129, 0.64516129, 0.35483871, 0.35483871,\n",
              "        0.64516129, 0.64516129, 0.64516129, 0.35483871, 0.35483871,\n",
              "        0.64516129, 0.64516129, 0.64516129, 0.35483871, 0.35483871]),\n",
              " 'split3_test_score': array([0.66666667, 0.66666667, 0.66666667, 0.33333333, 0.33333333,\n",
              "        0.66666667, 0.66666667, 0.66666667, 0.33333333, 0.33333333,\n",
              "        0.83333333, 0.83333333, 0.83333333, 0.33333333, 0.33333333,\n",
              "        0.86666667, 0.86666667, 0.83333333, 0.33333333, 0.33333333,\n",
              "        0.83333333, 0.83333333, 0.83333333, 0.33333333, 0.33333333,\n",
              "        0.83333333, 0.83333333, 0.83333333, 0.33333333, 0.33333333,\n",
              "        0.83333333, 0.83333333, 0.83333333, 0.33333333, 0.33333333]),\n",
              " 'split4_test_score': array([0.66666667, 0.66666667, 0.66666667, 0.33333333, 0.33333333,\n",
              "        0.66666667, 0.66666667, 0.66666667, 0.33333333, 0.33333333,\n",
              "        0.73333333, 0.73333333, 0.73333333, 0.33333333, 0.33333333,\n",
              "        0.73333333, 0.73333333, 0.8       , 0.33333333, 0.33333333,\n",
              "        0.73333333, 0.73333333, 0.73333333, 0.33333333, 0.33333333,\n",
              "        0.73333333, 0.73333333, 0.76666667, 0.33333333, 0.33333333,\n",
              "        0.73333333, 0.76666667, 0.76666667, 0.33333333, 0.33333333]),\n",
              " 'std_fit_time': array([4.45380711e-05, 3.88499691e-05, 6.78170741e-05, 1.97988013e-04,\n",
              "        3.34075394e-05, 3.49627332e-05, 5.11331764e-05, 4.62574809e-05,\n",
              "        7.66880170e-05, 4.22135294e-05, 4.60276067e-05, 6.31223983e-05,\n",
              "        3.17748533e-04, 3.98867941e-05, 2.33769873e-05, 8.26901628e-05,\n",
              "        4.39566276e-05, 3.38158497e-04, 2.24273939e-04, 1.70365048e-05,\n",
              "        3.91086611e-04, 1.77745194e-04, 3.02243999e-04, 3.77747134e-05,\n",
              "        2.22619127e-05, 4.98093331e-03, 2.24090547e-03, 1.28946021e-03,\n",
              "        4.63729959e-05, 4.82019869e-05, 5.61302265e-02, 1.68789379e-02,\n",
              "        1.09173364e-02, 1.25057161e-04, 1.30682963e-05]),\n",
              " 'std_score_time': array([2.28125594e-05, 6.92117925e-05, 5.34769418e-05, 7.89169098e-05,\n",
              "        3.15021594e-05, 2.43030760e-05, 1.49661554e-05, 5.57502785e-05,\n",
              "        1.89116286e-05, 3.66806500e-05, 1.07748317e-05, 6.65551602e-05,\n",
              "        1.13527007e-04, 1.77409057e-05, 1.51511208e-05, 2.29878046e-05,\n",
              "        2.35759209e-05, 3.91236098e-05, 1.39015820e-05, 8.25511858e-05,\n",
              "        6.01475973e-05, 1.84154239e-05, 1.10178547e-04, 4.95030925e-05,\n",
              "        4.21198659e-05, 5.44199272e-05, 1.44877348e-04, 5.05551741e-05,\n",
              "        2.06930845e-05, 1.56177091e-05, 2.49211175e-05, 2.02402630e-05,\n",
              "        4.78622907e-05, 6.31484362e-05, 2.24687976e-05]),\n",
              " 'std_test_score': array([0.01177898, 0.01177898, 0.01177898, 0.01177898, 0.01177898,\n",
              "        0.01177898, 0.01177898, 0.0349421 , 0.01177898, 0.01177898,\n",
              "        0.06943806, 0.06943806, 0.07095992, 0.01177898, 0.01177898,\n",
              "        0.08678585, 0.08306088, 0.07240129, 0.01177898, 0.01177898,\n",
              "        0.08540532, 0.0851287 , 0.06409757, 0.01177898, 0.01177898,\n",
              "        0.08540532, 0.08540532, 0.07527066, 0.01177898, 0.01177898,\n",
              "        0.08540532, 0.08942359, 0.08867572, 0.01177898, 0.01177898])}"
            ]
          },
          "metadata": {
            "tags": []
          },
          "execution_count": 9
        }
      ]
    },
    {
      "cell_type": "code",
      "metadata": {
        "colab": {
          "base_uri": "https://localhost:8080/"
        },
        "id": "MFdenBSH7Tc2",
        "outputId": "28d111d6-c1f4-4443-a70c-a51449dd1adc"
      },
      "source": [
        "Gs2s.cv_results_"
      ],
      "execution_count": 10,
      "outputs": [
        {
          "output_type": "execute_result",
          "data": {
            "text/plain": [
              "{'mean_fit_time': array([0.00158968, 0.00156288, 0.00160208, 0.00159783, 0.00162306,\n",
              "        0.00163188, 0.00156913, 0.00168877, 0.00210934, 0.00174384,\n",
              "        0.00163674, 0.00166945, 0.00171218, 0.00170851, 0.00169082,\n",
              "        0.00165138, 0.00172029, 0.00173512, 0.00171795, 0.00178967,\n",
              "        0.00461516, 0.00205002, 0.0019104 , 0.00203252, 0.00195208,\n",
              "        0.00975561, 0.00311131, 0.00212975, 0.00214748, 0.0022192 ,\n",
              "        0.18607821, 0.00384655, 0.00268121, 0.00229812, 0.00198164]),\n",
              " 'mean_score_time': array([0.00086441, 0.00082645, 0.00083814, 0.0008172 , 0.00084119,\n",
              "        0.00084295, 0.00083065, 0.00082707, 0.00108633, 0.00083947,\n",
              "        0.00085301, 0.00088305, 0.00084786, 0.00082312, 0.00086298,\n",
              "        0.0008327 , 0.00083361, 0.00083013, 0.00082202, 0.00083427,\n",
              "        0.00103531, 0.00085864, 0.00081458, 0.00084367, 0.00085053,\n",
              "        0.00089502, 0.00091667, 0.00083447, 0.00086136, 0.00103331,\n",
              "        0.00128608, 0.00113173, 0.0010797 , 0.00083604, 0.00091386]),\n",
              " 'mean_test_score': array([0.66666667, 0.66666667, 0.66666667, 0.66666667, 0.66666667,\n",
              "        0.66666667, 0.66666667, 0.66666667, 0.66666667, 0.67311828,\n",
              "        0.66666667, 0.67311828, 0.67978495, 0.66666667, 0.67333333,\n",
              "        0.68623656, 0.68688172, 0.67354839, 0.67376344, 0.66731183,\n",
              "        0.73892473, 0.68      , 0.68021505, 0.66709677, 0.65419355,\n",
              "        0.66645161, 0.68623656, 0.61397849, 0.67290323, 0.64064516,\n",
              "        0.66688172, 0.6088172 , 0.59462366, 0.66064516, 0.65419355]),\n",
              " 'param_C': masked_array(data=[0.001, 0.001, 0.001, 0.001, 0.001, 0.01, 0.01, 0.01,\n",
              "                    0.01, 0.01, 0.1, 0.1, 0.1, 0.1, 0.1, 1, 1, 1, 1, 1, 10,\n",
              "                    10, 10, 10, 10, 100, 100, 100, 100, 100, 1000, 1000,\n",
              "                    1000, 1000, 1000],\n",
              "              mask=[False, False, False, False, False, False, False, False,\n",
              "                    False, False, False, False, False, False, False, False,\n",
              "                    False, False, False, False, False, False, False, False,\n",
              "                    False, False, False, False, False, False, False, False,\n",
              "                    False, False, False],\n",
              "        fill_value='?',\n",
              "             dtype=object),\n",
              " 'param_degree': masked_array(data=[2, 3, 4, 5, 6, 2, 3, 4, 5, 6, 2, 3, 4, 5, 6, 2, 3, 4,\n",
              "                    5, 6, 2, 3, 4, 5, 6, 2, 3, 4, 5, 6, 2, 3, 4, 5, 6],\n",
              "              mask=[False, False, False, False, False, False, False, False,\n",
              "                    False, False, False, False, False, False, False, False,\n",
              "                    False, False, False, False, False, False, False, False,\n",
              "                    False, False, False, False, False, False, False, False,\n",
              "                    False, False, False],\n",
              "        fill_value='?',\n",
              "             dtype=object),\n",
              " 'params': [{'C': 0.001, 'degree': 2},\n",
              "  {'C': 0.001, 'degree': 3},\n",
              "  {'C': 0.001, 'degree': 4},\n",
              "  {'C': 0.001, 'degree': 5},\n",
              "  {'C': 0.001, 'degree': 6},\n",
              "  {'C': 0.01, 'degree': 2},\n",
              "  {'C': 0.01, 'degree': 3},\n",
              "  {'C': 0.01, 'degree': 4},\n",
              "  {'C': 0.01, 'degree': 5},\n",
              "  {'C': 0.01, 'degree': 6},\n",
              "  {'C': 0.1, 'degree': 2},\n",
              "  {'C': 0.1, 'degree': 3},\n",
              "  {'C': 0.1, 'degree': 4},\n",
              "  {'C': 0.1, 'degree': 5},\n",
              "  {'C': 0.1, 'degree': 6},\n",
              "  {'C': 1, 'degree': 2},\n",
              "  {'C': 1, 'degree': 3},\n",
              "  {'C': 1, 'degree': 4},\n",
              "  {'C': 1, 'degree': 5},\n",
              "  {'C': 1, 'degree': 6},\n",
              "  {'C': 10, 'degree': 2},\n",
              "  {'C': 10, 'degree': 3},\n",
              "  {'C': 10, 'degree': 4},\n",
              "  {'C': 10, 'degree': 5},\n",
              "  {'C': 10, 'degree': 6},\n",
              "  {'C': 100, 'degree': 2},\n",
              "  {'C': 100, 'degree': 3},\n",
              "  {'C': 100, 'degree': 4},\n",
              "  {'C': 100, 'degree': 5},\n",
              "  {'C': 100, 'degree': 6},\n",
              "  {'C': 1000, 'degree': 2},\n",
              "  {'C': 1000, 'degree': 3},\n",
              "  {'C': 1000, 'degree': 4},\n",
              "  {'C': 1000, 'degree': 5},\n",
              "  {'C': 1000, 'degree': 6}],\n",
              " 'rank_test_score': array([17, 17, 17, 17, 17, 17, 17, 17, 17, 11, 17, 11,  7, 17, 10,  4,  2,\n",
              "         9,  8, 14,  1,  6,  5, 15, 30, 28,  3, 33, 13, 32, 16, 34, 35, 29,\n",
              "        31], dtype=int32),\n",
              " 'split0_test_score': array([0.67741935, 0.67741935, 0.67741935, 0.67741935, 0.67741935,\n",
              "        0.67741935, 0.67741935, 0.67741935, 0.67741935, 0.70967742,\n",
              "        0.67741935, 0.70967742, 0.70967742, 0.70967742, 0.74193548,\n",
              "        0.67741935, 0.67741935, 0.64516129, 0.67741935, 0.67741935,\n",
              "        0.70967742, 0.67741935, 0.58064516, 0.67741935, 0.58064516,\n",
              "        0.64516129, 0.70967742, 0.64516129, 0.70967742, 0.5483871 ,\n",
              "        0.64516129, 0.58064516, 0.64516129, 0.67741935, 0.5483871 ]),\n",
              " 'split1_test_score': array([0.67741935, 0.67741935, 0.67741935, 0.67741935, 0.67741935,\n",
              "        0.67741935, 0.67741935, 0.67741935, 0.67741935, 0.67741935,\n",
              "        0.67741935, 0.67741935, 0.67741935, 0.64516129, 0.64516129,\n",
              "        0.70967742, 0.61290323, 0.64516129, 0.58064516, 0.61290323,\n",
              "        0.64516129, 0.61290323, 0.64516129, 0.5483871 , 0.58064516,\n",
              "        0.58064516, 0.67741935, 0.64516129, 0.61290323, 0.67741935,\n",
              "        0.61290323, 0.64516129, 0.58064516, 0.67741935, 0.64516129]),\n",
              " 'split2_test_score': array([0.64516129, 0.64516129, 0.64516129, 0.64516129, 0.64516129,\n",
              "        0.64516129, 0.64516129, 0.64516129, 0.64516129, 0.64516129,\n",
              "        0.64516129, 0.64516129, 0.64516129, 0.64516129, 0.61290323,\n",
              "        0.67741935, 0.67741935, 0.67741935, 0.67741935, 0.61290323,\n",
              "        0.80645161, 0.70967742, 0.74193548, 0.70967742, 0.70967742,\n",
              "        0.80645161, 0.67741935, 0.61290323, 0.74193548, 0.67741935,\n",
              "        0.70967742, 0.4516129 , 0.58064516, 0.5483871 , 0.67741935]),\n",
              " 'split3_test_score': array([0.66666667, 0.66666667, 0.66666667, 0.66666667, 0.66666667,\n",
              "        0.66666667, 0.66666667, 0.66666667, 0.66666667, 0.66666667,\n",
              "        0.66666667, 0.66666667, 0.7       , 0.66666667, 0.7       ,\n",
              "        0.66666667, 0.76666667, 0.7       , 0.7       , 0.7       ,\n",
              "        0.8       , 0.7       , 0.66666667, 0.7       , 0.63333333,\n",
              "        0.73333333, 0.73333333, 0.63333333, 0.63333333, 0.66666667,\n",
              "        0.76666667, 0.8       , 0.63333333, 0.73333333, 0.66666667]),\n",
              " 'split4_test_score': array([0.66666667, 0.66666667, 0.66666667, 0.66666667, 0.66666667,\n",
              "        0.66666667, 0.66666667, 0.66666667, 0.66666667, 0.66666667,\n",
              "        0.66666667, 0.66666667, 0.66666667, 0.66666667, 0.66666667,\n",
              "        0.7       , 0.7       , 0.7       , 0.73333333, 0.73333333,\n",
              "        0.73333333, 0.7       , 0.76666667, 0.7       , 0.76666667,\n",
              "        0.56666667, 0.63333333, 0.53333333, 0.66666667, 0.63333333,\n",
              "        0.6       , 0.56666667, 0.53333333, 0.66666667, 0.73333333]),\n",
              " 'std_fit_time': array([8.00275108e-05, 1.55527879e-05, 1.87298091e-05, 4.65475626e-05,\n",
              "        4.88101937e-05, 7.51454514e-05, 3.16799354e-05, 1.69275338e-04,\n",
              "        5.89669705e-04, 6.02844383e-05, 5.98894942e-05, 6.25024935e-05,\n",
              "        2.25688594e-05, 8.23671839e-05, 3.20250027e-05, 2.53368850e-05,\n",
              "        4.80008546e-05, 4.30065352e-05, 3.84099953e-05, 5.76885469e-05,\n",
              "        1.85413611e-03, 2.27094667e-05, 1.27475920e-04, 4.18493735e-04,\n",
              "        6.29373751e-05, 4.46266238e-03, 6.38601579e-04, 1.58878993e-04,\n",
              "        9.72744764e-05, 4.13124625e-04, 1.35506461e-01, 6.64356382e-04,\n",
              "        2.58666222e-04, 1.32119264e-04, 1.38684839e-04]),\n",
              " 'std_score_time': array([5.12393866e-05, 8.64851688e-06, 1.13328855e-05, 1.06106715e-05,\n",
              "        1.30494920e-05, 4.20424918e-05, 8.80794517e-06, 9.41919360e-06,\n",
              "        2.25224965e-04, 1.97758115e-05, 1.73331455e-05, 4.28481105e-05,\n",
              "        2.07965517e-05, 2.33730964e-05, 8.60469266e-05, 2.88471111e-05,\n",
              "        1.39515414e-05, 4.78409084e-05, 2.24637373e-05, 2.39604860e-05,\n",
              "        2.36894917e-04, 3.37631688e-05, 3.81417867e-05, 6.51026106e-05,\n",
              "        3.60999427e-05, 7.07326489e-05, 1.78190250e-04, 2.26811142e-05,\n",
              "        9.23923399e-05, 3.89674319e-04, 7.98011453e-05, 4.49812904e-05,\n",
              "        2.19348182e-04, 2.12043002e-05, 1.14717943e-04]),\n",
              " 'std_test_score': array([0.01177898, 0.01177898, 0.01177898, 0.01177898, 0.01177898,\n",
              "        0.01177898, 0.01177898, 0.01177898, 0.01177898, 0.02107088,\n",
              "        0.01177898, 0.02107088, 0.02314602, 0.02355796, 0.04451353,\n",
              "        0.01598357, 0.04937533, 0.02460087, 0.05086192, 0.04785417,\n",
              "        0.05994718, 0.03518348, 0.06724549, 0.06029411, 0.07346093,\n",
              "        0.09148358, 0.03382844, 0.04200986, 0.04758669, 0.04888111,\n",
              "        0.06268513, 0.11415365, 0.0404964 , 0.06080205, 0.06038992])}"
            ]
          },
          "metadata": {
            "tags": []
          },
          "execution_count": 10
        }
      ]
    },
    {
      "cell_type": "code",
      "metadata": {
        "colab": {
          "base_uri": "https://localhost:8080/"
        },
        "id": "TyikGx117TlU",
        "outputId": "8b960b6c-00ed-48ca-dd21-f0a13d69b356"
      },
      "source": [
        "Gs3s.cv_results_"
      ],
      "execution_count": 11,
      "outputs": [
        {
          "output_type": "execute_result",
          "data": {
            "text/plain": [
              "{'mean_fit_time': array([0.00176291, 0.00167794, 0.00188117, 0.00130119, 0.00137243,\n",
              "        0.00169878, 0.00174437, 0.00178051, 0.00135226, 0.00130863,\n",
              "        0.0022974 , 0.00172958, 0.00171041, 0.0012886 , 0.00126529,\n",
              "        0.0017415 , 0.00172944, 0.00164957, 0.00125961, 0.00138798,\n",
              "        0.00202141, 0.00188422, 0.00173354, 0.00129924, 0.00130239,\n",
              "        0.00223269, 0.0020288 , 0.00188785, 0.0013062 , 0.00129724,\n",
              "        0.00226331, 0.00209689, 0.00176067, 0.00129695, 0.0013062 ]),\n",
              " 'mean_score_time': array([0.00086808, 0.0008534 , 0.00089221, 0.00079627, 0.00081034,\n",
              "        0.00087638, 0.00086646, 0.0008822 , 0.00079784, 0.00078535,\n",
              "        0.00103869, 0.00089374, 0.00085096, 0.00076747, 0.00077481,\n",
              "        0.00086498, 0.0008956 , 0.0008584 , 0.00077839, 0.0007844 ,\n",
              "        0.00086961, 0.00088401, 0.00085497, 0.00076361, 0.00077372,\n",
              "        0.00086083, 0.00086746, 0.00086756, 0.00078392, 0.00081344,\n",
              "        0.00086021, 0.00087042, 0.00089116, 0.00077863, 0.00077271]),\n",
              " 'mean_test_score': array([0.66666667, 0.66666667, 0.66666667, 0.33333333, 0.33333333,\n",
              "        0.66666667, 0.66666667, 0.66666667, 0.33333333, 0.33333333,\n",
              "        0.66666667, 0.66666667, 0.66666667, 0.33333333, 0.33333333,\n",
              "        0.69956989, 0.69956989, 0.70666667, 0.33333333, 0.33333333,\n",
              "        0.68021505, 0.68688172, 0.70043011, 0.33333333, 0.33333333,\n",
              "        0.67333333, 0.67333333, 0.66666667, 0.33333333, 0.33333333,\n",
              "        0.67311828, 0.67311828, 0.66666667, 0.33333333, 0.33333333]),\n",
              " 'param_C': masked_array(data=[0.001, 0.001, 0.001, 0.001, 0.001, 0.01, 0.01, 0.01,\n",
              "                    0.01, 0.01, 0.1, 0.1, 0.1, 0.1, 0.1, 1, 1, 1, 1, 1, 10,\n",
              "                    10, 10, 10, 10, 100, 100, 100, 100, 100, 1000, 1000,\n",
              "                    1000, 1000, 1000],\n",
              "              mask=[False, False, False, False, False, False, False, False,\n",
              "                    False, False, False, False, False, False, False, False,\n",
              "                    False, False, False, False, False, False, False, False,\n",
              "                    False, False, False, False, False, False, False, False,\n",
              "                    False, False, False],\n",
              "        fill_value='?',\n",
              "             dtype=object),\n",
              " 'param_tol': masked_array(data=[0.01, 0.1, 1, 10, 100, 0.01, 0.1, 1, 10, 100, 0.01,\n",
              "                    0.1, 1, 10, 100, 0.01, 0.1, 1, 10, 100, 0.01, 0.1, 1,\n",
              "                    10, 100, 0.01, 0.1, 1, 10, 100, 0.01, 0.1, 1, 10, 100],\n",
              "              mask=[False, False, False, False, False, False, False, False,\n",
              "                    False, False, False, False, False, False, False, False,\n",
              "                    False, False, False, False, False, False, False, False,\n",
              "                    False, False, False, False, False, False, False, False,\n",
              "                    False, False, False],\n",
              "        fill_value='?',\n",
              "             dtype=object),\n",
              " 'params': [{'C': 0.001, 'tol': 0.01},\n",
              "  {'C': 0.001, 'tol': 0.1},\n",
              "  {'C': 0.001, 'tol': 1},\n",
              "  {'C': 0.001, 'tol': 10},\n",
              "  {'C': 0.001, 'tol': 100},\n",
              "  {'C': 0.01, 'tol': 0.01},\n",
              "  {'C': 0.01, 'tol': 0.1},\n",
              "  {'C': 0.01, 'tol': 1},\n",
              "  {'C': 0.01, 'tol': 10},\n",
              "  {'C': 0.01, 'tol': 100},\n",
              "  {'C': 0.1, 'tol': 0.01},\n",
              "  {'C': 0.1, 'tol': 0.1},\n",
              "  {'C': 0.1, 'tol': 1},\n",
              "  {'C': 0.1, 'tol': 10},\n",
              "  {'C': 0.1, 'tol': 100},\n",
              "  {'C': 1, 'tol': 0.01},\n",
              "  {'C': 1, 'tol': 0.1},\n",
              "  {'C': 1, 'tol': 1},\n",
              "  {'C': 1, 'tol': 10},\n",
              "  {'C': 1, 'tol': 100},\n",
              "  {'C': 10, 'tol': 0.01},\n",
              "  {'C': 10, 'tol': 0.1},\n",
              "  {'C': 10, 'tol': 1},\n",
              "  {'C': 10, 'tol': 10},\n",
              "  {'C': 10, 'tol': 100},\n",
              "  {'C': 100, 'tol': 0.01},\n",
              "  {'C': 100, 'tol': 0.1},\n",
              "  {'C': 100, 'tol': 1},\n",
              "  {'C': 100, 'tol': 10},\n",
              "  {'C': 100, 'tol': 100},\n",
              "  {'C': 1000, 'tol': 0.01},\n",
              "  {'C': 1000, 'tol': 0.1},\n",
              "  {'C': 1000, 'tol': 1},\n",
              "  {'C': 1000, 'tol': 10},\n",
              "  {'C': 1000, 'tol': 100}],\n",
              " 'rank_test_score': array([13, 13, 13, 22, 22, 13, 13, 13, 22, 22, 13, 13, 13, 22, 22,  3,  3,\n",
              "         1, 22, 22,  6,  5,  2, 22, 22,  7,  7, 11, 22, 22,  9,  9, 11, 22,\n",
              "        22], dtype=int32),\n",
              " 'split0_test_score': array([0.67741935, 0.67741935, 0.67741935, 0.32258065, 0.32258065,\n",
              "        0.67741935, 0.67741935, 0.67741935, 0.32258065, 0.32258065,\n",
              "        0.67741935, 0.67741935, 0.67741935, 0.32258065, 0.32258065,\n",
              "        0.70967742, 0.70967742, 0.70967742, 0.32258065, 0.32258065,\n",
              "        0.64516129, 0.64516129, 0.61290323, 0.32258065, 0.32258065,\n",
              "        0.64516129, 0.64516129, 0.61290323, 0.32258065, 0.32258065,\n",
              "        0.67741935, 0.67741935, 0.61290323, 0.32258065, 0.32258065]),\n",
              " 'split1_test_score': array([0.67741935, 0.67741935, 0.67741935, 0.32258065, 0.32258065,\n",
              "        0.67741935, 0.67741935, 0.67741935, 0.32258065, 0.32258065,\n",
              "        0.67741935, 0.67741935, 0.67741935, 0.32258065, 0.32258065,\n",
              "        0.67741935, 0.67741935, 0.61290323, 0.32258065, 0.32258065,\n",
              "        0.64516129, 0.64516129, 0.64516129, 0.32258065, 0.32258065,\n",
              "        0.64516129, 0.64516129, 0.67741935, 0.32258065, 0.32258065,\n",
              "        0.64516129, 0.64516129, 0.67741935, 0.32258065, 0.32258065]),\n",
              " 'split2_test_score': array([0.64516129, 0.64516129, 0.64516129, 0.35483871, 0.35483871,\n",
              "        0.64516129, 0.64516129, 0.64516129, 0.35483871, 0.35483871,\n",
              "        0.64516129, 0.64516129, 0.64516129, 0.35483871, 0.35483871,\n",
              "        0.67741935, 0.67741935, 0.67741935, 0.35483871, 0.35483871,\n",
              "        0.67741935, 0.67741935, 0.67741935, 0.35483871, 0.35483871,\n",
              "        0.70967742, 0.70967742, 0.70967742, 0.35483871, 0.35483871,\n",
              "        0.70967742, 0.70967742, 0.70967742, 0.35483871, 0.35483871]),\n",
              " 'split3_test_score': array([0.66666667, 0.66666667, 0.66666667, 0.33333333, 0.33333333,\n",
              "        0.66666667, 0.66666667, 0.66666667, 0.33333333, 0.33333333,\n",
              "        0.66666667, 0.66666667, 0.66666667, 0.33333333, 0.33333333,\n",
              "        0.76666667, 0.76666667, 0.76666667, 0.33333333, 0.33333333,\n",
              "        0.73333333, 0.76666667, 0.86666667, 0.33333333, 0.33333333,\n",
              "        0.73333333, 0.73333333, 0.7       , 0.33333333, 0.33333333,\n",
              "        0.7       , 0.7       , 0.7       , 0.33333333, 0.33333333]),\n",
              " 'split4_test_score': array([0.66666667, 0.66666667, 0.66666667, 0.33333333, 0.33333333,\n",
              "        0.66666667, 0.66666667, 0.66666667, 0.33333333, 0.33333333,\n",
              "        0.66666667, 0.66666667, 0.66666667, 0.33333333, 0.33333333,\n",
              "        0.66666667, 0.66666667, 0.76666667, 0.33333333, 0.33333333,\n",
              "        0.7       , 0.7       , 0.7       , 0.33333333, 0.33333333,\n",
              "        0.63333333, 0.63333333, 0.63333333, 0.33333333, 0.33333333,\n",
              "        0.63333333, 0.63333333, 0.63333333, 0.33333333, 0.33333333]),\n",
              " 'std_fit_time': array([2.99085251e-05, 7.10564808e-05, 2.52670219e-04, 3.65384854e-05,\n",
              "        2.02481958e-04, 3.62980522e-05, 1.67271322e-05, 1.07123885e-04,\n",
              "        8.06645000e-05, 1.48712048e-05, 4.37235598e-04, 7.56529765e-05,\n",
              "        4.96419316e-05, 2.00721825e-05, 2.95346638e-05, 3.08770378e-05,\n",
              "        4.67853316e-05, 5.03875881e-05, 3.98575399e-05, 2.20351688e-04,\n",
              "        8.38358651e-05, 9.49683183e-05, 2.68040172e-05, 4.92156472e-05,\n",
              "        2.08795879e-05, 6.18828454e-05, 7.42183825e-05, 2.31765297e-04,\n",
              "        1.25713304e-05, 1.19875003e-05, 8.06613430e-05, 3.06012824e-05,\n",
              "        9.20901322e-05, 2.48236680e-05, 8.72572914e-06]),\n",
              " 'std_score_time': array([2.08596501e-05, 3.57451713e-05, 2.54911276e-05, 3.22971913e-05,\n",
              "        3.50270568e-05, 1.70180770e-05, 2.18760707e-05, 1.74560178e-05,\n",
              "        2.69872982e-05, 2.21331558e-05, 1.82587766e-04, 3.63341154e-05,\n",
              "        1.92859263e-05, 1.63944631e-05, 2.03030744e-05, 2.36031985e-05,\n",
              "        3.53691692e-05, 6.15854342e-05, 2.17227458e-05, 2.45777062e-05,\n",
              "        2.58807074e-05, 4.09376295e-05, 3.83902778e-05, 2.32173183e-05,\n",
              "        2.44842764e-05, 3.71390338e-05, 1.61264043e-05, 1.22625979e-05,\n",
              "        1.30020124e-05, 5.43404847e-05, 9.27077393e-06, 9.93767992e-06,\n",
              "        3.82984848e-05, 1.84354150e-05, 1.06964683e-05]),\n",
              " 'std_test_score': array([0.01177898, 0.01177898, 0.01177898, 0.01177898, 0.01177898,\n",
              "        0.01177898, 0.01177898, 0.01177898, 0.01177898, 0.01177898,\n",
              "        0.01177898, 0.01177898, 0.01177898, 0.01177898, 0.01177898,\n",
              "        0.03651864, 0.03651864, 0.05806213, 0.01177898, 0.01177898,\n",
              "        0.03369969, 0.04496321, 0.08818148, 0.01177898, 0.01177898,\n",
              "        0.04026964, 0.04026964, 0.03762519, 0.01177898, 0.01177898,\n",
              "        0.02980648, 0.02980648, 0.03762519, 0.01177898, 0.01177898])}"
            ]
          },
          "metadata": {
            "tags": []
          },
          "execution_count": 11
        }
      ]
    },
    {
      "cell_type": "code",
      "metadata": {
        "colab": {
          "base_uri": "https://localhost:8080/"
        },
        "id": "fzDCNVoS7Txs",
        "outputId": "fee26f9f-69ea-43e2-edaa-572366a48184"
      },
      "source": [
        "Gs1m.cv_results_"
      ],
      "execution_count": 12,
      "outputs": [
        {
          "output_type": "execute_result",
          "data": {
            "text/plain": [
              "{'mean_fit_time': array([0.00144539, 0.00150566, 0.00144649, 0.00130339, 0.00128007,\n",
              "        0.00216751, 0.00174289, 0.00160537, 0.00147901, 0.00142856,\n",
              "        0.00157599, 0.00153565, 0.0014822 , 0.00147882, 0.00129323,\n",
              "        0.00144763, 0.00145988, 0.0014256 , 0.00127087, 0.00153904,\n",
              "        0.00200682, 0.00150924, 0.0014677 , 0.00130081, 0.00128303,\n",
              "        0.00200005, 0.00188012, 0.00167942, 0.00126162, 0.00138998,\n",
              "        0.00660267, 0.00456047, 0.00353508, 0.00139351, 0.00135465]),\n",
              " 'mean_score_time': array([0.00081272, 0.00082674, 0.00079737, 0.00081639, 0.00077515,\n",
              "        0.00114341, 0.0009584 , 0.00090284, 0.0008677 , 0.00086155,\n",
              "        0.00086274, 0.00086074, 0.0008513 , 0.00078735, 0.00076661,\n",
              "        0.00079846, 0.00079589, 0.00081716, 0.0007865 , 0.00086751,\n",
              "        0.00100474, 0.0007998 , 0.00080194, 0.00077772, 0.00077386,\n",
              "        0.00080385, 0.00084138, 0.00084686, 0.0007617 , 0.0008359 ,\n",
              "        0.00112548, 0.00081835, 0.00087619, 0.00093756, 0.00082517]),\n",
              " 'mean_test_score': array([0.71913978, 0.71913978, 0.71913978, 0.28086022, 0.28086022,\n",
              "        0.71913978, 0.71913978, 0.71913978, 0.28086022, 0.28086022,\n",
              "        0.71913978, 0.71913978, 0.71913978, 0.28086022, 0.28086022,\n",
              "        0.73870968, 0.73870968, 0.7516129 , 0.28086022, 0.28086022,\n",
              "        0.81741935, 0.81096774, 0.81741935, 0.28086022, 0.28086022,\n",
              "        0.81096774, 0.82387097, 0.81763441, 0.28086022, 0.28086022,\n",
              "        0.81096774, 0.81096774, 0.81763441, 0.28086022, 0.28086022]),\n",
              " 'param_C': masked_array(data=[0.001, 0.001, 0.001, 0.001, 0.001, 0.01, 0.01, 0.01,\n",
              "                    0.01, 0.01, 0.1, 0.1, 0.1, 0.1, 0.1, 1, 1, 1, 1, 1, 10,\n",
              "                    10, 10, 10, 10, 100, 100, 100, 100, 100, 1000, 1000,\n",
              "                    1000, 1000, 1000],\n",
              "              mask=[False, False, False, False, False, False, False, False,\n",
              "                    False, False, False, False, False, False, False, False,\n",
              "                    False, False, False, False, False, False, False, False,\n",
              "                    False, False, False, False, False, False, False, False,\n",
              "                    False, False, False],\n",
              "        fill_value='?',\n",
              "             dtype=object),\n",
              " 'param_tol': masked_array(data=[0.01, 0.1, 1, 10, 100, 0.01, 0.1, 1, 10, 100, 0.01,\n",
              "                    0.1, 1, 10, 100, 0.01, 0.1, 1, 10, 100, 0.01, 0.1, 1,\n",
              "                    10, 100, 0.01, 0.1, 1, 10, 100, 0.01, 0.1, 1, 10, 100],\n",
              "              mask=[False, False, False, False, False, False, False, False,\n",
              "                    False, False, False, False, False, False, False, False,\n",
              "                    False, False, False, False, False, False, False, False,\n",
              "                    False, False, False, False, False, False, False, False,\n",
              "                    False, False, False],\n",
              "        fill_value='?',\n",
              "             dtype=object),\n",
              " 'params': [{'C': 0.001, 'tol': 0.01},\n",
              "  {'C': 0.001, 'tol': 0.1},\n",
              "  {'C': 0.001, 'tol': 1},\n",
              "  {'C': 0.001, 'tol': 10},\n",
              "  {'C': 0.001, 'tol': 100},\n",
              "  {'C': 0.01, 'tol': 0.01},\n",
              "  {'C': 0.01, 'tol': 0.1},\n",
              "  {'C': 0.01, 'tol': 1},\n",
              "  {'C': 0.01, 'tol': 10},\n",
              "  {'C': 0.01, 'tol': 100},\n",
              "  {'C': 0.1, 'tol': 0.01},\n",
              "  {'C': 0.1, 'tol': 0.1},\n",
              "  {'C': 0.1, 'tol': 1},\n",
              "  {'C': 0.1, 'tol': 10},\n",
              "  {'C': 0.1, 'tol': 100},\n",
              "  {'C': 1, 'tol': 0.01},\n",
              "  {'C': 1, 'tol': 0.1},\n",
              "  {'C': 1, 'tol': 1},\n",
              "  {'C': 1, 'tol': 10},\n",
              "  {'C': 1, 'tol': 100},\n",
              "  {'C': 10, 'tol': 0.01},\n",
              "  {'C': 10, 'tol': 0.1},\n",
              "  {'C': 10, 'tol': 1},\n",
              "  {'C': 10, 'tol': 10},\n",
              "  {'C': 10, 'tol': 100},\n",
              "  {'C': 100, 'tol': 0.01},\n",
              "  {'C': 100, 'tol': 0.1},\n",
              "  {'C': 100, 'tol': 1},\n",
              "  {'C': 100, 'tol': 10},\n",
              "  {'C': 100, 'tol': 100},\n",
              "  {'C': 1000, 'tol': 0.01},\n",
              "  {'C': 1000, 'tol': 0.1},\n",
              "  {'C': 1000, 'tol': 1},\n",
              "  {'C': 1000, 'tol': 10},\n",
              "  {'C': 1000, 'tol': 100}],\n",
              " 'rank_test_score': array([13, 13, 13, 22, 22, 13, 13, 13, 22, 22, 13, 13, 13, 22, 22, 11, 11,\n",
              "        10, 22, 22,  4,  6,  4, 22, 22,  7,  1,  2, 22, 22,  7,  7,  2, 22,\n",
              "        22], dtype=int32),\n",
              " 'split0_test_score': array([0.70967742, 0.70967742, 0.70967742, 0.29032258, 0.29032258,\n",
              "        0.70967742, 0.70967742, 0.70967742, 0.29032258, 0.29032258,\n",
              "        0.70967742, 0.70967742, 0.70967742, 0.29032258, 0.29032258,\n",
              "        0.74193548, 0.74193548, 0.70967742, 0.29032258, 0.29032258,\n",
              "        0.77419355, 0.77419355, 0.77419355, 0.29032258, 0.29032258,\n",
              "        0.74193548, 0.74193548, 0.77419355, 0.29032258, 0.29032258,\n",
              "        0.74193548, 0.74193548, 0.77419355, 0.29032258, 0.29032258]),\n",
              " 'split1_test_score': array([0.70967742, 0.70967742, 0.70967742, 0.29032258, 0.29032258,\n",
              "        0.70967742, 0.70967742, 0.70967742, 0.29032258, 0.29032258,\n",
              "        0.70967742, 0.70967742, 0.70967742, 0.29032258, 0.29032258,\n",
              "        0.67741935, 0.67741935, 0.77419355, 0.29032258, 0.29032258,\n",
              "        0.74193548, 0.74193548, 0.77419355, 0.29032258, 0.29032258,\n",
              "        0.74193548, 0.80645161, 0.74193548, 0.29032258, 0.29032258,\n",
              "        0.74193548, 0.74193548, 0.74193548, 0.29032258, 0.29032258]),\n",
              " 'split2_test_score': array([0.70967742, 0.70967742, 0.70967742, 0.29032258, 0.29032258,\n",
              "        0.70967742, 0.70967742, 0.70967742, 0.29032258, 0.29032258,\n",
              "        0.70967742, 0.70967742, 0.70967742, 0.29032258, 0.29032258,\n",
              "        0.77419355, 0.77419355, 0.77419355, 0.29032258, 0.29032258,\n",
              "        0.87096774, 0.83870968, 0.83870968, 0.29032258, 0.29032258,\n",
              "        0.87096774, 0.87096774, 0.83870968, 0.29032258, 0.29032258,\n",
              "        0.87096774, 0.87096774, 0.83870968, 0.29032258, 0.29032258]),\n",
              " 'split3_test_score': array([0.73333333, 0.73333333, 0.73333333, 0.26666667, 0.26666667,\n",
              "        0.73333333, 0.73333333, 0.73333333, 0.26666667, 0.26666667,\n",
              "        0.73333333, 0.73333333, 0.73333333, 0.26666667, 0.26666667,\n",
              "        0.73333333, 0.73333333, 0.73333333, 0.26666667, 0.26666667,\n",
              "        0.8       , 0.8       , 0.8       , 0.26666667, 0.26666667,\n",
              "        0.83333333, 0.83333333, 0.83333333, 0.26666667, 0.26666667,\n",
              "        0.83333333, 0.83333333, 0.83333333, 0.26666667, 0.26666667]),\n",
              " 'split4_test_score': array([0.73333333, 0.73333333, 0.73333333, 0.26666667, 0.26666667,\n",
              "        0.73333333, 0.73333333, 0.73333333, 0.26666667, 0.26666667,\n",
              "        0.73333333, 0.73333333, 0.73333333, 0.26666667, 0.26666667,\n",
              "        0.76666667, 0.76666667, 0.76666667, 0.26666667, 0.26666667,\n",
              "        0.9       , 0.9       , 0.9       , 0.26666667, 0.26666667,\n",
              "        0.86666667, 0.86666667, 0.9       , 0.26666667, 0.26666667,\n",
              "        0.86666667, 0.86666667, 0.9       , 0.26666667, 0.26666667]),\n",
              " 'std_fit_time': array([2.92136611e-05, 4.20673081e-05, 3.98685484e-05, 2.12582754e-05,\n",
              "        2.54971923e-05, 4.10399185e-04, 3.49999267e-04, 3.82780565e-05,\n",
              "        8.81793750e-05, 4.30965308e-05, 5.21221186e-05, 3.33707664e-05,\n",
              "        2.56857266e-05, 1.79751456e-04, 4.42391825e-05, 2.16125620e-05,\n",
              "        4.46099957e-05, 4.28953654e-05, 7.42489201e-06, 5.40904101e-04,\n",
              "        4.29995278e-04, 3.10081305e-05, 1.43819968e-05, 5.08345089e-05,\n",
              "        3.04252749e-05, 1.44445805e-04, 8.58525937e-05, 4.32307521e-05,\n",
              "        2.51554086e-05, 2.48546766e-04, 1.26649710e-03, 4.54606729e-04,\n",
              "        2.34902316e-04, 5.27014872e-05, 4.52556900e-05]),\n",
              " 'std_score_time': array([6.34462257e-06, 3.30605339e-05, 1.91914961e-05, 7.31996137e-05,\n",
              "        1.03171078e-05, 1.86423413e-04, 1.53269022e-04, 3.44448100e-05,\n",
              "        1.37843058e-05, 4.34431364e-05, 2.09844109e-05, 3.06682295e-05,\n",
              "        2.55669217e-05, 3.44154886e-05, 1.68348505e-05, 1.94453702e-05,\n",
              "        1.84076437e-05, 5.32374540e-05, 1.03501127e-05, 1.84035151e-04,\n",
              "        1.67398600e-04, 1.16015568e-05, 2.43227151e-05, 1.31929735e-05,\n",
              "        1.76277611e-05, 1.83589118e-05, 1.14641510e-04, 4.87174983e-05,\n",
              "        3.86809880e-05, 8.37949562e-05, 3.60297526e-04, 2.80806483e-05,\n",
              "        3.16904842e-05, 2.00973631e-04, 2.82459110e-05]),\n",
              " 'std_test_score': array([0.01158898, 0.01158898, 0.01158898, 0.01158898, 0.01158898,\n",
              "        0.01158898, 0.01158898, 0.01158898, 0.01158898, 0.01158898,\n",
              "        0.01158898, 0.01158898, 0.01158898, 0.01158898, 0.01158898,\n",
              "        0.03416581, 0.03416581, 0.02584227, 0.01158898, 0.01158898,\n",
              "        0.05925658, 0.05465244, 0.04756725, 0.01158898, 0.01158898,\n",
              "        0.05785066, 0.04723552, 0.05494024, 0.01158898, 0.01158898,\n",
              "        0.05785066, 0.05785066, 0.05494024, 0.01158898, 0.01158898])}"
            ]
          },
          "metadata": {
            "tags": []
          },
          "execution_count": 12
        }
      ]
    },
    {
      "cell_type": "code",
      "metadata": {
        "colab": {
          "base_uri": "https://localhost:8080/"
        },
        "id": "1LHxc1-h7T6F",
        "outputId": "19e7fb0a-86a0-4849-9eda-56a3f081f135"
      },
      "source": [
        "Gs2m.cv_results_"
      ],
      "execution_count": 13,
      "outputs": [
        {
          "output_type": "execute_result",
          "data": {
            "text/plain": [
              "{'mean_fit_time': array([0.00159292, 0.00156736, 0.00156527, 0.00158801, 0.00166488,\n",
              "        0.00156012, 0.00158372, 0.00167818, 0.0017818 , 0.00191698,\n",
              "        0.0016046 , 0.00160937, 0.00184317, 0.00258117, 0.00305748,\n",
              "        0.00167203, 0.00210938, 0.00310163, 0.00398021, 0.00465984,\n",
              "        0.00252895, 0.00676403, 0.00644164, 0.01138625, 0.01327744,\n",
              "        0.00892611, 0.011097  , 0.02427182, 0.0192461 , 0.02517939,\n",
              "        0.04762826, 0.05687032, 0.03277192, 0.02856822, 0.02573948]),\n",
              " 'mean_score_time': array([0.00085435, 0.00087495, 0.00085812, 0.00083294, 0.00085988,\n",
              "        0.00083733, 0.00086021, 0.00085783, 0.00086656, 0.00084929,\n",
              "        0.00083361, 0.00083127, 0.00082698, 0.00081701, 0.00082436,\n",
              "        0.00083728, 0.00082884, 0.00083251, 0.00083852, 0.00084596,\n",
              "        0.00084453, 0.00088305, 0.00090866, 0.00107069, 0.0009378 ,\n",
              "        0.00087867, 0.00093064, 0.00106254, 0.00100737, 0.00104818,\n",
              "        0.00109925, 0.00113282, 0.00109687, 0.00104938, 0.00111217]),\n",
              " 'mean_test_score': array([0.71913978, 0.71913978, 0.73204301, 0.76473118, 0.80408602,\n",
              "        0.71913978, 0.73870968, 0.80387097, 0.82365591, 0.81741935,\n",
              "        0.79096774, 0.83032258, 0.83698925, 0.81741935, 0.82408602,\n",
              "        0.84301075, 0.83032258, 0.8172043 , 0.8111828 , 0.7916129 ,\n",
              "        0.83655914, 0.81032258, 0.79784946, 0.78473118, 0.73892473,\n",
              "        0.81053763, 0.79806452, 0.7316129 , 0.73204301, 0.71784946,\n",
              "        0.79806452, 0.71849462, 0.7255914 , 0.71182796, 0.71784946]),\n",
              " 'param_C': masked_array(data=[0.001, 0.001, 0.001, 0.001, 0.001, 0.01, 0.01, 0.01,\n",
              "                    0.01, 0.01, 0.1, 0.1, 0.1, 0.1, 0.1, 1, 1, 1, 1, 1, 10,\n",
              "                    10, 10, 10, 10, 100, 100, 100, 100, 100, 1000, 1000,\n",
              "                    1000, 1000, 1000],\n",
              "              mask=[False, False, False, False, False, False, False, False,\n",
              "                    False, False, False, False, False, False, False, False,\n",
              "                    False, False, False, False, False, False, False, False,\n",
              "                    False, False, False, False, False, False, False, False,\n",
              "                    False, False, False],\n",
              "        fill_value='?',\n",
              "             dtype=object),\n",
              " 'param_degree': masked_array(data=[2, 3, 4, 5, 6, 2, 3, 4, 5, 6, 2, 3, 4, 5, 6, 2, 3, 4,\n",
              "                    5, 6, 2, 3, 4, 5, 6, 2, 3, 4, 5, 6, 2, 3, 4, 5, 6],\n",
              "              mask=[False, False, False, False, False, False, False, False,\n",
              "                    False, False, False, False, False, False, False, False,\n",
              "                    False, False, False, False, False, False, False, False,\n",
              "                    False, False, False, False, False, False, False, False,\n",
              "                    False, False, False],\n",
              "        fill_value='?',\n",
              "             dtype=object),\n",
              " 'params': [{'C': 0.001, 'degree': 2},\n",
              "  {'C': 0.001, 'degree': 3},\n",
              "  {'C': 0.001, 'degree': 4},\n",
              "  {'C': 0.001, 'degree': 5},\n",
              "  {'C': 0.001, 'degree': 6},\n",
              "  {'C': 0.01, 'degree': 2},\n",
              "  {'C': 0.01, 'degree': 3},\n",
              "  {'C': 0.01, 'degree': 4},\n",
              "  {'C': 0.01, 'degree': 5},\n",
              "  {'C': 0.01, 'degree': 6},\n",
              "  {'C': 0.1, 'degree': 2},\n",
              "  {'C': 0.1, 'degree': 3},\n",
              "  {'C': 0.1, 'degree': 4},\n",
              "  {'C': 0.1, 'degree': 5},\n",
              "  {'C': 0.1, 'degree': 6},\n",
              "  {'C': 1, 'degree': 2},\n",
              "  {'C': 1, 'degree': 3},\n",
              "  {'C': 1, 'degree': 4},\n",
              "  {'C': 1, 'degree': 5},\n",
              "  {'C': 1, 'degree': 6},\n",
              "  {'C': 10, 'degree': 2},\n",
              "  {'C': 10, 'degree': 3},\n",
              "  {'C': 10, 'degree': 4},\n",
              "  {'C': 10, 'degree': 5},\n",
              "  {'C': 10, 'degree': 6},\n",
              "  {'C': 100, 'degree': 2},\n",
              "  {'C': 100, 'degree': 3},\n",
              "  {'C': 100, 'degree': 4},\n",
              "  {'C': 100, 'degree': 5},\n",
              "  {'C': 100, 'degree': 6},\n",
              "  {'C': 1000, 'degree': 2},\n",
              "  {'C': 1000, 'degree': 3},\n",
              "  {'C': 1000, 'degree': 4},\n",
              "  {'C': 1000, 'degree': 5},\n",
              "  {'C': 1000, 'degree': 6}],\n",
              " 'rank_test_score': array([29, 29, 26, 22, 14, 29, 24, 15,  7,  8, 20,  4,  2,  8,  6,  1,  5,\n",
              "        10, 11, 19,  3, 13, 18, 21, 23, 12, 16, 27, 25, 33, 16, 32, 28, 35,\n",
              "        33], dtype=int32),\n",
              " 'split0_test_score': array([0.70967742, 0.70967742, 0.70967742, 0.74193548, 0.74193548,\n",
              "        0.70967742, 0.70967742, 0.80645161, 0.80645161, 0.77419355,\n",
              "        0.77419355, 0.80645161, 0.80645161, 0.77419355, 0.74193548,\n",
              "        0.83870968, 0.80645161, 0.77419355, 0.67741935, 0.61290323,\n",
              "        0.83870968, 0.80645161, 0.67741935, 0.70967742, 0.70967742,\n",
              "        0.77419355, 0.64516129, 0.70967742, 0.70967742, 0.70967742,\n",
              "        0.77419355, 0.67741935, 0.70967742, 0.70967742, 0.70967742]),\n",
              " 'split1_test_score': array([0.70967742, 0.70967742, 0.70967742, 0.74193548, 0.80645161,\n",
              "        0.70967742, 0.70967742, 0.77419355, 0.80645161, 0.80645161,\n",
              "        0.77419355, 0.77419355, 0.80645161, 0.80645161, 0.80645161,\n",
              "        0.83870968, 0.83870968, 0.80645161, 0.77419355, 0.80645161,\n",
              "        0.83870968, 0.80645161, 0.77419355, 0.74193548, 0.64516129,\n",
              "        0.80645161, 0.77419355, 0.70967742, 0.64516129, 0.77419355,\n",
              "        0.70967742, 0.67741935, 0.61290323, 0.67741935, 0.77419355]),\n",
              " 'split2_test_score': array([0.70967742, 0.70967742, 0.77419355, 0.80645161, 0.83870968,\n",
              "        0.70967742, 0.77419355, 0.83870968, 0.83870968, 0.80645161,\n",
              "        0.80645161, 0.87096774, 0.83870968, 0.80645161, 0.83870968,\n",
              "        0.87096774, 0.80645161, 0.83870968, 0.87096774, 0.83870968,\n",
              "        0.83870968, 0.83870968, 0.87096774, 0.83870968, 0.80645161,\n",
              "        0.83870968, 0.87096774, 0.83870968, 0.83870968, 0.83870968,\n",
              "        0.80645161, 0.87096774, 0.83870968, 0.83870968, 0.83870968]),\n",
              " 'split3_test_score': array([0.73333333, 0.73333333, 0.7       , 0.76666667, 0.76666667,\n",
              "        0.73333333, 0.73333333, 0.76666667, 0.76666667, 0.76666667,\n",
              "        0.76666667, 0.8       , 0.8       , 0.76666667, 0.8       ,\n",
              "        0.76666667, 0.76666667, 0.73333333, 0.8       , 0.8       ,\n",
              "        0.76666667, 0.73333333, 0.76666667, 0.76666667, 0.73333333,\n",
              "        0.76666667, 0.76666667, 0.7       , 0.73333333, 0.56666667,\n",
              "        0.76666667, 0.7       , 0.66666667, 0.63333333, 0.56666667]),\n",
              " 'split4_test_score': array([0.73333333, 0.73333333, 0.76666667, 0.76666667, 0.86666667,\n",
              "        0.73333333, 0.76666667, 0.83333333, 0.9       , 0.93333333,\n",
              "        0.83333333, 0.9       , 0.93333333, 0.93333333, 0.93333333,\n",
              "        0.9       , 0.93333333, 0.93333333, 0.93333333, 0.9       ,\n",
              "        0.9       , 0.86666667, 0.9       , 0.86666667, 0.8       ,\n",
              "        0.86666667, 0.93333333, 0.7       , 0.73333333, 0.7       ,\n",
              "        0.93333333, 0.66666667, 0.8       , 0.7       , 0.7       ]),\n",
              " 'std_fit_time': array([8.37518555e-05, 2.97731257e-05, 2.11907849e-05, 5.15473098e-05,\n",
              "        4.43809637e-05, 3.73916351e-05, 4.90031328e-05, 7.90554306e-05,\n",
              "        6.30252828e-05, 1.10260651e-04, 4.87353236e-05, 2.97957985e-05,\n",
              "        6.58840571e-05, 2.52265398e-04, 5.89931767e-04, 5.05661020e-05,\n",
              "        1.85810268e-04, 5.62415943e-04, 6.60004785e-04, 1.29834943e-03,\n",
              "        2.77757108e-04, 3.63885098e-03, 1.60582270e-03, 3.76149282e-03,\n",
              "        4.95184616e-03, 2.62609927e-03, 2.64377240e-03, 9.77838418e-03,\n",
              "        6.05016976e-03, 1.11254678e-02, 2.82731391e-02, 3.28465128e-02,\n",
              "        1.29885812e-02, 1.31039273e-02, 1.16110814e-02]),\n",
              " 'std_score_time': array([1.57375046e-05, 4.78316397e-05, 1.18744899e-05, 2.97645711e-05,\n",
              "        1.78126604e-05, 1.40671003e-05, 2.11878877e-05, 2.41173091e-05,\n",
              "        2.63874980e-05, 2.46351816e-05, 1.55397711e-05, 1.71837451e-05,\n",
              "        1.84213495e-05, 2.48744516e-05, 1.35656610e-05, 3.34410084e-05,\n",
              "        5.63042726e-05, 8.96707458e-06, 1.53516388e-05, 2.20948043e-05,\n",
              "        1.95999214e-05, 4.68916434e-05, 6.62260382e-05, 2.84314027e-04,\n",
              "        5.97253721e-05, 6.54650011e-05, 4.67245916e-05, 1.20662190e-04,\n",
              "        9.20087415e-05, 1.13658575e-04, 9.72888740e-05, 6.91654887e-05,\n",
              "        1.31143101e-04, 8.72418638e-05, 1.78510943e-04]),\n",
              " 'std_test_score': array([0.01158898, 0.01158898, 0.03163118, 0.02361091, 0.04557111,\n",
              "        0.01158898, 0.02740565, 0.02950707, 0.04448547, 0.06020123,\n",
              "        0.02525028, 0.04721593, 0.05003687, 0.06020123, 0.06291049,\n",
              "        0.04448547, 0.05634409, 0.06774706, 0.08704127, 0.09611821,\n",
              "        0.04224589, 0.04458205, 0.07977016, 0.05902197, 0.05994718,\n",
              "        0.03796415, 0.09853687, 0.053723  , 0.06233741, 0.09057977,\n",
              "        0.07447942, 0.07700727, 0.08337432, 0.06868603, 0.09057977])}"
            ]
          },
          "metadata": {
            "tags": []
          },
          "execution_count": 13
        }
      ]
    },
    {
      "cell_type": "code",
      "metadata": {
        "colab": {
          "base_uri": "https://localhost:8080/"
        },
        "id": "6VBwJJQc7UBt",
        "outputId": "ddeb78b1-c006-43e2-fdea-c5a7c50b2261"
      },
      "source": [
        "Gs3m.cv_results_"
      ],
      "execution_count": 14,
      "outputs": [
        {
          "output_type": "execute_result",
          "data": {
            "text/plain": [
              "{'mean_fit_time': array([0.00167074, 0.00166116, 0.00166149, 0.00129175, 0.00129466,\n",
              "        0.00165958, 0.0016223 , 0.00164099, 0.00127373, 0.00131421,\n",
              "        0.00179477, 0.00162907, 0.00168514, 0.00127268, 0.00130105,\n",
              "        0.00170169, 0.0016778 , 0.00169649, 0.00126677, 0.00129614,\n",
              "        0.00181603, 0.00170937, 0.00164762, 0.00129805, 0.00134902,\n",
              "        0.00216351, 0.00201645, 0.00184937, 0.00129938, 0.00129766,\n",
              "        0.00241289, 0.00221939, 0.00189762, 0.00176735, 0.00200119]),\n",
              " 'mean_score_time': array([0.00094123, 0.00089488, 0.00082359, 0.00076504, 0.0007813 ,\n",
              "        0.00085917, 0.00084252, 0.00086012, 0.0007719 , 0.00082145,\n",
              "        0.00085506, 0.0008533 , 0.00085115, 0.00077534, 0.00078039,\n",
              "        0.00084925, 0.00088043, 0.00084052, 0.00076551, 0.00080013,\n",
              "        0.00085268, 0.00090928, 0.00085368, 0.00078735, 0.000809  ,\n",
              "        0.00084167, 0.00085077, 0.00084929, 0.00077333, 0.00079689,\n",
              "        0.00084805, 0.00085096, 0.00087705, 0.00119572, 0.00110245]),\n",
              " 'mean_test_score': array([0.71913978, 0.71913978, 0.71913978, 0.28086022, 0.28086022,\n",
              "        0.71913978, 0.71913978, 0.71913978, 0.28086022, 0.28086022,\n",
              "        0.71913978, 0.71913978, 0.71913978, 0.28086022, 0.28086022,\n",
              "        0.78473118, 0.78473118, 0.81053763, 0.28086022, 0.28086022,\n",
              "        0.8172043 , 0.8172043 , 0.79763441, 0.28086022, 0.28086022,\n",
              "        0.80430108, 0.80430108, 0.80430108, 0.28086022, 0.28086022,\n",
              "        0.7916129 , 0.7916129 , 0.78473118, 0.28086022, 0.28086022]),\n",
              " 'param_C': masked_array(data=[0.001, 0.001, 0.001, 0.001, 0.001, 0.01, 0.01, 0.01,\n",
              "                    0.01, 0.01, 0.1, 0.1, 0.1, 0.1, 0.1, 1, 1, 1, 1, 1, 10,\n",
              "                    10, 10, 10, 10, 100, 100, 100, 100, 100, 1000, 1000,\n",
              "                    1000, 1000, 1000],\n",
              "              mask=[False, False, False, False, False, False, False, False,\n",
              "                    False, False, False, False, False, False, False, False,\n",
              "                    False, False, False, False, False, False, False, False,\n",
              "                    False, False, False, False, False, False, False, False,\n",
              "                    False, False, False],\n",
              "        fill_value='?',\n",
              "             dtype=object),\n",
              " 'param_tol': masked_array(data=[0.01, 0.1, 1, 10, 100, 0.01, 0.1, 1, 10, 100, 0.01,\n",
              "                    0.1, 1, 10, 100, 0.01, 0.1, 1, 10, 100, 0.01, 0.1, 1,\n",
              "                    10, 100, 0.01, 0.1, 1, 10, 100, 0.01, 0.1, 1, 10, 100],\n",
              "              mask=[False, False, False, False, False, False, False, False,\n",
              "                    False, False, False, False, False, False, False, False,\n",
              "                    False, False, False, False, False, False, False, False,\n",
              "                    False, False, False, False, False, False, False, False,\n",
              "                    False, False, False],\n",
              "        fill_value='?',\n",
              "             dtype=object),\n",
              " 'params': [{'C': 0.001, 'tol': 0.01},\n",
              "  {'C': 0.001, 'tol': 0.1},\n",
              "  {'C': 0.001, 'tol': 1},\n",
              "  {'C': 0.001, 'tol': 10},\n",
              "  {'C': 0.001, 'tol': 100},\n",
              "  {'C': 0.01, 'tol': 0.01},\n",
              "  {'C': 0.01, 'tol': 0.1},\n",
              "  {'C': 0.01, 'tol': 1},\n",
              "  {'C': 0.01, 'tol': 10},\n",
              "  {'C': 0.01, 'tol': 100},\n",
              "  {'C': 0.1, 'tol': 0.01},\n",
              "  {'C': 0.1, 'tol': 0.1},\n",
              "  {'C': 0.1, 'tol': 1},\n",
              "  {'C': 0.1, 'tol': 10},\n",
              "  {'C': 0.1, 'tol': 100},\n",
              "  {'C': 1, 'tol': 0.01},\n",
              "  {'C': 1, 'tol': 0.1},\n",
              "  {'C': 1, 'tol': 1},\n",
              "  {'C': 1, 'tol': 10},\n",
              "  {'C': 1, 'tol': 100},\n",
              "  {'C': 10, 'tol': 0.01},\n",
              "  {'C': 10, 'tol': 0.1},\n",
              "  {'C': 10, 'tol': 1},\n",
              "  {'C': 10, 'tol': 10},\n",
              "  {'C': 10, 'tol': 100},\n",
              "  {'C': 100, 'tol': 0.01},\n",
              "  {'C': 100, 'tol': 0.1},\n",
              "  {'C': 100, 'tol': 1},\n",
              "  {'C': 100, 'tol': 10},\n",
              "  {'C': 100, 'tol': 100},\n",
              "  {'C': 1000, 'tol': 0.01},\n",
              "  {'C': 1000, 'tol': 0.1},\n",
              "  {'C': 1000, 'tol': 1},\n",
              "  {'C': 1000, 'tol': 10},\n",
              "  {'C': 1000, 'tol': 100}],\n",
              " 'rank_test_score': array([13, 13, 13, 22, 22, 13, 13, 13, 22, 22, 13, 13, 13, 22, 22, 11, 11,\n",
              "         3, 22, 22,  1,  1,  7, 22, 22,  4,  4,  4, 22, 22,  8,  8, 10, 22,\n",
              "        22], dtype=int32),\n",
              " 'split0_test_score': array([0.70967742, 0.70967742, 0.70967742, 0.29032258, 0.29032258,\n",
              "        0.70967742, 0.70967742, 0.70967742, 0.29032258, 0.29032258,\n",
              "        0.70967742, 0.70967742, 0.70967742, 0.29032258, 0.29032258,\n",
              "        0.77419355, 0.77419355, 0.83870968, 0.29032258, 0.29032258,\n",
              "        0.77419355, 0.77419355, 0.77419355, 0.29032258, 0.29032258,\n",
              "        0.67741935, 0.67741935, 0.67741935, 0.29032258, 0.29032258,\n",
              "        0.64516129, 0.64516129, 0.64516129, 0.29032258, 0.29032258]),\n",
              " 'split1_test_score': array([0.70967742, 0.70967742, 0.70967742, 0.29032258, 0.29032258,\n",
              "        0.70967742, 0.70967742, 0.70967742, 0.29032258, 0.29032258,\n",
              "        0.70967742, 0.70967742, 0.70967742, 0.29032258, 0.29032258,\n",
              "        0.77419355, 0.77419355, 0.77419355, 0.29032258, 0.29032258,\n",
              "        0.80645161, 0.80645161, 0.80645161, 0.29032258, 0.29032258,\n",
              "        0.83870968, 0.83870968, 0.83870968, 0.29032258, 0.29032258,\n",
              "        0.80645161, 0.80645161, 0.80645161, 0.29032258, 0.29032258]),\n",
              " 'split2_test_score': array([0.70967742, 0.70967742, 0.70967742, 0.29032258, 0.29032258,\n",
              "        0.70967742, 0.70967742, 0.70967742, 0.29032258, 0.29032258,\n",
              "        0.70967742, 0.70967742, 0.70967742, 0.29032258, 0.29032258,\n",
              "        0.74193548, 0.74193548, 0.80645161, 0.29032258, 0.29032258,\n",
              "        0.83870968, 0.83870968, 0.77419355, 0.29032258, 0.29032258,\n",
              "        0.83870968, 0.83870968, 0.83870968, 0.29032258, 0.29032258,\n",
              "        0.80645161, 0.80645161, 0.83870968, 0.29032258, 0.29032258]),\n",
              " 'split3_test_score': array([0.73333333, 0.73333333, 0.73333333, 0.26666667, 0.26666667,\n",
              "        0.73333333, 0.73333333, 0.73333333, 0.26666667, 0.26666667,\n",
              "        0.73333333, 0.73333333, 0.73333333, 0.26666667, 0.26666667,\n",
              "        0.76666667, 0.76666667, 0.76666667, 0.26666667, 0.26666667,\n",
              "        0.8       , 0.8       , 0.73333333, 0.26666667, 0.26666667,\n",
              "        0.8       , 0.8       , 0.8       , 0.26666667, 0.26666667,\n",
              "        0.8       , 0.8       , 0.73333333, 0.26666667, 0.26666667]),\n",
              " 'split4_test_score': array([0.73333333, 0.73333333, 0.73333333, 0.26666667, 0.26666667,\n",
              "        0.73333333, 0.73333333, 0.73333333, 0.26666667, 0.26666667,\n",
              "        0.73333333, 0.73333333, 0.73333333, 0.26666667, 0.26666667,\n",
              "        0.86666667, 0.86666667, 0.86666667, 0.26666667, 0.26666667,\n",
              "        0.86666667, 0.86666667, 0.9       , 0.26666667, 0.26666667,\n",
              "        0.86666667, 0.86666667, 0.86666667, 0.26666667, 0.26666667,\n",
              "        0.9       , 0.9       , 0.9       , 0.26666667, 0.26666667]),\n",
              " 'std_fit_time': array([5.01630877e-05, 2.64584904e-05, 6.61683336e-05, 3.98363130e-05,\n",
              "        2.39334255e-05, 3.38914841e-05, 4.27886895e-05, 1.75735034e-05,\n",
              "        1.91202782e-05, 4.12425276e-05, 1.81936929e-04, 2.38630201e-05,\n",
              "        3.92240229e-05, 2.33002173e-05, 1.83814385e-05, 3.30533117e-05,\n",
              "        3.96410306e-05, 1.47434672e-04, 4.41723166e-05, 3.16145553e-05,\n",
              "        5.93944659e-05, 5.97868233e-05, 1.88797409e-05, 4.69786493e-05,\n",
              "        1.43743856e-04, 7.86070936e-05, 1.03108315e-04, 4.60290887e-05,\n",
              "        2.21885606e-05, 3.99279303e-05, 9.83063842e-05, 1.05262534e-04,\n",
              "        5.19048582e-05, 4.12465779e-04, 1.44528831e-04]),\n",
              " 'std_score_time': array([1.06094757e-04, 4.47136486e-05, 2.24516891e-05, 2.21359293e-05,\n",
              "        1.13713416e-05, 1.53631871e-05, 1.39945004e-05, 5.93006009e-06,\n",
              "        3.98210705e-05, 9.85474407e-05, 2.00292041e-05, 2.16984486e-05,\n",
              "        2.81063046e-05, 1.73538593e-05, 1.99295116e-05, 2.30692615e-05,\n",
              "        1.95226240e-05, 3.57053932e-05, 3.41947104e-05, 2.63177828e-05,\n",
              "        1.21088475e-05, 1.17072447e-04, 1.50469137e-05, 2.37757721e-05,\n",
              "        7.16522050e-05, 1.43736153e-05, 1.40182015e-05, 3.13979799e-05,\n",
              "        1.91357312e-05, 1.61946423e-05, 2.22708989e-05, 5.70094669e-06,\n",
              "        2.72597423e-05, 3.00585051e-04, 7.77468327e-05]),\n",
              " 'std_test_score': array([0.01158898, 0.01158898, 0.01158898, 0.01158898, 0.01158898,\n",
              "        0.01158898, 0.01158898, 0.01158898, 0.01158898, 0.01158898,\n",
              "        0.01158898, 0.01158898, 0.01158898, 0.01158898, 0.01158898,\n",
              "        0.04264576, 0.04264576, 0.03796415, 0.01158898, 0.01158898,\n",
              "        0.03215755, 0.03215755, 0.05619614, 0.01158898, 0.01158898,\n",
              "        0.0668952 , 0.0668952 , 0.0668952 , 0.01158898, 0.01158898,\n",
              "        0.08210549, 0.08210549, 0.08808388, 0.01158898, 0.01158898])}"
            ]
          },
          "metadata": {
            "tags": []
          },
          "execution_count": 14
        }
      ]
    },
    {
      "cell_type": "code",
      "metadata": {
        "colab": {
          "base_uri": "https://localhost:8080/"
        },
        "id": "D4Lu8K7fw9TU",
        "outputId": "06f69360-1ec9-4ef9-9b92-b5beab909910"
      },
      "source": [
        "lin = Gs1.best_estimator_\n",
        "poly = Gs2.best_estimator_\n",
        "rbf = Gs3.best_estimator_\n",
        "\n",
        "print(lin)\n",
        "print(\" \")\n",
        "print(poly)\n",
        "print(\" \")\n",
        "print(rbf)"
      ],
      "execution_count": 15,
      "outputs": [
        {
          "output_type": "stream",
          "text": [
            "SVC(C=10, break_ties=False, cache_size=200, class_weight=None, coef0=0.0,\n",
            "    decision_function_shape='ovr', degree=3, gamma='scale', kernel='linear',\n",
            "    max_iter=-1, probability=False, random_state=None, shrinking=True, tol=1,\n",
            "    verbose=False)\n",
            " \n",
            "SVC(C=100, break_ties=False, cache_size=200, class_weight=None, coef0=0.0,\n",
            "    decision_function_shape='ovr', degree=2, gamma='scale', kernel='poly',\n",
            "    max_iter=-1, probability=False, random_state=None, shrinking=True,\n",
            "    tol=0.001, verbose=False)\n",
            " \n",
            "SVC(C=100, break_ties=False, cache_size=200, class_weight=None, coef0=0.0,\n",
            "    decision_function_shape='ovr', degree=3, gamma='scale', kernel='rbf',\n",
            "    max_iter=-1, probability=False, random_state=None, shrinking=True, tol=1,\n",
            "    verbose=False)\n"
          ],
          "name": "stdout"
        }
      ]
    },
    {
      "cell_type": "code",
      "metadata": {
        "colab": {
          "base_uri": "https://localhost:8080/",
          "height": 458
        },
        "id": "0F-k-BYc2WQr",
        "outputId": "25231e27-b2fe-410c-c2c5-c319f20168ae"
      },
      "source": [
        "vis_lin = lin\n",
        "vis_poly = poly\n",
        "vis_rbf = rbf\n",
        "\n",
        "po = PCA(n_components=2)\n",
        "po.fit(df.iloc[:,:-1])\n",
        "df_x = po.transform(df.iloc[:,:-1])\n",
        "df_y = df['Outcome'].to_numpy()\n",
        "\n",
        "vis_lin.fit(df_x,df_y)\n",
        "vis_poly.fit(df_x,df_y)\n",
        "vis_rbf.fit(df_x,df_y)\n",
        "\n",
        "plt.figure(figsize=(7,7))\n",
        "ax = plot_decision_regions(df_x,df_y, clf=vis_lin, legend=2)\n",
        "handles, labels = ax.get_legend_handles_labels()\n",
        "ax.legend(handles,['class 0', 'class 1'],framealpha=0.3, scatterpoints=1)\n",
        "plt.title(\"Linear Kernel for Original Dataset\")\n",
        "plt.xlabel('Principal Component-1')\n",
        "plt.ylabel('Principal Component-2')\n",
        "plt.show()"
      ],
      "execution_count": 42,
      "outputs": [
        {
          "output_type": "display_data",
          "data": {
            "image/png": "[encoded data removed]",
            "text/plain": [
              "<Figure size 504x504 with 1 Axes>"
            ]
          },
          "metadata": {
            "tags": [],
            "needs_background": "light"
          }
        }
      ]
    },
    {
      "cell_type": "code",
      "metadata": {
        "colab": {
          "base_uri": "https://localhost:8080/",
          "height": 458
        },
        "id": "do0WZvJS79wc",
        "outputId": "9e39c6e3-8575-42c9-bef4-1d4abe19487c"
      },
      "source": [
        "plt.figure(figsize=(7,7))\n",
        "ax = plot_decision_regions(df_x,df_y, clf=vis_poly, legend=2)\n",
        "handles, labels = ax.get_legend_handles_labels()\n",
        "ax.legend(handles,['class 0', 'class 1'],framealpha=0.3, scatterpoints=1)\n",
        "plt.title(\"Polynomial Kernel for Original Dataset\")\n",
        "plt.xlabel('Principal Component-1')\n",
        "plt.ylabel('Principal Component-2')\n",
        "plt.show()"
      ],
      "execution_count": 43,
      "outputs": [
        {
          "output_type": "display_data",
          "data": {
            "image/png": "[encoded data removed]",
            "text/plain": [
              "<Figure size 504x504 with 1 Axes>"
            ]
          },
          "metadata": {
            "tags": [],
            "needs_background": "light"
          }
        }
      ]
    },
    {
      "cell_type": "code",
      "metadata": {
        "colab": {
          "base_uri": "https://localhost:8080/",
          "height": 458
        },
        "id": "bkM0ckRv798D",
        "outputId": "59599b63-19e7-4a63-85ff-a1d47bffd4b1"
      },
      "source": [
        "plt.figure(figsize=(7,7))\n",
        "ax = plot_decision_regions(df_x,df_y, clf=vis_rbf, legend=2)\n",
        "handles, labels = ax.get_legend_handles_labels()\n",
        "ax.legend(handles,['class 0', 'class 1'],framealpha=0.3, scatterpoints=1)\n",
        "plt.title(\"RBF Kernel for Original Dataset\")\n",
        "plt.xlabel('Principal Component-1')\n",
        "plt.ylabel('Principal Component-2')\n",
        "plt.show()"
      ],
      "execution_count": 44,
      "outputs": [
        {
          "output_type": "display_data",
          "data": {
            "image/png": "[encoded data removed]",
            "text/plain": [
              "<Figure size 504x504 with 1 Axes>"
            ]
          },
          "metadata": {
            "tags": [],
            "needs_background": "light"
          }
        }
      ]
    },
    {
      "cell_type": "code",
      "metadata": {
        "colab": {
          "base_uri": "https://localhost:8080/"
        },
        "id": "AXUfRS_K7e71",
        "outputId": "9bcca679-8974-4e36-d7d9-20a19086f563"
      },
      "source": [
        "lins = Gs1s.best_estimator_\n",
        "polys = Gs2s.best_estimator_\n",
        "rbfs = Gs3s.best_estimator_\n",
        "\n",
        "print(lins)\n",
        "print(\" \")\n",
        "print(polys)\n",
        "print(\" \")\n",
        "print(rbfs)"
      ],
      "execution_count": 19,
      "outputs": [
        {
          "output_type": "stream",
          "text": [
            "SVC(C=1, break_ties=False, cache_size=200, class_weight=None, coef0=0.0,\n",
            "    decision_function_shape='ovr', degree=3, gamma='scale', kernel='linear',\n",
            "    max_iter=-1, probability=False, random_state=None, shrinking=True, tol=1,\n",
            "    verbose=False)\n",
            " \n",
            "SVC(C=10, break_ties=False, cache_size=200, class_weight=None, coef0=0.0,\n",
            "    decision_function_shape='ovr', degree=2, gamma='scale', kernel='poly',\n",
            "    max_iter=-1, probability=False, random_state=None, shrinking=True,\n",
            "    tol=0.001, verbose=False)\n",
            " \n",
            "SVC(C=1, break_ties=False, cache_size=200, class_weight=None, coef0=0.0,\n",
            "    decision_function_shape='ovr', degree=3, gamma='scale', kernel='rbf',\n",
            "    max_iter=-1, probability=False, random_state=None, shrinking=True, tol=1,\n",
            "    verbose=False)\n"
          ],
          "name": "stdout"
        }
      ]
    },
    {
      "cell_type": "code",
      "metadata": {
        "colab": {
          "base_uri": "https://localhost:8080/",
          "height": 458
        },
        "id": "_8nSiUPp2pk0",
        "outputId": "22a55ef2-8852-44a3-914e-46434a4c5da2"
      },
      "source": [
        "vis_lins = lins\n",
        "vis_polys = polys\n",
        "vis_rbfs = rbfs\n",
        "\n",
        "ps = PCA(n_components=2)\n",
        "ps.fit(df_s.iloc[:,:-1])\n",
        "df_xs = ps.transform(df_s.iloc[:,:-1])\n",
        "df_ys = df_s['Outcome'].to_numpy()\n",
        "\n",
        "vis_lins.fit(df_xs,df_ys)\n",
        "vis_polys.fit(df_xs,df_ys)\n",
        "vis_rbfs.fit(df_xs,df_ys)\n",
        "\n",
        "plt.figure(figsize=(7,7))\n",
        "ax = plot_decision_regions(df_xs,df_ys, clf=vis_lins, legend=2)\n",
        "handles, labels = ax.get_legend_handles_labels()\n",
        "ax.legend(handles,['class 0', 'class 1'],framealpha=0.3, scatterpoints=1)\n",
        "plt.title(\"Linear Kernel for Standardized Dataset\")\n",
        "plt.xlabel('Principal Component-1')\n",
        "plt.ylabel('Principal Component-2')\n",
        "plt.show()"
      ],
      "execution_count": 45,
      "outputs": [
        {
          "output_type": "display_data",
          "data": {
            "image/png": "[encoded data removed]",
            "text/plain": [
              "<Figure size 504x504 with 1 Axes>"
            ]
          },
          "metadata": {
            "tags": [],
            "needs_background": "light"
          }
        }
      ]
    },
    {
      "cell_type": "code",
      "metadata": {
        "colab": {
          "base_uri": "https://localhost:8080/",
          "height": 492
        },
        "id": "3XRUn9aA8sHq",
        "outputId": "ae46ad71-2331-44d9-a655-a7862431867b"
      },
      "source": [
        "plt.figure(figsize=(7,7))\n",
        "ax = plot_decision_regions(df_xs,df_ys, clf=vis_polys, legend=2)\n",
        "handles, labels = ax.get_legend_handles_labels()\n",
        "ax.legend(handles,['class 0', 'class 1'],framealpha=0.3, scatterpoints=1)\n",
        "plt.title(\"Polynomial Kernel for Standardized Dataset\")\n",
        "plt.xlabel('Principal Component-1')\n",
        "plt.ylabel('Principal Component-2')\n",
        "plt.show()"
      ],
      "execution_count": 46,
      "outputs": [
        {
          "output_type": "stream",
          "text": [
            "/usr/local/lib/python3.7/dist-packages/mlxtend/plotting/decision_regions.py:242: UserWarning: No contour levels were found within the data range.\n",
            "  antialiased=True)\n"
          ],
          "name": "stderr"
        },
        {
          "output_type": "display_data",
          "data": {
            "image/png": "[encoded data removed]",
            "text/plain": [
              "<Figure size 504x504 with 1 Axes>"
            ]
          },
          "metadata": {
            "tags": [],
            "needs_background": "light"
          }
        }
      ]
    },
    {
      "cell_type": "code",
      "metadata": {
        "colab": {
          "base_uri": "https://localhost:8080/",
          "height": 458
        },
        "id": "EfSAwH5-8sRN",
        "outputId": "756f707a-b2bf-412b-e0af-57cbba8fe7a1"
      },
      "source": [
        "plt.figure(figsize=(7,7))\n",
        "ax = plot_decision_regions(df_xs,df_ys, clf=vis_rbfs, legend=2)\n",
        "handles, labels = ax.get_legend_handles_labels()\n",
        "ax.legend(handles,['class 0', 'class 1'],framealpha=0.3, scatterpoints=1)\n",
        "plt.title(\"RBF Kernel for Standardized Dataset\")\n",
        "plt.xlabel('Principal Component-1')\n",
        "plt.ylabel('Principal Component-2')\n",
        "plt.show()"
      ],
      "execution_count": 47,
      "outputs": [
        {
          "output_type": "display_data",
          "data": {
            "image/png": "[encoded data removed]",
            "text/plain": [
              "<Figure size 504x504 with 1 Axes>"
            ]
          },
          "metadata": {
            "tags": [],
            "needs_background": "light"
          }
        }
      ]
    },
    {
      "cell_type": "code",
      "metadata": {
        "colab": {
          "base_uri": "https://localhost:8080/"
        },
        "id": "QcSjse3B7fG2",
        "outputId": "21b5e3ac-a503-4d8b-ee06-d0b134437758"
      },
      "source": [
        "linm = Gs1m.best_estimator_\n",
        "polym = Gs2m.best_estimator_\n",
        "rbfm = Gs3m.best_estimator_\n",
        "\n",
        "print(linm)\n",
        "print(\" \")\n",
        "print(polym)\n",
        "print(\" \")\n",
        "print(rbfm)"
      ],
      "execution_count": 23,
      "outputs": [
        {
          "output_type": "stream",
          "text": [
            "SVC(C=100, break_ties=False, cache_size=200, class_weight=None, coef0=0.0,\n",
            "    decision_function_shape='ovr', degree=3, gamma='scale', kernel='linear',\n",
            "    max_iter=-1, probability=False, random_state=None, shrinking=True, tol=0.1,\n",
            "    verbose=False)\n",
            " \n",
            "SVC(C=1, break_ties=False, cache_size=200, class_weight=None, coef0=0.0,\n",
            "    decision_function_shape='ovr', degree=2, gamma='scale', kernel='poly',\n",
            "    max_iter=-1, probability=False, random_state=None, shrinking=True,\n",
            "    tol=0.001, verbose=False)\n",
            " \n",
            "SVC(C=10, break_ties=False, cache_size=200, class_weight=None, coef0=0.0,\n",
            "    decision_function_shape='ovr', degree=3, gamma='scale', kernel='rbf',\n",
            "    max_iter=-1, probability=False, random_state=None, shrinking=True, tol=0.01,\n",
            "    verbose=False)\n"
          ],
          "name": "stdout"
        }
      ]
    },
    {
      "cell_type": "code",
      "metadata": {
        "colab": {
          "base_uri": "https://localhost:8080/",
          "height": 458
        },
        "id": "POjXnZs02un2",
        "outputId": "b9ef6d5a-ee92-47f3-f0a8-13329f69c552"
      },
      "source": [
        "vis_linm = linm\n",
        "vis_polym = polym\n",
        "vis_rbfm = rbfm\n",
        "\n",
        "pm = PCA(n_components=2)\n",
        "pm.fit(df_m.iloc[:,:-1])\n",
        "df_xm = pm.transform(df_m.iloc[:,:-1])\n",
        "df_ym = df_m['Outcome'].to_numpy()\n",
        "\n",
        "vis_linm.fit(df_xm,df_ym)\n",
        "vis_polym.fit(df_xm,df_ym)\n",
        "vis_rbfm.fit(df_xm,df_ym)\n",
        "\n",
        "plt.figure(figsize=(7,7))\n",
        "ax = plot_decision_regions(df_xm,df_ym, clf=vis_linm, legend=2)\n",
        "handles, labels = ax.get_legend_handles_labels()\n",
        "ax.legend(handles,['class 0', 'class 1'],framealpha=0.3, scatterpoints=1)\n",
        "plt.title(\"Linear Kernel for Min-Maximised Dataset\")\n",
        "plt.xlabel('Principal Component-1')\n",
        "plt.ylabel('Principal Component-2')\n",
        "plt.show()"
      ],
      "execution_count": 48,
      "outputs": [
        {
          "output_type": "display_data",
          "data": {
            "image/png": "[encoded data removed]",
            "text/plain": [
              "<Figure size 504x504 with 1 Axes>"
            ]
          },
          "metadata": {
            "tags": [],
            "needs_background": "light"
          }
        }
      ]
    },
    {
      "cell_type": "code",
      "metadata": {
        "colab": {
          "base_uri": "https://localhost:8080/",
          "height": 492
        },
        "id": "jVIzSHNh85J8",
        "outputId": "5f70f229-f4ec-4ff5-b918-267f8a1ad9e9"
      },
      "source": [
        "plt.figure(figsize=(7,7))\n",
        "ax = plot_decision_regions(df_xm,df_ym, clf=vis_polym, legend=2)\n",
        "handles, labels = ax.get_legend_handles_labels()\n",
        "ax.legend(handles,['class 0', 'class 1'],framealpha=0.3, scatterpoints=1)\n",
        "plt.title(\"Polynomial Kernel for Min-Maximised Dataset\")\n",
        "plt.xlabel('Principal Component-1')\n",
        "plt.ylabel('Principal Component-2')\n",
        "plt.show()"
      ],
      "execution_count": 49,
      "outputs": [
        {
          "output_type": "stream",
          "text": [
            "/usr/local/lib/python3.7/dist-packages/mlxtend/plotting/decision_regions.py:242: UserWarning: No contour levels were found within the data range.\n",
            "  antialiased=True)\n"
          ],
          "name": "stderr"
        },
        {
          "output_type": "display_data",
          "data": {
            "image/png": "[encoded data removed]",
            "text/plain": [
              "<Figure size 504x504 with 1 Axes>"
            ]
          },
          "metadata": {
            "tags": [],
            "needs_background": "light"
          }
        }
      ]
    },
    {
      "cell_type": "code",
      "metadata": {
        "colab": {
          "base_uri": "https://localhost:8080/",
          "height": 458
        },
        "id": "482jFDOZ85Vc",
        "outputId": "18e2c1df-a3b2-4f67-88d0-843943c5987f"
      },
      "source": [
        "plt.figure(figsize=(7,7))\n",
        "ax = plot_decision_regions(df_xm,df_ym, clf=vis_rbfm, legend=2)\n",
        "handles, labels = ax.get_legend_handles_labels()\n",
        "ax.legend(handles,['class 0', 'class 1'],framealpha=0.3, scatterpoints=1)\n",
        "plt.title(\"RBF Kernel for Min-Maximised Dataset\")\n",
        "plt.xlabel('Principal Component-1')\n",
        "plt.ylabel('Principal Component-2')\n",
        "plt.show()"
      ],
      "execution_count": 50,
      "outputs": [
        {
          "output_type": "display_data",
          "data": {
            "image/png": "[encoded data removed]",
            "text/plain": [
              "<Figure size 504x504 with 1 Axes>"
            ]
          },
          "metadata": {
            "tags": [],
            "needs_background": "light"
          }
        }
      ]
    },
    {
      "cell_type": "code",
      "metadata": {
        "colab": {
          "base_uri": "https://localhost:8080/"
        },
        "id": "PvcYLTpsxbJw",
        "outputId": "7b619a34-5118-4686-bfa6-f135fb9c62ca"
      },
      "source": [
        "lin.fit(tr_x,tr_y)\n",
        "poly.fit(tr_x,tr_y)\n",
        "rbf.fit(tr_x,tr_y)\n",
        "\n",
        "lins.fit(tr_xs,tr_ys)\n",
        "polys.fit(tr_xs,tr_ys)\n",
        "rbfs.fit(tr_xs,tr_ys)\n",
        "\n",
        "linm.fit(tr_xm,tr_ym)\n",
        "polym.fit(tr_xm,tr_ym)\n",
        "rbfm.fit(tr_xm,tr_ym)"
      ],
      "execution_count": 27,
      "outputs": [
        {
          "output_type": "execute_result",
          "data": {
            "text/plain": [
              "SVC(C=10, break_ties=False, cache_size=200, class_weight=None, coef0=0.0,\n",
              "    decision_function_shape='ovr', degree=3, gamma='scale', kernel='rbf',\n",
              "    max_iter=-1, probability=False, random_state=None, shrinking=True, tol=0.01,\n",
              "    verbose=False)"
            ]
          },
          "metadata": {
            "tags": []
          },
          "execution_count": 27
        }
      ]
    },
    {
      "cell_type": "code",
      "metadata": {
        "colab": {
          "base_uri": "https://localhost:8080/"
        },
        "id": "LA_bNyfnxHgD",
        "outputId": "ee16840c-b863-4cee-ec7f-3e687197ac5f"
      },
      "source": [
        "print(\"For Original Dataset\")\n",
        "print(\"Number of Support Vectors for Linear Kernalised SVM Classifier = \"+str(lin.support_vectors_.shape[0]))\n",
        "print(\"Number of Support Vectors for Polynomial Kernalised SVM Classifier = \"+str(poly.support_vectors_.shape[0]))\n",
        "print(\"Number of Support Vectors for RBF Kernalised SVM Classifier = \"+str(rbf.support_vectors_.shape[0]))\n",
        "print(\"\\nFor Standardized Dataset\")\n",
        "print(\"Number of Support Vectors for Linear Kernalised SVM Classifier = \"+str(lins.support_vectors_.shape[0]))\n",
        "print(\"Number of Support Vectors for Polynomial Kernalised SVM Classifier = \"+str(polys.support_vectors_.shape[0]))\n",
        "print(\"Number of Support Vectors for RBF Kernalised SVM Classifier = \"+str(rbfs.support_vectors_.shape[0]))\n",
        "print(\"\\nFor MinMaximised Dataset\")\n",
        "print(\"Number of Support Vectors for Linear Kernalised SVM Classifier = \"+str(linm.support_vectors_.shape[0]))\n",
        "print(\"Number of Support Vectors for Polynomial Kernalised SVM Classifier = \"+str(polym.support_vectors_.shape[0]))\n",
        "print(\"Number of Support Vectors for RBF Kernalised SVM Classifier = \"+str(rbfm.support_vectors_.shape[0]))"
      ],
      "execution_count": 28,
      "outputs": [
        {
          "output_type": "stream",
          "text": [
            "For Original Dataset\n",
            "Number of Support Vectors for Linear Kernalised SVM Classifier = 304\n",
            "Number of Support Vectors for Polynomial Kernalised SVM Classifier = 288\n",
            "Number of Support Vectors for RBF Kernalised SVM Classifier = 316\n",
            "\n",
            "For Standardized Dataset\n",
            "Number of Support Vectors for Linear Kernalised SVM Classifier = 288\n",
            "Number of Support Vectors for Polynomial Kernalised SVM Classifier = 338\n",
            "Number of Support Vectors for RBF Kernalised SVM Classifier = 274\n",
            "\n",
            "For MinMaximised Dataset\n",
            "Number of Support Vectors for Linear Kernalised SVM Classifier = 297\n",
            "Number of Support Vectors for Polynomial Kernalised SVM Classifier = 293\n",
            "Number of Support Vectors for RBF Kernalised SVM Classifier = 292\n"
          ],
          "name": "stdout"
        }
      ]
    },
    {
      "cell_type": "code",
      "metadata": {
        "colab": {
          "base_uri": "https://localhost:8080/"
        },
        "id": "BEztH5wgx0qP",
        "outputId": "9052e203-6571-4095-b54b-7e59e2368be7"
      },
      "source": [
        "print(\"For Original Dataset\")\n",
        "print(\"Test Accuracy for Linear Kernalised SVM Classifier = \"+str(lin.score(test_x,test_y)*100)+\" %\")\n",
        "print(\"Test Accuracy for Polynomial Kernalised SVM Classifier = \"+str(poly.score(test_x,test_y)*100)+\" %\")\n",
        "print(\"Test Accuracy for RBF Kernalised SVM Classifier = \"+str(rbf.score(test_x,test_y)*100)+\" %\")\n",
        "print(\"\\nFor Standardized Dataset\")\n",
        "print(\"Test Accuracy for Linear Kernalised SVM Classifier = \"+str(lins.score(test_xs,test_ys)*100)+\" %\")\n",
        "print(\"Test Accuracy for Polynomial Kernalised SVM Classifier = \"+str(polys.score(test_xs,test_ys)*100)+\" %\")\n",
        "print(\"Test Accuracy for RBF Kernalised SVM Classifier = \"+str(rbfs.score(test_xs,test_ys)*100)+\" %\")\n",
        "print(\"\\nFor MinMaximised Dataset\")\n",
        "print(\"Test Accuracy for Linear Kernalised SVM Classifier = \"+str(linm.score(test_xm,test_ym)*100)+\" %\")\n",
        "print(\"Test Accuracy for Polynomial Kernalised SVM Classifier = \"+str(polym.score(test_xm,test_ym)*100)+\" %\")\n",
        "print(\"Test Accuracy for RBF Kernalised SVM Classifier = \"+str(rbfm.score(test_xm,test_ym)*100)+\" %\")"
      ],
      "execution_count": 29,
      "outputs": [
        {
          "output_type": "stream",
          "text": [
            "For Original Dataset\n",
            "Test Accuracy for Linear Kernalised SVM Classifier = 75.64102564102564 %\n",
            "Test Accuracy for Polynomial Kernalised SVM Classifier = 80.76923076923077 %\n",
            "Test Accuracy for RBF Kernalised SVM Classifier = 82.05128205128204 %\n",
            "\n",
            "For Standardized Dataset\n",
            "Test Accuracy for Linear Kernalised SVM Classifier = 78.2051282051282 %\n",
            "Test Accuracy for Polynomial Kernalised SVM Classifier = 71.7948717948718 %\n",
            "Test Accuracy for RBF Kernalised SVM Classifier = 71.7948717948718 %\n",
            "\n",
            "For MinMaximised Dataset\n",
            "Test Accuracy for Linear Kernalised SVM Classifier = 75.64102564102564 %\n",
            "Test Accuracy for Polynomial Kernalised SVM Classifier = 75.64102564102564 %\n",
            "Test Accuracy for RBF Kernalised SVM Classifier = 71.7948717948718 %\n"
          ],
          "name": "stdout"
        }
      ]
    }
  ]
}