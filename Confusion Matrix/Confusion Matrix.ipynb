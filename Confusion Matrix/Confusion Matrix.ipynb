{
  "nbformat": 4,
  "nbformat_minor": 0,
  "metadata": {
    "colab": {
      "name": "B19EE046 EvaluationMetricLab.ipynb",
      "provenance": [],
      "collapsed_sections": []
    },
    "kernelspec": {
      "name": "python3",
      "display_name": "Python 3"
    }
  },
  "cells": [
    {
      "cell_type": "code",
      "metadata": {
        "id": "9l7HD94rODqX"
      },
      "source": [
        "import pandas as pd\n",
        "import numpy as np\n",
        "from google.colab import drive"
      ],
      "execution_count": null,
      "outputs": []
    },
    {
      "cell_type": "code",
      "metadata": {
        "id": "30qfWl1uOGVv",
        "colab": {
          "base_uri": "https://localhost:8080/"
        },
        "outputId": "b3b8fd68-a851-4704-a897-f9b399809fd9"
      },
      "source": [
        "drive.mount('/content/drive')"
      ],
      "execution_count": null,
      "outputs": [
        {
          "output_type": "stream",
          "text": [
            "Mounted at /content/drive\n"
          ],
          "name": "stdout"
        }
      ]
    },
    {
      "cell_type": "code",
      "metadata": {
        "id": "uXcnDs55OhzG"
      },
      "source": [
        "# give path to the data.csv \r\n",
        "file_path = '/content/data.csv' "
      ],
      "execution_count": null,
      "outputs": []
    },
    {
      "cell_type": "markdown",
      "metadata": {
        "id": "P2izkRL5GOiV"
      },
      "source": [
        "As one may see, the csv file contains actual labels and the predicted probabilities from two ML model (random forest and logistic regression)."
      ]
    },
    {
      "cell_type": "code",
      "metadata": {
        "id": "Ps5StOSZOzc3",
        "colab": {
          "base_uri": "https://localhost:8080/",
          "height": 204
        },
        "outputId": "0696ab30-e87a-4781-9a78-31ee97c942ad"
      },
      "source": [
        "df = pd.read_csv(file_path)\n",
        "df.head()"
      ],
      "execution_count": null,
      "outputs": [
        {
          "output_type": "execute_result",
          "data": {
            "text/html": [
              "<div>\n",
              "<style scoped>\n",
              "    .dataframe tbody tr th:only-of-type {\n",
              "        vertical-align: middle;\n",
              "    }\n",
              "\n",
              "    .dataframe tbody tr th {\n",
              "        vertical-align: top;\n",
              "    }\n",
              "\n",
              "    .dataframe thead th {\n",
              "        text-align: right;\n",
              "    }\n",
              "</style>\n",
              "<table border=\"1\" class=\"dataframe\">\n",
              "  <thead>\n",
              "    <tr style=\"text-align: right;\">\n",
              "      <th></th>\n",
              "      <th>y_act</th>\n",
              "      <th>y_pred_random_forest</th>\n",
              "      <th>y_pred_logistic</th>\n",
              "    </tr>\n",
              "  </thead>\n",
              "  <tbody>\n",
              "    <tr>\n",
              "      <th>0</th>\n",
              "      <td>1</td>\n",
              "      <td>0.639816</td>\n",
              "      <td>0.531904</td>\n",
              "    </tr>\n",
              "    <tr>\n",
              "      <th>1</th>\n",
              "      <td>0</td>\n",
              "      <td>0.490993</td>\n",
              "      <td>0.414496</td>\n",
              "    </tr>\n",
              "    <tr>\n",
              "      <th>2</th>\n",
              "      <td>1</td>\n",
              "      <td>0.623815</td>\n",
              "      <td>0.569883</td>\n",
              "    </tr>\n",
              "    <tr>\n",
              "      <th>3</th>\n",
              "      <td>1</td>\n",
              "      <td>0.506616</td>\n",
              "      <td>0.443674</td>\n",
              "    </tr>\n",
              "    <tr>\n",
              "      <th>4</th>\n",
              "      <td>0</td>\n",
              "      <td>0.418302</td>\n",
              "      <td>0.369532</td>\n",
              "    </tr>\n",
              "  </tbody>\n",
              "</table>\n",
              "</div>"
            ],
            "text/plain": [
              "   y_act  y_pred_random_forest  y_pred_logistic\n",
              "0      1              0.639816         0.531904\n",
              "1      0              0.490993         0.414496\n",
              "2      1              0.623815         0.569883\n",
              "3      1              0.506616         0.443674\n",
              "4      0              0.418302         0.369532"
            ]
          },
          "metadata": {
            "tags": []
          },
          "execution_count": 175
        }
      ]
    },
    {
      "cell_type": "markdown",
      "metadata": {
        "id": "ya4LrEfQGlJ6"
      },
      "source": [
        "You have to take a threshold value and will have to predict final label. \r\n",
        "So add two new columns named as 'y_pred_rf'and 'y_pred_lr' in the df dataframe. These new columns will have final label predicted by the two models based on the threshold set."
      ]
    },
    {
      "cell_type": "code",
      "metadata": {
        "id": "djBcS1sPO2hP",
        "colab": {
          "base_uri": "https://localhost:8080/",
          "height": 224
        },
        "outputId": "652330b2-c3bf-4b89-efe4-e0b6cdba8f55"
      },
      "source": [
        "thresh=0\n",
        "while (thresh<=10):\n",
        "  i=thresh/10                                                                   # for different threshold values like 0.1,0.2,0.3,etc.\n",
        "  df['y_pred_rf_'+str(i)] = (df.y_pred_random_forest>=i).astype('int')\n",
        "  df['y_pred_lr_'+str(i)] = (df.y_pred_logistic>=i).astype('int')\n",
        "  thresh+=1\n",
        "df.head()"
      ],
      "execution_count": null,
      "outputs": [
        {
          "output_type": "execute_result",
          "data": {
            "text/html": [
              "<div>\n",
              "<style scoped>\n",
              "    .dataframe tbody tr th:only-of-type {\n",
              "        vertical-align: middle;\n",
              "    }\n",
              "\n",
              "    .dataframe tbody tr th {\n",
              "        vertical-align: top;\n",
              "    }\n",
              "\n",
              "    .dataframe thead th {\n",
              "        text-align: right;\n",
              "    }\n",
              "</style>\n",
              "<table border=\"1\" class=\"dataframe\">\n",
              "  <thead>\n",
              "    <tr style=\"text-align: right;\">\n",
              "      <th></th>\n",
              "      <th>y_act</th>\n",
              "      <th>y_pred_random_forest</th>\n",
              "      <th>y_pred_logistic</th>\n",
              "      <th>y_pred_rf_0.0</th>\n",
              "      <th>y_pred_lr_0.0</th>\n",
              "      <th>y_pred_rf_0.1</th>\n",
              "      <th>y_pred_lr_0.1</th>\n",
              "      <th>y_pred_rf_0.2</th>\n",
              "      <th>y_pred_lr_0.2</th>\n",
              "      <th>y_pred_rf_0.3</th>\n",
              "      <th>y_pred_lr_0.3</th>\n",
              "      <th>y_pred_rf_0.4</th>\n",
              "      <th>y_pred_lr_0.4</th>\n",
              "      <th>y_pred_rf_0.5</th>\n",
              "      <th>y_pred_lr_0.5</th>\n",
              "      <th>y_pred_rf_0.6</th>\n",
              "      <th>y_pred_lr_0.6</th>\n",
              "      <th>y_pred_rf_0.7</th>\n",
              "      <th>y_pred_lr_0.7</th>\n",
              "      <th>y_pred_rf_0.8</th>\n",
              "      <th>y_pred_lr_0.8</th>\n",
              "      <th>y_pred_rf_0.9</th>\n",
              "      <th>y_pred_lr_0.9</th>\n",
              "      <th>y_pred_rf_1.0</th>\n",
              "      <th>y_pred_lr_1.0</th>\n",
              "    </tr>\n",
              "  </thead>\n",
              "  <tbody>\n",
              "    <tr>\n",
              "      <th>0</th>\n",
              "      <td>1</td>\n",
              "      <td>0.639816</td>\n",
              "      <td>0.531904</td>\n",
              "      <td>1</td>\n",
              "      <td>1</td>\n",
              "      <td>1</td>\n",
              "      <td>1</td>\n",
              "      <td>1</td>\n",
              "      <td>1</td>\n",
              "      <td>1</td>\n",
              "      <td>1</td>\n",
              "      <td>1</td>\n",
              "      <td>1</td>\n",
              "      <td>1</td>\n",
              "      <td>1</td>\n",
              "      <td>1</td>\n",
              "      <td>0</td>\n",
              "      <td>0</td>\n",
              "      <td>0</td>\n",
              "      <td>0</td>\n",
              "      <td>0</td>\n",
              "      <td>0</td>\n",
              "      <td>0</td>\n",
              "      <td>0</td>\n",
              "      <td>0</td>\n",
              "    </tr>\n",
              "    <tr>\n",
              "      <th>1</th>\n",
              "      <td>0</td>\n",
              "      <td>0.490993</td>\n",
              "      <td>0.414496</td>\n",
              "      <td>1</td>\n",
              "      <td>1</td>\n",
              "      <td>1</td>\n",
              "      <td>1</td>\n",
              "      <td>1</td>\n",
              "      <td>1</td>\n",
              "      <td>1</td>\n",
              "      <td>1</td>\n",
              "      <td>1</td>\n",
              "      <td>1</td>\n",
              "      <td>0</td>\n",
              "      <td>0</td>\n",
              "      <td>0</td>\n",
              "      <td>0</td>\n",
              "      <td>0</td>\n",
              "      <td>0</td>\n",
              "      <td>0</td>\n",
              "      <td>0</td>\n",
              "      <td>0</td>\n",
              "      <td>0</td>\n",
              "      <td>0</td>\n",
              "      <td>0</td>\n",
              "    </tr>\n",
              "    <tr>\n",
              "      <th>2</th>\n",
              "      <td>1</td>\n",
              "      <td>0.623815</td>\n",
              "      <td>0.569883</td>\n",
              "      <td>1</td>\n",
              "      <td>1</td>\n",
              "      <td>1</td>\n",
              "      <td>1</td>\n",
              "      <td>1</td>\n",
              "      <td>1</td>\n",
              "      <td>1</td>\n",
              "      <td>1</td>\n",
              "      <td>1</td>\n",
              "      <td>1</td>\n",
              "      <td>1</td>\n",
              "      <td>1</td>\n",
              "      <td>1</td>\n",
              "      <td>0</td>\n",
              "      <td>0</td>\n",
              "      <td>0</td>\n",
              "      <td>0</td>\n",
              "      <td>0</td>\n",
              "      <td>0</td>\n",
              "      <td>0</td>\n",
              "      <td>0</td>\n",
              "      <td>0</td>\n",
              "    </tr>\n",
              "    <tr>\n",
              "      <th>3</th>\n",
              "      <td>1</td>\n",
              "      <td>0.506616</td>\n",
              "      <td>0.443674</td>\n",
              "      <td>1</td>\n",
              "      <td>1</td>\n",
              "      <td>1</td>\n",
              "      <td>1</td>\n",
              "      <td>1</td>\n",
              "      <td>1</td>\n",
              "      <td>1</td>\n",
              "      <td>1</td>\n",
              "      <td>1</td>\n",
              "      <td>1</td>\n",
              "      <td>1</td>\n",
              "      <td>0</td>\n",
              "      <td>0</td>\n",
              "      <td>0</td>\n",
              "      <td>0</td>\n",
              "      <td>0</td>\n",
              "      <td>0</td>\n",
              "      <td>0</td>\n",
              "      <td>0</td>\n",
              "      <td>0</td>\n",
              "      <td>0</td>\n",
              "      <td>0</td>\n",
              "    </tr>\n",
              "    <tr>\n",
              "      <th>4</th>\n",
              "      <td>0</td>\n",
              "      <td>0.418302</td>\n",
              "      <td>0.369532</td>\n",
              "      <td>1</td>\n",
              "      <td>1</td>\n",
              "      <td>1</td>\n",
              "      <td>1</td>\n",
              "      <td>1</td>\n",
              "      <td>1</td>\n",
              "      <td>1</td>\n",
              "      <td>1</td>\n",
              "      <td>1</td>\n",
              "      <td>0</td>\n",
              "      <td>0</td>\n",
              "      <td>0</td>\n",
              "      <td>0</td>\n",
              "      <td>0</td>\n",
              "      <td>0</td>\n",
              "      <td>0</td>\n",
              "      <td>0</td>\n",
              "      <td>0</td>\n",
              "      <td>0</td>\n",
              "      <td>0</td>\n",
              "      <td>0</td>\n",
              "      <td>0</td>\n",
              "    </tr>\n",
              "  </tbody>\n",
              "</table>\n",
              "</div>"
            ],
            "text/plain": [
              "   y_act  y_pred_random_forest  ...  y_pred_rf_1.0  y_pred_lr_1.0\n",
              "0      1              0.639816  ...              0              0\n",
              "1      0              0.490993  ...              0              0\n",
              "2      1              0.623815  ...              0              0\n",
              "3      1              0.506616  ...              0              0\n",
              "4      0              0.418302  ...              0              0\n",
              "\n",
              "[5 rows x 25 columns]"
            ]
          },
          "metadata": {
            "tags": []
          },
          "execution_count": 176
        }
      ]
    },
    {
      "cell_type": "code",
      "metadata": {
        "id": "MyCUFrItPlPO",
        "colab": {
          "base_uri": "https://localhost:8080/"
        },
        "outputId": "a4549822-18a4-4518-ae1b-15b68fa30536"
      },
      "source": [
        "df.shape"
      ],
      "execution_count": null,
      "outputs": [
        {
          "output_type": "execute_result",
          "data": {
            "text/plain": [
              "(15758, 25)"
            ]
          },
          "metadata": {
            "tags": []
          },
          "execution_count": 177
        }
      ]
    },
    {
      "cell_type": "markdown",
      "metadata": {
        "id": "--7qeK98HW0i"
      },
      "source": [
        "Complete below function to compute true positive (tp), tn, fn, fp"
      ]
    },
    {
      "cell_type": "code",
      "metadata": {
        "id": "odU7dUxRPJ0l"
      },
      "source": [
        "def compute_tp_tn_fn_fp(y_act, y_pred):\n",
        "  tp=0\n",
        "  tn=0\n",
        "  fp=0\n",
        "  fn=0\n",
        "  for i in range(len(y_act)):\n",
        "    if (y_act[i] == y_pred[i]):\n",
        "      if (y_act[i]==0):\n",
        "        tn+=1\n",
        "      else:\n",
        "        tp+=1\n",
        "    else:\n",
        "      if (y_act[i]==0):\n",
        "        fp+=1\n",
        "      else:\n",
        "        fn+=1\n",
        "  return tp,tn,fp,fn"
      ],
      "execution_count": null,
      "outputs": []
    },
    {
      "cell_type": "code",
      "metadata": {
        "id": "NUr_BhRdPScf",
        "colab": {
          "base_uri": "https://localhost:8080/"
        },
        "outputId": "8148a7a2-7bad-4971-8afb-243f8c860f5a"
      },
      "source": [
        "count=0\n",
        "while (count<=10):\n",
        "  tp_lr, tn_lr, fp_lr, fn_lr = compute_tp_tn_fn_fp(df.y_act,df['y_pred_lr_'+str(count/10)])\n",
        "  print('For Threshold = ',count/10)\n",
        "  print('TP for Logistic Reg :', tp_lr)\n",
        "  print('TN for Logistic Reg :', tn_lr)\n",
        "  print('FP for Logistic Reg :', fp_lr)\n",
        "  print('FN for Logistic Reg :', fn_lr)\n",
        "  print(' ')\n",
        "  count+=1"
      ],
      "execution_count": null,
      "outputs": [
        {
          "output_type": "stream",
          "text": [
            "For Threshold =  0.0\n",
            "TP for Logistic Reg : 7879\n",
            "TN for Logistic Reg : 0\n",
            "FP for Logistic Reg : 7879\n",
            "FN for Logistic Reg : 0\n",
            " \n",
            "For Threshold =  0.1\n",
            "TP for Logistic Reg : 7879\n",
            "TN for Logistic Reg : 13\n",
            "FP for Logistic Reg : 7866\n",
            "FN for Logistic Reg : 0\n",
            " \n",
            "For Threshold =  0.2\n",
            "TP for Logistic Reg : 7878\n",
            "TN for Logistic Reg : 17\n",
            "FP for Logistic Reg : 7862\n",
            "FN for Logistic Reg : 1\n",
            " \n",
            "For Threshold =  0.3\n",
            "TP for Logistic Reg : 7781\n",
            "TN for Logistic Reg : 410\n",
            "FP for Logistic Reg : 7469\n",
            "FN for Logistic Reg : 98\n",
            " \n",
            "For Threshold =  0.4\n",
            "TP for Logistic Reg : 6535\n",
            "TN for Logistic Reg : 2862\n",
            "FP for Logistic Reg : 5017\n",
            "FN for Logistic Reg : 1344\n",
            " \n",
            "For Threshold =  0.5\n",
            "TP for Logistic Reg : 4279\n",
            "TN for Logistic Reg : 5425\n",
            "FP for Logistic Reg : 2454\n",
            "FN for Logistic Reg : 3600\n",
            " \n",
            "For Threshold =  0.6\n",
            "TP for Logistic Reg : 2406\n",
            "TN for Logistic Reg : 6858\n",
            "FP for Logistic Reg : 1021\n",
            "FN for Logistic Reg : 5473\n",
            " \n",
            "For Threshold =  0.7\n",
            "TP for Logistic Reg : 1198\n",
            "TN for Logistic Reg : 7500\n",
            "FP for Logistic Reg : 379\n",
            "FN for Logistic Reg : 6681\n",
            " \n",
            "For Threshold =  0.8\n",
            "TP for Logistic Reg : 496\n",
            "TN for Logistic Reg : 7775\n",
            "FP for Logistic Reg : 104\n",
            "FN for Logistic Reg : 7383\n",
            " \n",
            "For Threshold =  0.9\n",
            "TP for Logistic Reg : 163\n",
            "TN for Logistic Reg : 7861\n",
            "FP for Logistic Reg : 18\n",
            "FN for Logistic Reg : 7716\n",
            " \n",
            "For Threshold =  1.0\n",
            "TP for Logistic Reg : 0\n",
            "TN for Logistic Reg : 7879\n",
            "FP for Logistic Reg : 0\n",
            "FN for Logistic Reg : 7879\n",
            " \n"
          ],
          "name": "stdout"
        }
      ]
    },
    {
      "cell_type": "code",
      "metadata": {
        "id": "I_g7lSw0QXSW",
        "colab": {
          "base_uri": "https://localhost:8080/"
        },
        "outputId": "d6450b59-162a-45b6-98c4-0679a93d50be"
      },
      "source": [
        "count=0\n",
        "while (count<=10):\n",
        "  tp_rf, tn_rf, fp_rf, fn_rf = compute_tp_tn_fn_fp(df.y_act,df['y_pred_rf_'+str(count/10)])\n",
        "  print('For Threshold = ',count/10)\n",
        "  print('TP for Random Forest :', tp_rf)\n",
        "  print('TN for Random Forest :', tn_rf)\n",
        "  print('FP for Random Forest :', fp_rf)\n",
        "  print('FN for Random Forest :', fn_rf)\n",
        "  print(' ')\n",
        "  count+=1"
      ],
      "execution_count": null,
      "outputs": [
        {
          "output_type": "stream",
          "text": [
            "For Threshold =  0.0\n",
            "TP for Random Forest : 7879\n",
            "TN for Random Forest : 0\n",
            "FP for Random Forest : 7879\n",
            "FN for Random Forest : 0\n",
            " \n",
            "For Threshold =  0.1\n",
            "TP for Random Forest : 7879\n",
            "TN for Random Forest : 0\n",
            "FP for Random Forest : 7879\n",
            "FN for Random Forest : 0\n",
            " \n",
            "For Threshold =  0.2\n",
            "TP for Random Forest : 7879\n",
            "TN for Random Forest : 4\n",
            "FP for Random Forest : 7875\n",
            "FN for Random Forest : 0\n",
            " \n",
            "For Threshold =  0.3\n",
            "TP for Random Forest : 7869\n",
            "TN for Random Forest : 173\n",
            "FP for Random Forest : 7706\n",
            "FN for Random Forest : 10\n",
            " \n",
            "For Threshold =  0.4\n",
            "TP for Random Forest : 7411\n",
            "TN for Random Forest : 1930\n",
            "FP for Random Forest : 5949\n",
            "FN for Random Forest : 468\n",
            " \n",
            "For Threshold =  0.5\n",
            "TP for Random Forest : 5047\n",
            "TN for Random Forest : 5519\n",
            "FP for Random Forest : 2360\n",
            "FN for Random Forest : 2832\n",
            " \n",
            "For Threshold =  0.6\n",
            "TP for Random Forest : 2239\n",
            "TN for Random Forest : 7417\n",
            "FP for Random Forest : 462\n",
            "FN for Random Forest : 5640\n",
            " \n",
            "For Threshold =  0.7\n",
            "TP for Random Forest : 499\n",
            "TN for Random Forest : 7849\n",
            "FP for Random Forest : 30\n",
            "FN for Random Forest : 7380\n",
            " \n",
            "For Threshold =  0.8\n",
            "TP for Random Forest : 74\n",
            "TN for Random Forest : 7879\n",
            "FP for Random Forest : 0\n",
            "FN for Random Forest : 7805\n",
            " \n",
            "For Threshold =  0.9\n",
            "TP for Random Forest : 5\n",
            "TN for Random Forest : 7879\n",
            "FP for Random Forest : 0\n",
            "FN for Random Forest : 7874\n",
            " \n",
            "For Threshold =  1.0\n",
            "TP for Random Forest : 0\n",
            "TN for Random Forest : 7879\n",
            "FP for Random Forest : 0\n",
            "FN for Random Forest : 7879\n",
            " \n"
          ],
          "name": "stdout"
        }
      ]
    },
    {
      "cell_type": "markdown",
      "metadata": {
        "id": "GvCtMtH1H26J"
      },
      "source": [
        "Let's verify result from sklearn"
      ]
    },
    {
      "cell_type": "code",
      "metadata": {
        "id": "bgZP9T4CZ1Li"
      },
      "source": [
        "from sklearn.metrics import confusion_matrix\n",
        "tn_rf1, fp_rf1, fn_rf1, tp_rf1 = confusion_matrix(df.y_act, df['y_pred_rf_'+str(0.5)]).ravel()"
      ],
      "execution_count": null,
      "outputs": []
    },
    {
      "cell_type": "code",
      "metadata": {
        "id": "_rtIci_rZ9J7",
        "colab": {
          "base_uri": "https://localhost:8080/"
        },
        "outputId": "5a2ac4c7-aa26-4345-e756-4df924f5fe16"
      },
      "source": [
        "print('For Threshold = 0.5')\n",
        "print('TP for Random Forest :', tp_rf1)\n",
        "print('TN for Random Forest :', tn_rf1)\n",
        "print('FP for Random Forest :', fp_rf1)\n",
        "print('FN for Random Forest :', fn_rf1)"
      ],
      "execution_count": null,
      "outputs": [
        {
          "output_type": "stream",
          "text": [
            "For Threshold = 0.5\n",
            "TP for Random Forest : 5047\n",
            "TN for Random Forest : 5519\n",
            "FP for Random Forest : 2360\n",
            "FN for Random Forest : 2832\n"
          ],
          "name": "stdout"
        }
      ]
    },
    {
      "cell_type": "markdown",
      "metadata": {
        "id": "jhjYqqR2H8xU"
      },
      "source": [
        "In a similar way complete all the functions below"
      ]
    },
    {
      "cell_type": "code",
      "metadata": {
        "id": "G8RHrb5kQ_I_"
      },
      "source": [
        "def compute_accuracy(tp, tn, fn, fp):\n",
        "\tacc_ii=((tp/(tp+fn))+(tn/(tn+fp)))/2\n",
        "\treturn acc_ii*100"
      ],
      "execution_count": null,
      "outputs": []
    },
    {
      "cell_type": "code",
      "metadata": {
        "id": "NR5DT6tHRvc5",
        "colab": {
          "base_uri": "https://localhost:8080/"
        },
        "outputId": "dd929940-74a4-4657-a7fc-d1e6e27f616f"
      },
      "source": [
        "count=0\n",
        "while (count<=10):\n",
        "  tp_lr, tn_lr, fp_lr, fn_lr = compute_tp_tn_fn_fp(df.y_act,df['y_pred_lr_'+str(count/10)])\n",
        "  tp_rf, tn_rf, fp_rf, fn_rf = compute_tp_tn_fn_fp(df.y_act,df['y_pred_rf_'+str(count/10)])\n",
        "  print('For Threshold = ',count/10)\n",
        "  print('Accuracy for Logistic Regression :', compute_accuracy(tp_lr, tn_lr, fn_lr, fp_lr))\n",
        "  print('Accuracy for Random Forest :', compute_accuracy(tp_rf, tn_rf, fn_rf, fp_rf))\n",
        "  print(' ')\n",
        "  count+=1"
      ],
      "execution_count": null,
      "outputs": [
        {
          "output_type": "stream",
          "text": [
            "For Threshold =  0.0\n",
            "Accuracy for Logistic Regression : 50.0\n",
            "Accuracy for Random Forest : 50.0\n",
            " \n",
            "For Threshold =  0.1\n",
            "Accuracy for Logistic Regression : 50.08249777890595\n",
            "Accuracy for Random Forest : 50.0\n",
            " \n",
            "For Threshold =  0.2\n",
            "Accuracy for Logistic Regression : 50.10153572788425\n",
            "Accuracy for Random Forest : 50.02538393197106\n",
            " \n",
            "For Threshold =  0.3\n",
            "Accuracy for Logistic Regression : 51.97994669374286\n",
            "Accuracy for Random Forest : 51.034395227820795\n",
            " \n",
            "For Threshold =  0.4\n",
            "Accuracy for Logistic Regression : 59.633202183018156\n",
            "Accuracy for Random Forest : 59.27782713542328\n",
            " \n",
            "For Threshold =  0.5\n",
            "Accuracy for Logistic Regression : 61.58141896179718\n",
            "Accuracy for Random Forest : 67.05165630156111\n",
            " \n",
            "For Threshold =  0.6\n",
            "Accuracy for Logistic Regression : 58.789186444980324\n",
            "Accuracy for Random Forest : 61.276811778144435\n",
            " \n",
            "For Threshold =  0.7\n",
            "Accuracy for Logistic Regression : 55.19736007107501\n",
            "Accuracy for Random Forest : 52.97626602360705\n",
            " \n",
            "For Threshold =  0.8\n",
            "Accuracy for Logistic Regression : 52.48762533316411\n",
            "Accuracy for Random Forest : 50.46960274146465\n",
            " \n",
            "For Threshold =  0.9\n",
            "Accuracy for Logistic Regression : 50.92016753395101\n",
            "Accuracy for Random Forest : 50.03172991496383\n",
            " \n",
            "For Threshold =  1.0\n",
            "Accuracy for Logistic Regression : 50.0\n",
            "Accuracy for Random Forest : 50.0\n",
            " \n"
          ],
          "name": "stdout"
        }
      ]
    },
    {
      "cell_type": "code",
      "metadata": {
        "id": "Oa_Yf9boSN3M"
      },
      "source": [
        "from sklearn.metrics import accuracy_score"
      ],
      "execution_count": null,
      "outputs": []
    },
    {
      "cell_type": "code",
      "metadata": {
        "id": "SUiyyqq-SWer",
        "colab": {
          "base_uri": "https://localhost:8080/"
        },
        "outputId": "2712ab63-a5b1-4b8f-9711-29bd5d5461bc"
      },
      "source": [
        "print('For Threshold = 0.5')\n",
        "print('Accuracy for Logistic Regression :', 100* accuracy_score(df.y_act, \n",
        "                                                           df['y_pred_lr_'+str(0.5)]))\n",
        "print('Accuracy for Random Forest :', 100*accuracy_score(df.y_act, \n",
        "                                                           df['y_pred_rf_'+str(0.5)]))"
      ],
      "execution_count": null,
      "outputs": [
        {
          "output_type": "stream",
          "text": [
            "For Threshold = 0.5\n",
            "Accuracy for Logistic Regression : 61.58141896179718\n",
            "Accuracy for Random Forest : 67.05165630156111\n"
          ],
          "name": "stdout"
        }
      ]
    },
    {
      "cell_type": "code",
      "metadata": {
        "id": "Lirv9_L0SZ85"
      },
      "source": [
        "def compute_precision(tp,fp):\n",
        "  if (tp+fp!=0):\n",
        "    precision=tp/(tp+fp)\n",
        "    return precision*100"
      ],
      "execution_count": null,
      "outputs": []
    },
    {
      "cell_type": "code",
      "metadata": {
        "id": "fXBCPFF9XVqR",
        "colab": {
          "base_uri": "https://localhost:8080/"
        },
        "outputId": "9164a118-db2e-49b0-9537-b47d52c90cb6"
      },
      "source": [
        "count=0\n",
        "while (count<=10):\n",
        "  tp_lr, tn_lr, fp_lr, fn_lr = compute_tp_tn_fn_fp(df.y_act,df['y_pred_lr_'+str(count/10)])\n",
        "  tp_rf, tn_rf, fp_rf, fn_rf = compute_tp_tn_fn_fp(df.y_act,df['y_pred_rf_'+str(count/10)])\n",
        "  print('For Threshold = ',count/10)\n",
        "  print('Precision for Logistic Regression :', compute_precision(tp_lr,fp_lr))\n",
        "  print('Precision for Random Forest :', compute_precision(tp_rf,fp_rf))\n",
        "  print(' ')\n",
        "  count+=1"
      ],
      "execution_count": null,
      "outputs": [
        {
          "output_type": "stream",
          "text": [
            "For Threshold =  0.0\n",
            "Precision for Logistic Regression : 50.0\n",
            "Precision for Random Forest : 50.0\n",
            " \n",
            "For Threshold =  0.1\n",
            "Precision for Logistic Regression : 50.04128294696729\n",
            "Precision for Random Forest : 50.0\n",
            " \n",
            "For Threshold =  0.2\n",
            "Precision for Logistic Regression : 50.05082592121982\n",
            "Precision for Random Forest : 50.01269518852355\n",
            " \n",
            "For Threshold =  0.3\n",
            "Precision for Logistic Regression : 51.02295081967213\n",
            "Precision for Random Forest : 50.52327447833066\n",
            " \n",
            "For Threshold =  0.4\n",
            "Precision for Logistic Regression : 56.570290858725755\n",
            "Precision for Random Forest : 55.471556886227546\n",
            " \n",
            "For Threshold =  0.5\n",
            "Precision for Logistic Regression : 63.55265112134264\n",
            "Precision for Random Forest : 68.1382476036182\n",
            " \n",
            "For Threshold =  0.6\n",
            "Precision for Logistic Regression : 70.20717829004961\n",
            "Precision for Random Forest : 82.89522399111439\n",
            " \n",
            "For Threshold =  0.7\n",
            "Precision for Logistic Regression : 75.96702599873177\n",
            "Precision for Random Forest : 94.3289224952741\n",
            " \n",
            "For Threshold =  0.8\n",
            "Precision for Logistic Regression : 82.66666666666667\n",
            "Precision for Random Forest : 100.0\n",
            " \n",
            "For Threshold =  0.9\n",
            "Precision for Logistic Regression : 90.05524861878453\n",
            "Precision for Random Forest : 100.0\n",
            " \n",
            "For Threshold =  1.0\n",
            "Precision for Logistic Regression : None\n",
            "Precision for Random Forest : None\n",
            " \n"
          ],
          "name": "stdout"
        }
      ]
    },
    {
      "cell_type": "code",
      "metadata": {
        "id": "bKvrMNKSYpWW",
        "colab": {
          "base_uri": "https://localhost:8080/"
        },
        "outputId": "5722bc7e-ad9a-469f-dcd3-f2489cea658d"
      },
      "source": [
        "from sklearn.metrics import precision_score\n",
        "print('For Threshold = 0.5')\n",
        "print('Precision for Logistic Regression :', 100* precision_score(df.y_act, \n",
        "                                                           df['y_pred_lr_'+str(0.5)]))\n",
        "print('Precision for Random Forest :', 100* precision_score(df.y_act, \n",
        "                                                           df['y_pred_rf_'+str(0.5)]))"
      ],
      "execution_count": null,
      "outputs": [
        {
          "output_type": "stream",
          "text": [
            "For Threshold = 0.5\n",
            "Precision for Logistic Regression : 63.55265112134264\n",
            "Precision for Random Forest : 68.1382476036182\n"
          ],
          "name": "stdout"
        }
      ]
    },
    {
      "cell_type": "code",
      "metadata": {
        "id": "ZsrGqhaMY2j9"
      },
      "source": [
        "def compute_recall(tp,fn):\n",
        "  if (tp+fn!=0):\n",
        "    recall=tp/(tp+fn)\n",
        "    return recall*100"
      ],
      "execution_count": null,
      "outputs": []
    },
    {
      "cell_type": "code",
      "metadata": {
        "id": "t9nsMZwBbFqF",
        "colab": {
          "base_uri": "https://localhost:8080/"
        },
        "outputId": "7f789214-d855-41b3-d750-30b03c383bfc"
      },
      "source": [
        "count=0\n",
        "while (count<=10):\n",
        "  tp_lr, tn_lr, fp_lr, fn_lr = compute_tp_tn_fn_fp(df.y_act,df['y_pred_lr_'+str(count/10)])\n",
        "  tp_rf, tn_rf, fp_rf, fn_rf = compute_tp_tn_fn_fp(df.y_act,df['y_pred_rf_'+str(count/10)])\n",
        "  print('For Threshold = ',count/10)\n",
        "  print('Recall for Logistic Regression :', compute_recall(tp_lr,fn_lr))\n",
        "  print('Recall for Random Forest :', compute_recall(tp_rf,fn_rf))\n",
        "  print(' ')\n",
        "  count+=1"
      ],
      "execution_count": null,
      "outputs": [
        {
          "output_type": "stream",
          "text": [
            "For Threshold =  0.0\n",
            "Recall for Logistic Regression : 100.0\n",
            "Recall for Random Forest : 100.0\n",
            " \n",
            "For Threshold =  0.1\n",
            "Recall for Logistic Regression : 100.0\n",
            "Recall for Random Forest : 100.0\n",
            " \n",
            "For Threshold =  0.2\n",
            "Recall for Logistic Regression : 99.98730803401446\n",
            "Recall for Random Forest : 100.0\n",
            " \n",
            "For Threshold =  0.3\n",
            "Recall for Logistic Regression : 98.75618733341794\n",
            "Recall for Random Forest : 99.8730803401447\n",
            " \n",
            "For Threshold =  0.4\n",
            "Recall for Logistic Regression : 82.94199771544612\n",
            "Recall for Random Forest : 94.06015991877142\n",
            " \n",
            "For Threshold =  0.5\n",
            "Recall for Logistic Regression : 54.30892245208783\n",
            "Recall for Random Forest : 64.05635232897576\n",
            " \n",
            "For Threshold =  0.6\n",
            "Recall for Logistic Regression : 30.536870161187966\n",
            "Recall for Random Forest : 28.417311841604263\n",
            " \n",
            "For Threshold =  0.7\n",
            "Recall for Logistic Regression : 15.204975250666328\n",
            "Recall for Random Forest : 6.333291026780048\n",
            " \n",
            "For Threshold =  0.8\n",
            "Recall for Logistic Regression : 6.295215128823455\n",
            "Recall for Random Forest : 0.9392054829293058\n",
            " \n",
            "For Threshold =  0.9\n",
            "Recall for Logistic Regression : 2.068790455641579\n",
            "Recall for Random Forest : 0.0634598299276558\n",
            " \n",
            "For Threshold =  1.0\n",
            "Recall for Logistic Regression : 0.0\n",
            "Recall for Random Forest : 0.0\n",
            " \n"
          ],
          "name": "stdout"
        }
      ]
    },
    {
      "cell_type": "code",
      "metadata": {
        "id": "hctMfFOCa-OX",
        "colab": {
          "base_uri": "https://localhost:8080/"
        },
        "outputId": "c626f8ad-8b32-408d-ab55-2efed8060c28"
      },
      "source": [
        "from sklearn.metrics import recall_score\n",
        "print('For Threshold = 0.5')\n",
        "print('Recall for Logistic Regression :', 100* recall_score(df.y_act, \n",
        "                                                           df['y_pred_lr_'+str(0.5)]))\n",
        "print('Recall for Random Forest :', 100* recall_score(df.y_act, \n",
        "                                                           df['y_pred_rf_'+str(0.5)]))"
      ],
      "execution_count": null,
      "outputs": [
        {
          "output_type": "stream",
          "text": [
            "For Threshold = 0.5\n",
            "Recall for Logistic Regression : 54.30892245208783\n",
            "Recall for Random Forest : 64.05635232897576\n"
          ],
          "name": "stdout"
        }
      ]
    },
    {
      "cell_type": "code",
      "metadata": {
        "id": "oYF1hlSGbiN4"
      },
      "source": [
        "def compute_f1_score(y_true, y_pred):\n",
        "    # calculates the F1 score. Complete function\n",
        "    tp,tn,fp,fn=compute_tp_tn_fn_fp(y_true,y_pred)\n",
        "    precision=compute_precision(tp,fp)\n",
        "    recall=compute_recall(tp,fn)\n",
        "    if precision is None:\n",
        "      return \"Non Existent\"\n",
        "    else:\n",
        "      f1_score=(2*precision*recall)/(precision+recall)\n",
        "      return f1_score/100"
      ],
      "execution_count": null,
      "outputs": []
    },
    {
      "cell_type": "code",
      "metadata": {
        "id": "6BQl8guud5c8",
        "colab": {
          "base_uri": "https://localhost:8080/"
        },
        "outputId": "f4fd77ff-9eac-477d-9e89-071ed69908b2"
      },
      "source": [
        "count=0\n",
        "while (count<=10):\n",
        "  print('For Threshold = ',count/10)\n",
        "  print('F1 score for Logistic Regression :', compute_f1_score(df.y_act, \n",
        "                                                              df['y_pred_lr_'+str(count/10)]))\n",
        "  print('F1 score for Random Forest :', compute_f1_score(df.y_act, \n",
        "                                                              df['y_pred_rf_'+str(count/10)]))\n",
        "  print(' ')\n",
        "  count+=1"
      ],
      "execution_count": null,
      "outputs": [
        {
          "output_type": "stream",
          "text": [
            "For Threshold =  0.0\n",
            "F1 score for Logistic Regression : 0.6666666666666667\n",
            "F1 score for Random Forest : 0.6666666666666667\n",
            " \n",
            "For Threshold =  0.1\n",
            "F1 score for Logistic Regression : 0.6670335252285811\n",
            "F1 score for Random Forest : 0.6666666666666667\n",
            " \n",
            "For Threshold =  0.2\n",
            "F1 score for Logistic Regression : 0.6670900546170455\n",
            "F1 score for Random Forest : 0.6667795032369992\n",
            " \n",
            "For Threshold =  0.3\n",
            "F1 score for Logistic Regression : 0.6728349690864284\n",
            "F1 score for Random Forest : 0.6710156050140702\n",
            " \n",
            "For Threshold =  0.4\n",
            "F1 score for Logistic Regression : 0.6726365086717102\n",
            "F1 score for Random Forest : 0.6978671312208674\n",
            " \n",
            "For Threshold =  0.5\n",
            "F1 score for Logistic Regression : 0.5856830002737476\n",
            "F1 score for Random Forest : 0.660342797330891\n",
            " \n",
            "For Threshold =  0.6\n",
            "F1 score for Logistic Regression : 0.4256147178489298\n",
            "F1 score for Random Forest : 0.4232514177693762\n",
            " \n",
            "For Threshold =  0.7\n",
            "F1 score for Logistic Regression : 0.2533840947546532\n",
            "F1 score for Random Forest : 0.1186964795432921\n",
            " \n",
            "For Threshold =  0.8\n",
            "F1 score for Logistic Regression : 0.11699492864724613\n",
            "F1 score for Random Forest : 0.018609329812649317\n",
            " \n",
            "For Threshold =  0.9\n",
            "F1 score for Logistic Regression : 0.040446650124069485\n",
            "F1 score for Random Forest : 0.0012683916793505834\n",
            " \n",
            "For Threshold =  1.0\n",
            "F1 score for Logistic Regression : Non Existent\n",
            "F1 score for Random Forest : Non Existent\n",
            " \n"
          ],
          "name": "stdout"
        }
      ]
    },
    {
      "cell_type": "code",
      "metadata": {
        "id": "qBrixsxLeFHq",
        "colab": {
          "base_uri": "https://localhost:8080/"
        },
        "outputId": "c9e7887a-7d01-4a5b-e697-2f7cd5be1546"
      },
      "source": [
        "from sklearn.metrics import f1_score\n",
        "print('F1 score for Logistic Regression :', f1_score(df.y_act, df['y_pred_lr_'+str(0.5)]))\n",
        "print('F1 score for Random Forest :', f1_score(df.y_act, df['y_pred_rf_'+str(0.5)]))"
      ],
      "execution_count": null,
      "outputs": [
        {
          "output_type": "stream",
          "text": [
            "F1 score for Logistic Regression : 0.5856830002737475\n",
            "F1 score for Random Forest : 0.660342797330891\n"
          ],
          "name": "stdout"
        }
      ]
    },
    {
      "cell_type": "code",
      "metadata": {
        "id": "_ehAwBc4ecS_",
        "colab": {
          "base_uri": "https://localhost:8080/",
          "height": 265
        },
        "outputId": "c43ab357-15b0-45fe-eac0-755d85be0893"
      },
      "source": [
        "import matplotlib.pyplot as plt\r\n",
        "\r\n",
        "threshold=0\r\n",
        "tpr_lr=[]\r\n",
        "fpr_lr=[]\r\n",
        "tpr_rf=[]\r\n",
        "fpr_rf=[]\r\n",
        "while (threshold/10<=1):\r\n",
        "  tp_lr, tn_lr, fp_lr, fn_lr = compute_tp_tn_fn_fp(df.y_act,df['y_pred_lr_'+str(threshold/10)])\r\n",
        "  tp_rf, tn_rf, fp_rf, fn_rf = compute_tp_tn_fn_fp(df.y_act,df['y_pred_rf_'+str(threshold/10)])\r\n",
        "  tprlr= tp_lr/(tp_lr+fn_lr)\r\n",
        "  fprlr= fp_lr/(fp_lr+tn_lr)\r\n",
        "  tprrf= tp_rf/(tp_rf+fn_rf)\r\n",
        "  fprrf= fp_rf/(fp_rf+tn_rf)\r\n",
        "  tpr_lr.append(tprlr)\r\n",
        "  fpr_lr.append(fprlr)\r\n",
        "  tpr_rf.append(tprrf)\r\n",
        "  fpr_rf.append(fprrf)\r\n",
        "  threshold+=1\r\n",
        "plt.plot(fpr_lr,tpr_lr,label='Logistic Regression')\r\n",
        "plt.plot(fpr_rf,tpr_rf,label='Random Forest')\r\n",
        "plt.legend()\r\n",
        "plt.show()"
      ],
      "execution_count": null,
      "outputs": [
        {
          "output_type": "display_data",
          "data": {
            "image/png": "[encoded data removed]",
            "text/plain": [
              "<Figure size 432x288 with 1 Axes>"
            ]
          },
          "metadata": {
            "tags": [],
            "needs_background": "light"
          }
        }
      ]
    }
  ]
}